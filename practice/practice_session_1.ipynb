{
  "cells": [
    {
      "cell_type": "markdown",
      "metadata": {
        "id": "0_7Q5Y_FkCLB"
      },
      "source": [
        "\n",
        "# **Tensors**\n",
        "\n",
        "Tensors are a data structure that are very similar to arrays\n",
        "and matrices. \n",
        "The tensor is PyTorch's basic building block and similar to numpy's ndarray\n",
        "\n"
      ]
    },
    {
      "cell_type": "code",
      "execution_count": null,
      "metadata": {
        "id": "0Pp96py0kCLD"
      },
      "outputs": [],
      "source": [
        "import torch\n",
        "import numpy as np"
      ]
    },
    {
      "cell_type": "markdown",
      "metadata": {
        "id": "iiy1MXBakCLE"
      },
      "source": [
        "Tensor Initialization\n",
        "------------------------------------\n",
        "\n",
        "Tensors can be initialized in various ways. Take a look at the following examples:"
      ]
    },
    {
      "cell_type": "code",
      "execution_count": null,
      "metadata": {
        "colab": {
          "base_uri": "https://localhost:8080/"
        },
        "id": "pIn1ej-AkCLE",
        "outputId": "f2e857c2-1dfa-4986-f526-eff8d6967e9d"
      },
      "outputs": [
        {
          "output_type": "stream",
          "name": "stdout",
          "text": [
            "tensor([1, 2, 3, 4])\n"
          ]
        }
      ],
      "source": [
        "# Directly from data\n",
        "x_tensor = torch.tensor([1, 2, 3, 4])\n",
        "print(x_tensor)"
      ]
    },
    {
      "cell_type": "code",
      "execution_count": null,
      "metadata": {
        "colab": {
          "base_uri": "https://localhost:8080/"
        },
        "id": "iyscpVJ0kCLF",
        "outputId": "e50d9f19-e35f-4b86-effe-7f9f9073a1fb"
      },
      "outputs": [
        {
          "output_type": "stream",
          "name": "stdout",
          "text": [
            "tensor([0.1000, 0.2000, 0.3000], dtype=torch.float64)\n"
          ]
        },
        {
          "output_type": "execute_result",
          "data": {
            "text/plain": [
              "array([0.1, 0.2, 0.3])"
            ]
          },
          "metadata": {},
          "execution_count": 14
        }
      ],
      "source": [
        "# From a numPy array\n",
        "np_array = np.array([0.1, 0.2, 0.3])\n",
        "x_tensor = torch.from_numpy(np_array)\n",
        "print(x_tensor)\n",
        "# (To numpy array)\n",
        "x_tensor.numpy()"
      ]
    },
    {
      "cell_type": "code",
      "execution_count": null,
      "metadata": {
        "colab": {
          "base_uri": "https://localhost:8080/"
        },
        "id": "_LWFvNzWkCLG",
        "outputId": "63a9b993-c248-4c44-e100-a8e2e5eb26f7"
      },
      "outputs": [
        {
          "output_type": "stream",
          "name": "stdout",
          "text": [
            "Ones Tensor: \n",
            " tensor([1., 1., 1.], dtype=torch.float64) \n",
            "\n",
            "Random Tensor: \n",
            " tensor([0.7380, 0.2565, 0.4213]) \n",
            "\n"
          ]
        }
      ],
      "source": [
        "# From another tensor:\n",
        "## The new tensor retains the properties (shape, datatype) of the argument tensor, unless explicitly overridden.\n",
        "x_ones = torch.ones_like(x_tensor) # retains the properties of x_tensor\n",
        "print(f\"Ones Tensor: \\n {x_ones} \\n\")\n",
        "\n",
        "x_rand = torch.rand_like(x_tensor, dtype=torch.float) # overrides the datatype of x_tensor\n",
        "print(f\"Random Tensor: \\n {x_rand} \\n\")"
      ]
    },
    {
      "cell_type": "code",
      "execution_count": null,
      "metadata": {
        "colab": {
          "base_uri": "https://localhost:8080/"
        },
        "id": "YKukdxRzkCLI",
        "outputId": "755a90e6-34ae-4f53-81e5-695b83034ac3"
      },
      "outputs": [
        {
          "output_type": "stream",
          "name": "stdout",
          "text": [
            "Random Tensor: \n",
            " tensor([[[0.9908, 0.5969],\n",
            "         [0.8770, 0.1183]],\n",
            "\n",
            "        [[0.4594, 0.8105],\n",
            "         [0.4706, 0.1099]],\n",
            "\n",
            "        [[0.4889, 0.2492],\n",
            "         [0.7532, 0.4352]]]) \n",
            "\n",
            "Ones Tensor: \n",
            " tensor([[1., 1., 1., 1., 1.],\n",
            "        [1., 1., 1., 1., 1.]]) \n",
            "\n",
            "Zeros Tensor: \n",
            " tensor([0., 0.])\n"
          ]
        }
      ],
      "source": [
        "# With random or constant values:\n",
        "\n",
        "# Need to determine the dimensionality of the output tensor.\n",
        "rand_tensor = torch.rand((3, 2, 2)) # Returns a tensor filled with random numbers from a uniform distribution on the interval\n",
        "ones_tensor = torch.ones((2, 5))  # Returns a tensor filled with the scalar value 1\n",
        "zeros_tensor = torch.zeros((2)) # Returns a tensor filled with the scalar value 0\n",
        "\n",
        "print(f\"Random Tensor: \\n {rand_tensor} \\n\")\n",
        "print(f\"Ones Tensor: \\n {ones_tensor} \\n\")\n",
        "print(f\"Zeros Tensor: \\n {zeros_tensor}\")"
      ]
    },
    {
      "cell_type": "markdown",
      "metadata": {
        "id": "N2XOvctakCLI"
      },
      "source": [
        "--------------\n",
        "\n",
        "\n"
      ]
    },
    {
      "cell_type": "markdown",
      "metadata": {
        "id": "BbkCqTD3kCLI"
      },
      "source": [
        "Tensor Attributes\n",
        "--------\n",
        "Tensor attributes describe their shape, datatype, and the device on which they are stored.\n",
        "\n"
      ]
    },
    {
      "cell_type": "code",
      "execution_count": null,
      "metadata": {
        "colab": {
          "base_uri": "https://localhost:8080/"
        },
        "id": "erm-hpBJkCLJ",
        "outputId": "46b6f39d-eec4-4ba2-f4f5-de614743bada"
      },
      "outputs": [
        {
          "output_type": "stream",
          "name": "stdout",
          "text": [
            "Shape of tensor: torch.Size([3, 4])\n",
            "Datatype of tensor: torch.float32\n",
            "Device tensor is stored on: cpu\n"
          ]
        }
      ],
      "source": [
        "tensor = torch.rand(3, 4)\n",
        "\n",
        "print(f\"Shape of tensor: {tensor.shape}\") \n",
        "print(f\"Datatype of tensor: {tensor.dtype}\")\n",
        "print(f\"Device tensor is stored on: {tensor.device}\")"
      ]
    },
    {
      "cell_type": "markdown",
      "metadata": {
        "id": "h4Zy6uKqkCLJ"
      },
      "source": [
        "--------------\n",
        "\n",
        "\n"
      ]
    },
    {
      "cell_type": "markdown",
      "metadata": {
        "id": "Nn7VTcljkCLJ"
      },
      "source": [
        "Tensor Operations\n",
        "---------------------------\n",
        "Tensors can conduct many operations. Take a look at the following examples:"
      ]
    },
    {
      "cell_type": "code",
      "execution_count": null,
      "metadata": {
        "colab": {
          "base_uri": "https://localhost:8080/"
        },
        "id": "3GVV4iYxJAHV",
        "outputId": "e4271580-f760-444e-fd04-3f6d727700f4"
      },
      "outputs": [
        {
          "output_type": "stream",
          "name": "stdout",
          "text": [
            "tensor([4, 6])\n",
            "tensor([4, 6])\n",
            "tensor([-2, -2])\n",
            "tensor([-2, -2])\n",
            "tensor([3, 8])\n",
            "tensor([3, 8])\n",
            "tensor([0.3333, 0.5000])\n",
            "tensor([0.3333, 0.5000])\n"
          ]
        }
      ],
      "source": [
        "a = torch.tensor([1, 2])\n",
        "b = torch.tensor([3, 4])\n",
        "\n",
        "# Basic Operation\n",
        "\n",
        "# addition\n",
        "c = a + b\n",
        "print(c)\n",
        "c = torch.add(a, b)\n",
        "print(c)\n",
        "\n",
        "# substraction\n",
        "c = a - b\n",
        "print(c)\n",
        "c = torch.sub(a, b)\n",
        "print(c)\n",
        "\n",
        "# multiplication\n",
        "c = a * b\n",
        "print(c)\n",
        "c = torch.mul(a,b)\n",
        "print(c)\n",
        "\n",
        "# division\n",
        "c = a / b\n",
        "print(c)\n",
        "c = torch.div(a, b)\n",
        "print(c)"
      ]
    },
    {
      "cell_type": "code",
      "execution_count": null,
      "metadata": {
        "colab": {
          "base_uri": "https://localhost:8080/"
        },
        "id": "2dmkBYAhL8Dx",
        "outputId": "1ed40ec0-1013-4390-bba8-6716d7afff76"
      },
      "outputs": [
        {
          "output_type": "stream",
          "name": "stdout",
          "text": [
            "torch.Size([10000, 3, 28, 28])\n",
            "torch.Size([10000, 3, 784])\n",
            "torch.Size([10000, 3, 784])\n"
          ]
        }
      ],
      "source": [
        "# Tensor Reshape\n",
        "\n",
        "# \"MNIST\"\n",
        "N, C, W, H = 10000, 3, 28, 28\n",
        "X = torch.randn((N, C, W, H)) # Returns a tensor filled with random numbers from a normal distribution with mean 0 and variance 1 (also called the standard normal distribution).\n",
        "\n",
        "print(X.shape)\n",
        "print(X.view(N, C, 784).shape) # Returns a new tensor with the same data as the self tensor but of a different shape.\n",
        "print(X.view(-1, C, 784).shape) # automatically choose the 0th dimension"
      ]
    },
    {
      "cell_type": "code",
      "execution_count": null,
      "metadata": {
        "id": "JIOM9iuLkCLK",
        "colab": {
          "base_uri": "https://localhost:8080/"
        },
        "outputId": "a90bb7c9-3428-42cd-ab11-0b7704c97a5e"
      },
      "outputs": [
        {
          "output_type": "stream",
          "name": "stdout",
          "text": [
            "y =  tensor([1., 1., 1.], device='cuda:0', dtype=torch.float64)\n",
            "tensor([0.1000, 0.2000, 0.3000], device='cuda:0', dtype=torch.float64)\n",
            "tensor([1.1000, 1.2000, 1.3000], device='cuda:0', dtype=torch.float64)\n",
            "tensor([1.1000, 1.2000, 1.3000], device='cuda:0', dtype=torch.float64)\n"
          ]
        }
      ],
      "source": [
        "# by default all tensors are created on the CPU,\n",
        "# but you can also move them to the GPU (only if it's available )\n",
        "if torch.cuda.is_available():\n",
        "    device = torch.device(\"cuda\")          # Default CUDA device\n",
        "    \n",
        "  \n",
        "    y = torch.ones_like(x_tensor, device=device)  # directly create a tensor on GPU\n",
        "    print(\"y = \",y)\n",
        "\n",
        "    x = x_tensor.to(device)\n",
        "    print(\"x = \", x)\n",
        "                           # or just use strings ``.to(\"cuda\")``\n",
        "    z = x + y\n",
        "    print(\"z = \", z)\n",
        "    # move to CPU again\n",
        "    z.to(\"cpu\")       # ``.to`` can also change dtype together!\n",
        "    print(z)\n"
      ]
    },
    {
      "cell_type": "markdown",
      "metadata": {
        "id": "BhqFFuujLEdD"
      },
      "source": [
        "[Broadcasting semantic](https://pytorch.org/docs/stable/notes/broadcasting.html): PyTorch operations support NumPy Broadcasting Semantics.\n",
        "\n",
        "[Operations](https://pytorch.org/docs/stable/torch.html) Try out some of the operations from the list.\n"
      ]
    },
    {
      "cell_type": "markdown",
      "metadata": {
        "id": "cP-awcFidll4"
      },
      "source": [
        "**Computation graphs**\n",
        "---------------------\n",
        "\n",
        "What's special about PyTorch's ```tensor``` object is that it implicitly creates a computation graph in the background. A computation graph is a a way of writing a mathematical expression as a graph. There is an algorithm to compute the gradients of all the variables of a computation graph in time on the same order it is to compute the function itself.\n",
        "\n",
        "**Example**: \n",
        "Consider the expression $e=(a+b)*(b+1)$ with values $a=2, b=1$. We can draw the evaluated computation graph as:\n",
        "\n",
        "![PS1.png](data:image/png;base64,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)\n",
        "\n",
        "In PyTorch, we can write this as"
      ]
    },
    {
      "cell_type": "code",
      "execution_count": null,
      "metadata": {
        "id": "dhHbSwThfHDZ",
        "colab": {
          "base_uri": "https://localhost:8080/"
        },
        "outputId": "9f96befd-7a3c-4f1f-9bfa-32af6636e734"
      },
      "outputs": [
        {
          "output_type": "stream",
          "name": "stdout",
          "text": [
            "c tensor(3., grad_fn=<AddBackward0>)\n",
            "d tensor(2., grad_fn=<AddBackward0>)\n",
            "e tensor(6., grad_fn=<MulBackward0>)\n"
          ]
        }
      ],
      "source": [
        "a = torch.tensor(2.0, requires_grad=True) # we set requires_grad=True to let PyTorch know to keep the graph \n",
        "b = torch.tensor(1.0, requires_grad=True)\n",
        "c = a + b\n",
        "d = b + 1\n",
        "e = c * d\n",
        "print('c', c)\n",
        "print('d', d)\n",
        "print('e', e)"
      ]
    },
    {
      "cell_type": "markdown",
      "metadata": {
        "id": "e3nTHcEx3Zf0"
      },
      "source": [
        "We can see that PyTorch kept track of the computation graph for us.\n",
        "\n",
        "[How Computational Graphs are Constructed in PyTorch](https://pytorch.org/blog/computational-graphs-constructed-in-pytorch/)"
      ]
    },
    {
      "cell_type": "markdown",
      "metadata": {
        "id": "gZqKYCvXfHfH"
      },
      "source": [
        "------------------------"
      ]
    },
    {
      "cell_type": "markdown",
      "metadata": {
        "id": "ORRoutGpFsig"
      },
      "source": [
        "# **Auto Grad**\n",
        "\n",
        "The autograd package provides automatic differentiation for all operations on Tensors.\n",
        "\n",
        "\n",
        "**Example:** Consider the function $f(x) = (x-2)^2$.\n",
        "\n",
        "Q: Compute $\\frac{d}{dx} f(x)$ and then compute $f'(1)$.\n",
        "\n",
        "We make a `backward()` call on the leaf variable (`y`) in the computation, computing all the gradients of `y` at once."
      ]
    },
    {
      "cell_type": "code",
      "execution_count": null,
      "metadata": {
        "id": "gAxD6ElSJczE",
        "colab": {
          "base_uri": "https://localhost:8080/"
        },
        "outputId": "8e1e52ab-630c-4cea-b7e2-7c8c131ae140"
      },
      "outputs": [
        {
          "output_type": "stream",
          "name": "stdout",
          "text": [
            "Analytical f'(x): tensor([-2.], grad_fn=<MulBackward0>)\n",
            "PyTorch's f'(x): tensor([-2.])\n"
          ]
        }
      ],
      "source": [
        "def f(x):\n",
        "    return (x-2)**2\n",
        "\n",
        "def fp(x):\n",
        "    return 2*(x-2)\n",
        "\n",
        "\n",
        "# requires_grad = True -> tracks all operations on the tensor. \n",
        "x = torch.tensor([1.0], requires_grad=True)\n",
        "\n",
        "y = f(x)\n",
        "y.backward() # Computes the sum of gradients of given tensors (y) with respect to graph leaves (x).\n",
        "#bakward is derivative\n",
        "\n",
        "print('Analytical f\\'(x):', fp(x))\n",
        "print('PyTorch\\'s f\\'(x):', x.grad) # Computes and returns gradient"
      ]
    },
    {
      "cell_type": "markdown",
      "metadata": {
        "id": "Puww5a-mJgrE"
      },
      "source": [
        "It can also find gradients of functions.\n",
        "\n",
        "Let $w = [w_0, w_1]^T$ (vector)\n",
        "\n",
        "Consider $g(w) = 2w_0w_1 + w_1\\cos(w_0)$\n",
        "\n",
        "Q: Compute $\\nabla_w g(w)$ and verify $\\nabla_w g([\\pi,1]) = [2, \\pi - 1]^T$"
      ]
    },
    {
      "cell_type": "code",
      "execution_count": null,
      "metadata": {
        "id": "BxzOdGM2Jokr",
        "colab": {
          "base_uri": "https://localhost:8080/"
        },
        "outputId": "bf938f6b-d0e1-4543-d76c-9556d4a247a5"
      },
      "outputs": [
        {
          "output_type": "stream",
          "name": "stdout",
          "text": [
            "Analytical grad g(w) tensor([2.0000, 5.2832])\n",
            "PyTorch's grad g(w) tensor([2.0000, 5.2832])\n"
          ]
        }
      ],
      "source": [
        "def g(w):\n",
        "    return 2*w[0]*w[1] + w[1]*torch.cos(w[0])\n",
        "\n",
        "def grad_g(w):\n",
        "    return torch.tensor([2*w[1] - w[1]*torch.sin(w[0]), 2*w[0] + torch.cos(w[0])])\n",
        "    # derivation with of respect w0; and derivation with respect w1\n",
        "\n",
        "\n",
        "w = torch.tensor([np.pi, 1], requires_grad=True)\n",
        "# to give values of w0 and w1; and keep track of the computation graph \n",
        "\n",
        "z = g(w)\n",
        "z.backward() # Computes the sum of gradients of given tensors z with respect to graph leaves (w0, w1).\n",
        "\n",
        "print('Analytical grad g(w)', grad_g(w))\n",
        "print('PyTorch\\'s grad g(w)', w.grad) # Computes and returns the sum of gradients of outputs (g'(w0), g'(w1)) with respect to the inputs (w0,w1)."
      ]
    },
    {
      "cell_type": "markdown",
      "metadata": {
        "id": "Cms8l4hzJtUN"
      },
      "source": [
        "**Using the gradient descent**\n",
        "------------------------------------------\n",
        "\n",
        "Now that we have gradients, we can use gradient descent (a optimization algorithm) for finding a local minimum of a differentiable function.\n",
        "\n",
        "![gradient_descent_demystified.png](data:image/png;base64,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)\n",
        "\n",
        "Let $f$ the same function we defined above. ( $f(x) = (x-2)^2$)\n",
        "\n",
        "Q: What is the value of $x$ that minimizes $f$?\n",
        "\n",
        "Solutions: During iterations,\n",
        "\n",
        "> Step1: Compute $f'(x)$\n",
        "\n",
        "> Step2: Update x. x_new = x_old - step_size * f'(x_old)\n",
        "\n",
        "\n",
        "\n"
      ]
    },
    {
      "cell_type": "code",
      "execution_count": null,
      "metadata": {
        "id": "WBh74CgPJzhl",
        "colab": {
          "base_uri": "https://localhost:8080/"
        },
        "outputId": "e2212a51-81dc-4356-8677-2e6807aaf61e"
      },
      "outputs": [
        {
          "output_type": "stream",
          "name": "stdout",
          "text": [
            "iter,\tx,\tf(x),\tf'(x),\tf'(x) pytorch\n",
            "0,\t5.000,\t9.000,\t6.000,\t6.000\n",
            "1,\t3.500,\t2.250,\t3.000,\t3.000\n",
            "2,\t2.750,\t0.562,\t1.500,\t1.500\n",
            "3,\t2.375,\t0.141,\t0.750,\t0.750\n",
            "4,\t2.188,\t0.035,\t0.375,\t0.375\n",
            "5,\t2.094,\t0.009,\t0.188,\t0.188\n",
            "6,\t2.047,\t0.002,\t0.094,\t0.094\n",
            "7,\t2.023,\t0.001,\t0.047,\t0.047\n",
            "8,\t2.012,\t0.000,\t0.023,\t0.023\n",
            "9,\t2.006,\t0.000,\t0.012,\t0.012\n",
            "10,\t2.003,\t0.000,\t0.006,\t0.006\n",
            "11,\t2.001,\t0.000,\t0.003,\t0.003\n",
            "12,\t2.001,\t0.000,\t0.001,\t0.001\n",
            "13,\t2.000,\t0.000,\t0.001,\t0.001\n",
            "14,\t2.000,\t0.000,\t0.000,\t0.000\n"
          ]
        }
      ],
      "source": [
        "x = torch.tensor([5.0], requires_grad=True)\n",
        "step_size = 0.25\n",
        "\n",
        "print('iter,\\tx,\\tf(x),\\tf\\'(x),\\tf\\'(x) pytorch')\n",
        "for i in range(15):\n",
        "    y = f(x)\n",
        "    y.backward() # compute the gradient\n",
        "    \n",
        "    print('{},\\t{:.3f},\\t{:.3f},\\t{:.3f},\\t{:.3f}'.format(i, x.item(), f(x).item(), fp(x).item(), x.grad.item()))\n",
        "    \n",
        "    x.data = x.data - step_size * x.grad \n",
        "    # gradient descent uptade rule\n",
        "      \n",
        "    x.grad.zero_()\n",
        "\n",
        "    # We need to set the gradients of x to zero. \n",
        "    # If not, the gradient would be a combination of the old gradient, which have already been used to update the model parameters, and the newly-computed gradient. \n",
        "    # It would therefore point in some other direction than the intended direction towards the minimum (or maximum, in case of maximization objectives).\n",
        "\n",
        "    #x.grad.zero_()"
      ]
    },
    {
      "cell_type": "markdown",
      "metadata": {
        "id": "DmzZmlPBRdrc"
      },
      "source": [
        "**Backpropagation (BP)**\n",
        "----------------------------------------\n",
        "Four steps:\n",
        "\n",
        "1) Forward pass: Compute Loss\n",
        "\n",
        "2) Compute local gradients\n",
        "\n",
        "3) Backward pass: Compute  $\\frac{dLoss}{dWeights} $ using the Chain Rule\n",
        "\n",
        "4) Update weights\n",
        "\n",
        "**Example**\n",
        "Consider an example: $\\hat{y} = w*x$ and $loss = (\\hat{y}-y)^2$, where x = 2, y = 1.\n",
        "\n",
        "![PS2.png](data:image/png;base64,iVBORw0KGgoAAAANSUhEUgAACTEAAAO2CAMAAAANUrFWAAAAAXNSR0IArs4c6QAAAARnQU1BAACxjwv8YQUAAAMAUExURQAAAAAAAAAAAAAAAAAAAAAAAAAAAAAAAAAAAAAAAAAAAAAAAAAAAAAAAAAAAAAAAAAAAAAAAAAAAAAAAAAAAAAAAAAAAAAAAAAAAAAAAAAAAAAAAAAAAAAAAAAAAAAAAAAAAAAAAAAAAAAAAAAAAAAAAAAAAAAAAAAAAAAAAAAAAAAAAAAAAAAAAAAAAAAAAAAAAAAAAAAAAAAAAAAAAAAAAAAAAAAAAAAAAAAAAAAAAAAAAAAAAAAAAAAAAAAAAAAAAAAAAAAAAAAAAAAAAAAAAAAAAAAAAAAAAAAAAAAAAAAAAAAAAAAAAAAAAAAAAAAAAAAAAAAAAAAAAAAAAAAAAAAAAAAAAAAAAAAAAAAAAAAAAAAAAAAAAAAAAAAAAAAAAAAAAAAAAAAAAAAAAAAAAAAAAAAAAAAAAAAAAAAAAAAAAAAAAAAAAAAAAAAAAAAAAAAAAAAAAAAAAAAAAAAAAAAAAAAAAAAAAAAAAAAAAAAAAAAAAAAAAAAAAAAAAAAAAAAAAAAAAAAAAAAAAAAAAAAAAAAAAAAAAAAAAAAAAAAAAAAAAAAAAAAAAAAAAAAAAAAAAAAAAAAAAAAAAAAAAAAAAAAAAAAAAAAAAAAAAAAAAAAAAAAAAAAAAAAAAAAAAAAAAAAAAAAAAAAAAAAAAAAAAAAAAAAAAAAAAAAAAAAAAAAAAAAAAAAAAAAAAAAAAAAAAAAAAAAAAAAAAAAAAAAAAAAAAAAAAAAAAAAAAAAAAAAAAAAAAAAAAAAAAAAAAAAAAAAAAAAAAAAAAAAAAAAAAAAAAAAAAAAAAAAAAAAAAAAAAAAAAAAAAAAAAAAAAAAAAAAAAAAAAAAAAAAAAAAAAAAAAAAAAAAAAAAAAAAAAAAAAAAAAAAAAAAAAAAAAAAAAAAAAAAAAAAAAAAAAAAAAAAAAAAAAAAAAAAAAAAAAAAAAAAAAAAAAAAAAAAAAAAAAAAAAAAAAAAAAAAAAAAAAAAAAAAAAAAAAAAAAAAAAAAAAAAAAAAAAAAAALMw9IgAAAD/dFJOUwABAgMEBQYHCAkKCwwNDg8QERITFBUWFxgZGhscHR4fICEiIyQlJicoKSorLC0uLzAxMjM0NTY3ODk6Ozw9Pj9AQUJDREVGR0hJSktMTU5PUFFSU1RVVldYWVpbXF1eX2BhYmNkZWZnaGlqa2xtbm9wcXJzdHV2d3h5ent8fX5/gIGCg4SFhoeIiYqLjI2Oj5CRkpOUlZaXmJmam5ydnp+goaKjpKWmp6ipqqusra6vsLGys7S1tre4ubq7vL2+v8DBwsPExcbHyMnKy8zNzs/Q0dLT1NXW19jZ2tvc3d7f4OHi4+Tl5ufo6err7O3u7/Dx8vP09fb3+Pn6+/z9/usI2TUAAAAJcEhZcwAAMsAAADLAAShkWtsAAGy/SURBVHhe7d13wBxVucfx9wIBKaFJ70nEUHOB0BFMEBERqQHiDYR6EcilF2liQJDQkd5CkBKCgAQQqRKQCyId6RCFUELovV7g3JnZ3+6c2Z3d2TKzO+X7+SfvPmd2yu7JO88755kzfQAAAAAAAAAAAAAAAAAAAAAAAAAAAAAAAAAAAAAAAAAAAAAAAAAAAAAAAAAAAAAAAAAAAAAAAAAAAAAAAAAAAAAAAAAAAAAAAAAAAAAAAAAAAAAAAAAAAAAAAAAAAAAAAAAAAAAAAAAAAAAAAAAAAAAAAAAAAAAAAAAAAAAAAAAAAAAAAAAAAAAAAAAAAAAAAAAAAAAAAAAAAAAAAAAAAAAAAAAAAAAAAAAAAAAAAAAAAAAAAAAAAAAAAAAAAAAAAAAAAAAAAAAAAAAAAAAAAAAAAAAAAAAAAAAAAAAAAAAAAAAAAAAAAAAAAAAAAAAAAAAAAAAAAAAAAAAAAAAAAAAAAAAAAAAAAAAAAAAAAAAAAAAAAAAAAAAAAAAAAAAAAAAAAAAAAAAAAAAAAAAAAAAAAAAAAAAAAAAAAAAAAAAAAAAAAAAAAAAAAAAAAAAAAAAAAAAAAAAAAAAAAAAAAAAAAAAAAAAAAAAAIJ3m33L3MY7tVptZgXqW2nIvZ7ldfqKXAAAAhXGbqZigUKjBd2op8/WvFAIAACiG7ysN8hyhYIhZpmoZx22KAQAAFMQ9SoM8yytY6yQt4dpcMQAAgIL4idIgzw0K1lhTC7huVgwAAKAwLlAi5NlZwWqVIibHEMUAAAAKY763lAm5ZvRTNGhPNbt+oxgAAECB7KZUyHOeggELfKlWx+OKAQAAFMqflQx5NlbQdqHaXJsoBgAAUCgrKRnyPKKgZWM1uS5QDAAAoGCOVjrk+bWCvmfV4nhrHsUAAACK5gklRJ5FFSw7THHXbooBAAAUTmBSppsUlEEKu/6sGAAAQAEFJmX6LwVLblbUtYJiAAAABTTfB8qJXG8p6NlWQdfRigEAABRSYFIm64a4//hGMcdjigEAABTULUqLPCsr2Nd3liKujRTr3Nix+gEAACBLApMyVSb2HqqA63zFOjZsijHD9DMAAECWBCZl2k/BF/Ta8eZ3FOvUWHdtU/QCAAAgU57xEiMphQ7QK9dOpVDHvITJGMblAABAFm1SSmVKJruR+fTCVTVLU7vcEbkSxuUAAEAWjVcu49nQCdyqn12DSst0SBeYPAoBAABkyXyfKZdxvdvXt4V+dB2uZTpUucLkoJQJAABk0e7KZTy/7dMPrke1RMfslIlSJgAAkEV/VS7jmaB/XRtogY4N0wo9lDIBAIAMCkzKZDlb7TGwK5kYlwMAAFl0nHKZoBkzqTkOjMsBAICsm6pcJmCkGmPBuBwAAMi6TZXK2K5XW0wCKZNiAAAAWXK5UhnLEmqKC6VMAAAg4+b7WrlMxUFqiQ+lTAAAIOP2VipT9g/FY0QpEwAAyLpPlcrInxSOE+NyAAAg245RJlOxnRrixLgcAADIspWVx/hmqCVWWreHcTkAAJAx9yiNsZyhpjhRygQAALJrHyUxAWurMU6UMgEAgKxa9FslMQEPqjVWlDIBAICMuk4pTJUD1RwnxuUAAEA2/UIJjOtV/etZUgvEiXE5AACQRf3eUgLjeHVJ/eC5VkvEyh6XI2UCAAAZcYHSF9fQvjP0k2eEFokVpUwAACBzfqzkxfUH5/UX+tk1febSMrGilAkAAGTO08pdXO7rbfWz5zRvkZhRygQAADLmeKUurp29yN/1yrOuF4oZ43IAACBTVlXi4nq0FFpULz0PlGLxYlwOAABkiv14lOUUO0WvPQcoGKtAyqQYAABASh2grMV1imJ9fW8q4hmgYKwoZQIAAJmx5P8pa3F8pZhjK4U8f1QwXpQyAQCArLhWOYtra8Vctyjm2V7BWFHKBAAAMmK0MhbXbYp5FlTQ8/psisaKcTkAAJAJs7+hjMW1rIIl9pwDyUzKxLgcAADIhPOVr7iOUqzsecU9GygYL63cw7gcAABIp58qW3FNV6zi52rw/F3BeDHFAAAASL9/KllxbaGY7yq1eA5RMF6UMgEAgLQ7TrmKa6JilvmsiQeM+Z6i8aKUCQAApNsaylQ8AxW0Hao2z7UKxospBgAAQLrdpUTFdbhiQf9Qq2eUgvFiXA4AAKTZfspTXE8oVmUjNXtenUPReDEuBwAA0mvAF0pTXJspWM2efcCcqWDMtHYP43IAACBVrlaS4rpcsRr939YSnuGKxotSJgAAkFajlKK4vllawVp7aBHPPxSMGaVMAAAgpZ5WiuI6VLEwt2sZTzLF35QyAQCAdNpMCYrrAcVCra6FPDcrGDPG5QAAQDrdoQTFmClDFAr3y9e1nDEPr6pY3BiXAwAA6dT/hyN232fUiJ8todf1Dd5mxI777D5iw8X0OgH2uBwpEwAAQChKmQAAAKJQygQAABCJUiYAAIBIjMsBAABEYVwOAAAgUiBlUgwAAAABlDIBAABEopQJAAAgCqVMAAAAkRiXAwAAiMS4HAAAQCRlSx7G5QAAAMJQygQAABCJUiYAAIBIlDIBAABEYVwOAAAgEuNyAAAAkexxOVImAACAUMqWPJQyAQAAhKGUCQAAIBKlTAAAAJGYYgAAACAK43IAAACR7HE5oxgAAAACKGUCAACIRCkTAABAFEqZAAAAIjEuBwAAEIlxOQAAgCiMywEAAEQKpEyKAQAAIIBSJgAAgEiUMgEAAEShlAkAACAS43IAAACRGJcDAACIpGzJw7gcAABAGEqZAAAAIlHKBAAAEIlSJgAAgCiMywEAAERiXA4AACCSPS5HygQAABCKUiYAAIAolDIBAABEopQJAAAgEuNyAAAAURiXAwAAiBRImRQDAABAAKVMAAAAkShlAgAAiEIpEwAAQCTG5QAAACIxLgcAABBJ2ZKHcTkAAIAwTDEAAAAQiVImAACASJQyAQAARGGKAQAAgEiMywEAAERiXA4AACCSsiUP43IAAABhKGUCAACIRCkTAABAJEqZAAAAojAuBwAAEIlxOQAAgEj2uBwpEwAAQChKmQAAAKJQygQAABCJUiYAAIBIjMsBAABEYVwOAAAgUiBlUgwAAAABlDIBAABEopQJAAAgCqVMAAAAkRiXAwAAiMS4HAAAQCRlSx7G5QAAAMJQygQAABCJUiYAAIBIlDIBAABEYVwOAAAgEuNyAAAAkexxOVImAACAUJQyAQAARKGUCQAAIBKlTAAAAJEYlwMAAIjCuBwAAEAke1zOKAYAAIAASpkAAAAiUcoEAAAQhVImAACASIzLAQAARGJcDgAAIArjcgAAAJECKZNiAAAACKCUCQAAIBKlTAAAAFEoZQIAAIjEuBwAAEAkxuUAAAAiKVvyMC4HAAAQhlImAACASJQyAQAARKKUCQAAIArjcgAAAJEYlwMAAIhkj8uRMgEAAISilAkAACAKpUwAAACRKGUCAACIxLgcAABAFMblAAAAIgVSJsUAAAAQQCkTAABAJEqZAAAAolDKBAAAEIlxOQAAgEiMywEAAERStuRhXA4AACAMUwwAAABEopQJAAAgEqVMAAAAUZhiAAAAIBLjcgAAAJEYlwMAAIikbMlDygQAABCGUiYAAIBIlDIBAABEopQJAAAgCuNyAAAAkRiXQwv87sIVSQBAsdjjcqRMaIhBXABAcXEWRHOG2V2FzgIAKBhKmdCUQEdxkTIBAAqFUiY0oSZhImUCABQM43KIZOfVFfQWAECRMC6HKKEJE9ckAQDFEkiZFAN8dRImUiYAQLFQyoRGAjfJBe+Ym8JFSQBAgVDKhPoCOZLTPYJXnEiZAADFQSkT6glMw1S6pBS8b47+AgAoDsblEC6QHVWuPwYuM3FVEgBQHIzLIUwglbauJpEyAQAKSic/D+MsKLETo6q8qEETAAD5RSkTalhZUe1NcaRMAIBCsk+AlDLBYXWJ0JQoqh0AgDyilAkBfoeoN+sSKRMAoIDyOy635Ebb737A0Seff+WNdz303OsfmY9ef+6hu2688vyTjz5g9+03WlJLIcCaVaBBNuTnTKRMFfS34plr6Fajxxx2/JkTrrn1vn++9M6XX77z0j/vu/WaCWcef9iY0VsNnUuLAciL/I3LzbnayN9MfPhjHVM9Hz888TcjV5tT74HHz58bT+vtdxqGculvRTRwk/3OufMVfbd1vXLHOftuMlBvAZADgbkKFcuoOTbe56zbp+lYmjPt9rP22XgOvb/o/IQp6tqRfy2qyCkT/a2AVhl93B+f+FxfZ1M+f/yPx41eRW8HkG35KGWaacNj79FBtO6eYzecSespMP/KURPDs5WFC5oy0d8KaIW9Js3QV9iyGZP2WkGrAZBdOShlWveI277UAbTry9uOWFdrKyp9Ek3mQJWUqYC1TPS34hm062WtXU4MMe2yXQdpdQAyKtulTKsdeMOH2vlOfXjDgatprUWk1LnppLnUb4qWMNHfimeJURe9oO+sYy9cNGoJrRZAFmV3XG7N06Zrv+My/bQ1te7icVOmVlJmN2UqVsJEfyueRfZ/QN9VbB7YfxGtHEDmZHRcbqlDH9E+x+uRQ5fSFopmWKvf/tgiJUz0twIaOVnfUswmj9QGAGSNPS5nFEu5fjverP1Nws079tN2ABf9rYCGX/CBvqAEfHDBcG0GQLZkrZRpo4s/0d4m5ZPxP9a2APpb8Sx/zPP6bhLz/DHLa2MAsiRLpUxLHzdVe9rI109ff9Hpxx6y56jNh68+eLG5Z5p7scGrD9981J6HHHv6Rdc//bWWamTqcUtriygy+lsB7d3U3BHT7/7D2eOO3HeXET9Zd8iABWabbYEBQ9b9yYhd9j1y3Nl/uLupkrd79tYGAWRHdkqZvn+O9rKuGfdcePDPB2vxegb//OAL74mcXOWcqNUg75rpbxfR33Kl38Gv6gup54snrjlu9Frzafk65ltr9HHXPPGF3lLPqwczIgtkTUbG5YaM1z6Gu/d3O68zvxZtxvzr7Py7e/XecOOHaFEUEf2teOY+6m19GaGmjt+vtSefDNxkv/ENr1K+fdTcWhRARmRhXG6NK7SDYR46+WftPbZrrs1OeVjrCHPlGloORUN/K56Fjm9QsvbqFbsvq+VatOzuVzS4bvXJ8QtpOQDZoP+8nlSOy61/rfau1pNnjVhAS7VngRFnP6l11bp2fS2Vc8Nc+hn0twJa6tS6FWdvXTNmJS3VppXGXPOWVlbj61OZYgLIkkApk2IpstFN2rVqH128QzyT6C6xw8UfaZ3V/ryRlskv/+G6Da8wellVgBryhv5WPIPP1edf47YDh2qZDg098Datssa5FLEBGZLmUqY179COVbtpVJzPNJ1pVL3z5B35nprZz5dcDXKmwHKeXE5iSX8rngXO12df7fHDB2iRWAw4/HGtuNr5nV24BNBNqS1lmvVk7VWVhw5aXEvEZ/GDHtLaq5w8q5bIn2C+5Kj/7WsBm1pyhP5WQHu/pw8+aMYZ62iBGK1zRvhtk+/tpQUApF5apxjYIfSh4a+dsrra47b6Ka9pGwHTRqk9bwLfe0m9lClk0Qw+vTnCKPpb4axXe/HUNWlLtcduy0naRNCU9dQOIO1SOS630g3ao4ArNlNzMjYLvUvqhg5LP9Mp8IycsnoJ87CxNYvnLGNaMUX9bUU1I1lz/V6feMCUPedVeyLm3TM0SztjLrUDSLkUjssdo92xfXv6MmpNzjKnf6ut2Y5Ra46EJkwN06Cqd+SrkIn+Vjy7hk3PPbkLj30bHvac3+m7qBVAyuk/rScN43JbPaOdsXx2wiJqTdYi4z7TFi3PbKXWvAhPmBp/+1pEFMwF+lvxDL1Fn7VtUgLVS2HWCRucuyWmG/MAJCtdpUwDJmpPLO+PjXg2QYzmG/u+tmqZGOuNM71W/sKnjK0abmt0kSkwmpCjS0z0t+KZZZw+Z9uEVdXaBatO0EZt42ZRK4A0s0+bvS5Q2flL7YjvjcNmV2N3zH74G9qy78ud1ZgHOiYvOQ6ky00Py+UnY6K/Fc8Gz+pTtpy3nBq7ZLnztGHLsxuoEUCapaeU6Szthe/lA+KcDKc5Mx3wsrbuO0tt2VfKfcrZUSATanCFMZBaKZZ99LfiOVCfsO+bLtSs1Vjm9G+0ed+BagOQYmkZl1vpfu2D79dq6rZfa/u++3Ny05xSpMrXbKfLDS4y2ZlVXi4x0d+Kp3/tKOyE+GfcasritWNzV/ZXG4D0sk+HvRuX26lmhOS6Ll8rtyxX84SxL3dSU6YpO/aTHjtdbjJjUijr6G/FM+x5fboVj26qph7Y9FHtRMXzPS8kBRCpyQsNiTpT26+YOlItvTFyqvaj4ky1ZFkpQbKuEjU53GZlTDm5xER/K56D9clWfHOYWnrksJqhuYPVAiC9el7KtNJ92nrFuJnV1Cszn6A9qbgvByMl7uNRAkmx/dXX/wvXyphy8Wcw/a145rlKn2vFVYPU1DODavdpHjUBSKtelzLt9IW2XZaK+Ulqpm35Ig8jJWODl5Lsr75+suznVbm4xER/K54NX9SnWvbM1mrpqa2r5wN7cUO1AEir3pYyVY+QvLGrGnpt1+o7v/M3UtJcIZMWcOQhY6K/Fc+h+kQrUtOR7d+9nkPVACCtejguN+uN2m7Z+LnV0nv9x2ufym7M3fPldWAehWpYaZUiGUZ/K6DqiSTuStED/Fa8SztVxtwSQMr1blxu4Xu11bK91ZAOe2uvyu5dWA150Uwhk/9ncPYvMdHfCqj6sccnKZ4SJ2m3yq5QHEBKBVImxbph8JPapjy+lhrSYq3HtWfy5GA15IQ9KFAvY/KzKgWyi/5WPHPcrM9SPtheDamx/QfaNbl5DjUASKfelDKt/Zo2KePT93ilWapGSl5bWw350Ezpt5pzcImJ/lY8i1dNVXpnz2+RqzXoTu2c3N+jeTUBNKkXpUybfKINSrpGSMqqRko+2UTxfNBRuepkyn4yrUBm0d+KZ6Xn9DnKOMVTpur5wM8xtQSQaj0oZfqFtiZPpG2EpGytJ7SH8gvFc8HKlKMypqxfYqK/Fc/6b+pDLHlvW8VTZ9v3tIslb66vOIBU6vq43F7amFySvhGSslku0T7KXorngX1tUaEqasz8JSb6W/Fs8ZU+wpLbByieQgNu106WfLWF4gBSqcvjckdoUzJG4XQao72UIxTOAfvaYuilxbxcYqK/Fc/O+vzkBIVTqmra950VBpBK+p/qSXxcruqW2tTdv1Jle+2npOz+5A40nzHpdUbR34rnAH16cojCqXWIdlQOUBhAGnVzioEjtZmSjzZWOL02/kj7WnKkwtmnA3KFXkVSW8YvMdHfiqfqCtPuCqfY7tpV4SoTkGbdK2UK1pRMW1PhNFtzmva2JDe1JRGl3/m4xER/K54t9MmVfJuK58hF2fpb7W4JtUxAmnWrlCk45vDEsgqn27LBW5jSPq7TrIjS73Jzpi8x0d+KZ/1A0fe7wxVOueHvaoc9X3HHHJBiXZpi4MfaQsndCyqcdgverT0u+bHCGWd/5wpZcnGJif5WPCsFphV4cRWFU2+VF7XLnjeZlwlIsa6Myw39UFvwTE7vXd7VZpmsffZ8OFThbGtc+l3uEFm+xER/K57FAxNXPri0whmw9IPaac9zzP4NpFgXxuUGvKT1eyYomg0TtNeelwYqmm06GldtxqSGLF9ior8VzxyBR6PcNrfCmTD3bdptz/08Yw5IMf1H9SSSMs37iNbuOV3RrDhd++15ZF5FM61R6XcOLjHR3+I0zzKrbrjN1usMmF2vUyrw8N1pCmZGoOb/ZgUBpFDipUx3aN2eSxTMjsB0zHcomGnWSGxNxqR4li8x0d/isvxek2ZoR4x5/39P/6/vqyF1rtBOem5TMEMCV5muUBBACiVcynS1Vu2ZrGCWBGpLrlYwyxqUfufgEhP9LR79D31Z+2B54bCF1JwqZ2n3PA9makiuZO5ALdNZigJIoURLmU7Vij1/66dolvT7m/bec6qiGdYgY1I0w5eY6G+xGHjyp9qBapemr7jqUO2a58UMFX37lg7cMXeoogDSJ8lxucDj459aWNFsWfgp7b8nBw+W15G4gl939i8x0d9isfvn2nqYtPWODbVfnnczM61A0CqBeZk2VBRA+iQ3LresfZ/39OUVzZrlp+sIXB9mYzrERqyLisGMScHsJkz0tzjMc5m2Xce5Wi4d5rEvz3ybkYkraw23Z/9+cR5FAaSPPS4Xa8r0V63U9fm6CmbPevaf3H9VMLusDDmQHJXjeplB9LcYfPcxbbmuObVkKlylnfJk4tEo4bbWIXiuUhBACiVUynSiVunZTMEs2kzH4DlRwcyyhmED+bFi2b3ERH+LwUz2L4NwaSplOlj75NlNwUzaTQfhOVhBAOmTTCnTtlqhZ7SC2TRaR+HZVsGsqpMxZf4SE/0tDn/SVhtYQ4umQOA3V8bTjEDyl8RELwDikUQp0zJ2MeP+CmbV/joO17vLKJhVOg6XIi5FMnuJif4Wh8CVDmOm3XXhr0Zsseuh5937viKO9Dzxrv/z2iXXCQpm1gk6ENfz/RUEkD4JjMvZ07Jdrlh2Xa4jcWVwjryA0NJvJc3xlv53k93fsj8LoD0pYzf7m/2ImX8d8j1FXVtdo7BZS5Heu1J75LpdsQy7XYfimqgYgPSJf1zuOK3M9VyqakXbMqf9qM/jFMwo64pi5asuxzJ7iSnQ3+ZSMLvm6k1/O0pbdF1c/YizhQ8o5VOpuQnxQG93St4boGCGDXhPB+M6UEEA6RNImRTrxJZaleeHCmbZD3Usni0VzCbru64kSMqYMpswBfpbHopAAv8hu9bfrDzt7woF/OoDY97Szz23gfbUk/XqQk+gFG8DBQGkT7ylTAu9qVW58nHjh12Y+WYqnxbRLOtkXP6my9++XmYO/S0Wq2h7rlUVC5r35BfTMiX1LM9qT13jFMy4cToc17OzKAggfWItZbpQK3JNUizrJul4XBcqlk06CEc5Y9LLzF5ior/FwhqUG6NQetnZxZ2KZd6dOiBXTrJAIJfiLGXaSKtxTc3LBLbzTNURuTZSMJOs5LgU0CWmzJZ9B/rbvApm3bzd72+3aGvGfJv6e7WGak9dHwxSMPMGfaBDcg1VEED6xDgu94BW48p0bhFgn5cfUCyTrG/ae11OljN7iYn+Fo/HtTVj7lIkvfzszpjtFcuB7XVIrlsUA5BCsY3L2fewHKZYHhymY3Jl+VYW63KidzFRX3xmEyb6W0z8arBLFEmtXbSjrpMUy4WTdFCuXRUDkEL6f+rpYFxuic+0Dse1iuXDtToqx2dLKJZBVRlT1su+6W8x6adtOS5VKK3msh5XnP7rYS25S4flmJ79aTKA/IqplOlSrcHx8aKK5cOiH+u4HGk/pzSiQ3C415WsHzOJ/hYXv4jmfxVJqzO0n64VFcuJFXVYrt8rBiCFYill2lQrcO2nWF7sp+NybapYBvnjr863rC89swkT/S02/kNH3lQkpdbTbroy23HrsX8Lr6cYgBSKo5TpUb3fcZ9C+XGfjszxqEIZZGdMWR+To7/F5x5tynGQQulk/Z56RqEceUaH5sjs7atAEcQwLmeXqw5XLD+G68hc2S0y9r/mKZkfk6O/xcd6euL0xRVLo720k66tFcuRrXVorr0VA5BCHY/LDfxa73acp1ienKdjc3w9ULHMsRLjrI/J0d9itKO25Ho8vSnTAtbz165SLFeu0sE53ltAMQApZI/LtZMyWY8Tf/e7iuXJd9/V0TmuVCx7dAA+xbOH/hajhbQhz3PrK5o652sPHd/kZu5K26BvdHiO8xUDkEadlTKtoXe69lIsX+wRgTUUyxz7S3Zl9hIT/S1WVtmUYx9FU2awds+Vp+m3LPZQ82DFAKRQZ6VMViVEXosWrWzjcoUypypjymzCRH+Ll1025ZiayqfLnau9c2T47ovGrNsZzlUIQBp1UspkzyWS1xtj7TubszoVjP0dOxTNHvpbzKxsxPOv9FUeL6Vdc2V4ho/G7CkzllIMQBp1MC53gd7myO/ka7/XETouUChrAhcSM3yJif4Ws3mf1ZYqXj9xJbWlxKnaMccEhXJogg7RcapCANKo/XG5gXqT4/3UP/y8bf3f1zE6Mnq7XOArzm7CZPe3uRXLn672t7W1Idtdu86q1hRYyL858ps0z4DQocX94u+vF1IMQBoFxmwUa4r17IJjFMqjY3SMjjMUyhrtvkehDKK/xW9nbSng4zNWUHPPHa9dcpyuUC6droN0HK8QgFRqs5Rp0W/1HmO+yOOd3mXf/UJHacy3GX2QmTXymt1LTPS3JKz2d20r6LqN1d5bc3+i/XEso1guLaODdHyS3+unQC60V8p0gt7hOEmhfDpJR+k4QaGM8b/g7CZM9LeEWJVCtn/sqvZeOko748jjhKUWa+7SoxQCkEptlTLN86ne4FhCsXxaQkfp+HQexbKlchUxw/fk09+Sss2b2lqVyT2/bavf29oVx3KK5dRyOkzH2/0UA5BK7YzLHa3lHWcplFdn6TgdRyuULZXvt72HB6YC/S0xCx79hjYX9MGOWqBXDtaOOHJ8o1yJdbvcwQoBSKfWx+VmfUeLO5ZVLK+W1XE63knRfURNq1xDzPCYHP0tUXs8pg0GjZ9D7b3xqnbDsapCubWqDtTxqkIAUkr/Vz1NXYg4SAs7xiuUX+N1pI6DFMqScj6c4YSJ/pa0zf+iLQY8M7+ae2Fv7YRjkkI5NkmH6kjfRKIAbIFSJsUaelDLOv5Tofz6Tx2p40GFMqQyJqfXmUR/S9xKp32gjVpuVWMv3KN9cKyjUI6to0N13KMQgJRqsZRpNS3qmKhQnk3UsTpWUygz8lDERH/rin6//Ie26rtIbd23vPbAMVmhXJusg3UsrxCAlGqtlOlELelYW6E8s+ZGPlGhrMhDERP9rWt+dqu2W/EDtXSdNZXncIVyzXowcp5naAVyIWKKgWHB0Mta0Ji/KJJvfpHHy4pkhXY72wkT/a17hv1JW5Y7FO+657UDmZ4UoxX+H63PK5Jb/3n0lIeefu7Re8/ZRgEgaxqNyw1z/zNb59xNSou5RiuUb6N1tI5NFMqGXBQx0d+6aud/atMlPbrIZF1y2VOhnNtTh+vI+UW1tXSYDqZSQFbVH5crn3Yr15n8yUM+n02hfJvtcx2vMZcqlAm5KGKiv3XZbJdp254ePejsAm3eMa9CqdJ/9Z+O/OWhe2274ZDFY+qT8+pwHRcolFO/1GE6qHJHZqkPewJnWMUql56s3+e5n1lOsnnOriRM2R6To79121XauOsRxbrMv3Ev/qkFNjnzHzM++vqL91678chFFGrJ6r++fZp2znP/b2P5i8SfYOADRXKKjAl5UK+UyR+vUzCzY1Tts8aFdlIo/fJR9U1/64FHtXFXTx4NNFIbd2ypUGyu1Ypd326vYLP6bX6eX1Xn+3jyplqgfVtqXY6RCuUTGRNywU+NAqVMNRlTduug25fB2uO8JEz0t+7bTht39eSRbv699jMUic22WnHJJ/0VbsqPrvtK76t173ZaqG0ztKa8z6dAxoR8CC9l8jOmUmwpvXJk7V779ln3t/f8CaVN0u5mvOqb/taT/vYvbdwRy4hTixbRth1nKBSbO7ViOVThJoy4W++p47HNtWCbztB6HG2NFmYFGRPyIXxcrjpjOkSvHLl/3FOF9dynQxRKuUr624szXpzobz1wmzbu+IVC3bS/tu2Ie75va3Jtz78VjzTifr2jgSO1bHusXdtfoVwiY0JOhI7L+XlUKfSIXmXymSFt85/T0aNS2BZVEqasj8nR3xTpqrO1ccfWCnXTA9q2MY8rEhu/qF52VENj89W8L9TVc2n5tjyutRjzgCK5RMaEvLDH5copU1XGNEAvHAd67cVwoI7ZMUChFBnrsi4meTNoeTKfMNHfetHf/qBtOzZQqIuW0KYdhysUF2vVcp9aGlrvBS0d5YlOUqbDtRLHEgrlERkTciOklKkqY9pZLxyLe+3FsLiO2bGzQini7ZefHPlfWeYTJvpbT/rb7dq2YwWFumiUNu2IO138rdZr2UhNDSw3XctGu15vaYf118EohfKIjAm5EVbKpFcO99Wl+tmYm7zWorhJR53GSSxLo6mVcdTqyrNMo7/1or+9q207FlKoiy7Spo25TZHYvKUVW65TUwPjtWgzTtV72uGXj/XuEcjJI2NCfoSUMumVw331kn42Zh+vtSj20VEb85Ii6aEvrfTCH5HLQ8JEf0umv60wcn79FGYrbdrxqkLd5A+BxT0Qa52sfSupsb5XtaTlmzeeePDVb/QiYC+9qQ3+WOwLiuQRGRNypHZcTi8cw/r6ButHxxCvtSiG6KgdgxVKDX1nU4b1DbPypVwkTPS3RPrbbNPMR7/SzyGs28JOU6iLBmnTjqEKxcW/jcDPxM3ZaqzrO1pQ3r7pyB8tUGpZZOSFUxWtmFpqasdQrcIxSKEcImNCjtSOy/nnYOflHvrRmNe9xYvjdR23MXsokhraryqVUboso78l0t+8ScWn7a1X1X7jbbYk7rv7m7CrNm3MW4rE5Wdar2MV/ev45rtqrmdRLej6euJWipbtEXhkiqPex9oEf9BwV0VyiIwJeRJImdxAIGOaqB+NmegtXRzpPfLAN1aRhytM9DdXAke+b2nNT4ZWlZ9aavQ8pVg3+U8CvkaRuNyg9RpzZd/D+slxlJrrWVjLGfPVcXMrZjtdrdLBRaZrtApjLlMkh8iYkCvVpUx+xuSchP2/fH9ZWrow/P/nabvaYX9hFflImOhvjgT625FatXn5lu8pVLbn02ry9OJ6qn/NZowiMbFGOjfu+7l+crym9nrm1HLmtDpzcSsBLftvhVs3RmswZpoiOUTGhHyxSmHcE69969XK+smR7POmdJ9eiiyn43asrFBKhGVMOUmYutbf0ifR/mZ3mXsOGz67wnMtd2iwyDn2e9WasIK27YiuyW7JOVqtMc84rz7Tz47dSu11lQbLLhiol7X29hYou0rR1q2kNTh6MKtDl5AxIV+qSpn8365T+v5HPyV9x9iwjk75UxLJF/xa0f9RJCW0V7b0JZzt6VZ/S6Mk+5v1GBLPc3+/ZeLN/3xPr3yraflu2kvbjv0+vfm/1npLT5M7Sj87HiotUNcVzjL/+JFehDqvtKKSDsqv/IS1g1vuUo6MCTlj/wU6xUqgpvRdq58SniXG3WT7Wc+UZC6x+DMDXatISmivfLmo+fZ0qb+lUpL9LfgA/7qO1uJdNUkbN+YKRWJiTam9sPtaP7t+5i1Q19AZ0xrcWejqF8g211S0dW5uVjJJkfwhY0LeBMbl7Izpbf1kzC5aNAmlLbab9Xg7n0DKtIu3V663FUmH6kG5KXm5wOToTn9LpyT7mzXy1cDxWrq7ZmjrxuyuSEz8i3alWno/HY9hdtTjtCZP+8922V1rMGaGIvlDxoQcGDtlrJVlqEN7rDOyNV9Igk+7Kqdo7WU9yvbiT5msZxjEPU1MR4IZU57yJXt+mhQ+zS9hifa3C7XmRk7Rst1l3fa/rELx2EFrdfzEC1hFcp0PPy6mFXnOVbB1y2oNjlUUyh0yJmSezrqVpMm/rhTgP+TreS2YAH/b7WQ9lctj8adMz2vNKXu0XGAMNU/5kv1QuQT7W2ol2d8GWpNU1hF1z31CRmvzHd2lH+ZerdaYZxV5Rq8dFyrUvju0JtfVirXBnxBztCK5Q8aEzFMHdk65SjSqh3pKfqd/4/gNU4+drLWe9VjjibGnTP7f5b9TJCWGjfUMy1e65OhGf0uvZPvbgR9p5eH+0qsbQv3hrfGKxMP6vVKuSdpRr12LKtY2u5j+r4q1wX+E3XGK5A4ZE7IukB+VMg27lKniHv2b5O1i2kBJq1mPvdexZ0z+jVspK/3OLb/SJGW3J3ZFwv1tjkP957dVu7d389r/UbtgzH6KxOMqrdVRmVXpCwUcxyrUNms00TyhWBv20yqM+aMiuUPGhKxT/y1zc43Qcbl/6193BrikBDfcWtqTaMLUt7HWbMyTiiBZT+rzTrK/pVfy/e1HZ/oPWvM9O3Z5tffC49oLYzZRJBbf00od/l1opyjieOs/FGuXXcjUwXN0vefXeDpIu9KNjAlZp/7rGzs2dFzu//SvMUvrnQloP2VKNmHqW1qrNuZLRdCeYcPGNjWC+KU+70T7W2p1pb/Nu9kJ9z7zVuUh/A+e+V/152nszDD71pL6PteeGBPrjpyklTr8TKy/Iq5O5z/qp/W4ouZ3amCgVmHM54r0lPM/VT/Fh4wJWRcyBDdlbOi4nHyqNyai3ZQp4YSpr+9TrTzXTxbvgtIXFf0V+Q+xT7S/pVYX+9v8y649ZNDCc+pVAkp/gEV/537G8IUisZjtQ63VmOcUct2smOOfCrXrO1qPq4M6JmukMKnUtXnDvP+pcf8uJWNC1oUOwTXymN6YjPZSpsQTpr7HtHZjNlUEbShfvYy85rCpFky6v6VVjvpb5Yp11Hee0KiU9eS3wxRyra+YayvF2mQN+5nrFWvHE1pHzKOS7aj8Ho7312l7GdOsiw3ZcLvN1/nePHrdqlkXXm6dTUdtPGQhvW7OdxZdYb3NRv1oxfn1GvCEDcE10sHts81oJ2VKPmHqu1qrN2Z/RdA6q69FfE/+7UcJ97eUylF/03E4IvJkP7W5RpFYWI8XXkwhz7MKOjp8hp79O+sSxdpxjdYRd+V7G6xfqXH+Rm05Y1rxV3+b+oHeYcyXrz12wXYLqKk5s/3kd/5sGl+/dM2vNuyvlkbm2/J0/2+WL567fL91+6kFaDFl6vjOkgitp0x2wpTUU0KO1fo7maIOga7W8Ks9Vwsl39/SKT/9rfnv3H9abpx312+tdTqCyfc+irrWVqw99lQFnXRXf3aFcxTpGe2HJ8aUqbWMaf1xT2nhgAd+t5EWiLTBVd/qTZZroy7b/vwWLWm75AdqBVrKmXbQmxLTasrUjYTJmjW4k0KForO/KkeD7/avWqQL/S2V8tPfgv+dG33n/kSQcc7geJvW6ag6U36lsKOzRxdaT60znczN4M/geacivdL8l9aaVjKmfV/XkiHujXgaYMk2/m+RoKcbfUu7Pqylqt0/QksADWu9g9p/1GSzWkuZupIw9a2pLcT+VPVCqe5l9b9b/0Huyfe3NMpPf6s6+Tb40l/RAsaspUgM1tAqHdWTx/vXtDq8IdNe0U8Va8daWocxryjSK81/aa1pPmPayh8VC/XnyEs+C/kj27X+t94NuyvepSXC3PB9LQWMbfZCU7vld60InFkb/2ftTsLUN4824WhmHByhan4R1/tyrXu/u9Hf0idH/U2H4avznc+lZsd8CsXgYq3ScYRCZUsq7hqnWFusy1imk/nS59M6HHMp1Cs1f0GXnwjRmWYzptVv1FINTGxc0DTiDS0X7rPwgdi9vlZ7uKmtFY8j35rKmV7XwslqOmXqUsLU1+dfIl5dEbQupIuFfrurq7Fb/S198tPfmv3O/WcvT1ckBotqla7FFauwylU+mE2xNszkzx1mXlOsPdO1lt4/8Lv2b5uGv4ab1WTGdIiWaeyJ72nxMGO0UF1nasEA/9lMdeyjBQFXEzlTommJr8mUqWsJk7WlrRVBG8JOnyFfr1+u26X+ljo56m9hv1VCvvOt1GTM3YrEwNp27aNHfq4WVwd3p22oVbguV6w9d2stHc930LmQlCmGnKm5jMmvgG/s5fp55X9pkfrCnkQTnakdryWBksiCps5qJJvXVMrUvYSp71JtxpidFEE7mjt97qSW7vW3tMlVf2sqT/brnv+gSAysoZmQYuHn1eSwJ7dskX9fozG7KtaeP2gt8da+t6nJRLclTWVMZ2qJaB/8SG+p9lMt0EBIcf1/q6mB87QoUBZR0HSWFktcdMpUmpZWkr4WcZa2U8wnw8apmd/E/pNou9bfUiZf/a2Z79wfRzlbkc7trjU6wh74Zl9T2F6x1tlPNR6gWHvO1lqMGaNILw0LS3TV1qZmMiY/bbT5T9AJ+KHeVOUhNcsT1520xyEjx/zmGmsOrke0qG+ud9QkD006fpefjNr3+Bv8Z6paDyYEKhrlTCdomeRFpUyB68aJD96coA0Zc7giaFf0+dO/X7t7/S1d8tbfor/zwxTtsAw7wDpzHqlQgP+0zPZ/g2yjFbhuVqxN47Sa4OzkvdNMotuSJjKmCWqvePjo7df/3px98y33w+1/85xiFeEPuLE2Y8ylWyjqGnBkeULT2u/b//QdZ9uXr4aMK9+7e6EiQED9nKn6hpMENU6Zupsw9R2hLTGUHYOw65iBL/h4Bbva31Ilf/0t6vTrf+ehyU07fqIVupZULOA8Nbo2UKxVf9H7XZsp1qYjtZr0fOkx50zRGVNVAdJTv1pODSXDL/xYLRJ2DXoWf24S8/VIBSuGX+I13KCXFct64ZJ/1wz3bT7ZazhFL4Eq9QqaunmzQKOUqcsJkzVDcOhNFmhNxG9iv5ShqDen5LC/RYzy+N/5vop07E9aoSP8wSsrq9U1UbEWraK3ux5WrF3+c2LS86WHfGntzzQQmTEt+KaaS0KuMC9tfamukGklt1OTK2yuyjWvdxoO1YsK/2+U8Of6bXKP09DzinykV3hB085q7Yr6KVO3E6a+nbUtYyYogo40zJn8S/Nd7W8pksv+1uR3vosinVpR63P9XLEq9lRKyyrWGvsEvpti7dpF60nVlx72t3O7KVNkxnSFWj33rato0N7WZO3GvFE7RdJlanLUuXHkp/87pWbOr/v0FkedR92MevAv+gkIFfIbrrszxddLmbqeMPWN0MaMuVYRdCikd5XvoLpWr7vd39Ijp/2tQc7kP4c2ru/cuunqRYWqbat212mKtWRzvdn1L8Xa5n/psT6LuFMNE92WRGVM/j2yjkfnV7Ta2lb5mTEnKup7Ty3GvDanQtGs+UzrlVgBkWr+s/xEDV0SnjJ1P2GySiI6fNA5Kur/Jvb/9O9yf0uN3Pa3unnyrXoV23c+jzWz5K8Vq/GiFnB81s7s6o/oza6O54Hwv/RbFUmJuHKmqIzpNTW6/lX/vkN72M28pWDFf6rB0UIS7GerqbhREZlVdVE2/EJpcsJSpkDCZEqxpK2rrSFp7pfsXyHvdn9Li2L1t0S+80O1OtdSitX4lRZwHaJYC/xpMOL40y1bX3obKVNExjRKba7PVlEwzMFayFM9d9UmijvC6pHq8GvIzCCFgLYECpo6eW5SW2pTpmDCVO+RijGza0SRrLF9/9RPPehvKVG0/mZ/50P0GXToX1qd4zqFavX/Ros4/q1Y8wZ+qre6hivYviFaU1a0nDNFZEz2U3BrKrMD/qylXHcpVrar4o7gjXYN+dN5mJkVAtr1vvpSp1O0taM6ZepJwtQ3QNtDF4x9ST/0or+lQ/H6W9y/Y36htbk2VyzEBVrEtaNiTbMfGBvDTOXZ+9JbzJkaZ0xrqskVPtFSxQZazLOaguLP0WBWUKgJ/iT7ZlaFgHb5s6E2fmB0IoIpU28Spr4FtEF0Vw/6WyoUub/F8537D2lrWJLtP/TZmPsUa9Z+ep/ri4EKdiCDX3prMw00zpjOV5Mr6mmK/r0hNXMy7amwo0GmXO1UvcXRQp4FhPJrKDt4xnfbgpVUtq4lTH2zaYvorl70tzQocn+L5TtfXytzHa1YqDu0kGsjxZqzkt7l6XRmAVcmv/RWUqaGGdO81i1wkbnrWlrQ9ZhisqXCjhbmQrWq3v5LIaBdfsbUkyuW9VKm7iVMZEw9UtQr5EXub7F85/4z2oxZWrFQ9o1X4xVrzp16lyuWCZQy+aVPaeG3cMOMybpbzRyoWH320/yCcwiso6jjve8oFs2a2KDTiUiBD9WXjPmuIt0VnjJ1MWFiVK5HEuxv37kvdvHNdFHk/hbLd/6yVub4k0J1WBXibyrUlN/rTa4Xmp/4p4Esjsq19Eu4YcZkjYs1znE952hJV3AfllHUdadi0X6kd7h2VQxoxzA7X1lGwS4LS5m6mTBR+d0jCfa3+bSJGH2kVXeucP1tyhv6Iabv3H8I7xsR996N1HKOqQo1Y2+9x7Oxgp3J3pfe4u/ghhnT/WpxVN/+FmIrLeqquq/uMYVdRykWzX5gHSkT2hVIlxwrKd5ttXOodTVhYnaBHkmwv6U6Yyry7AKxzCjx/aNvefDBv99547l7zqFIXd/b/+Kb/vrAgw/++ZgNFWmCfU3CHKNghwo9u0A/NbgaTy3g6a9FXVUzpJ+osOd0BSNdpzd4DlcQaEl1vmTMOmrpuuqUqbsJEzNY9kiC/S3VGVOx+ps7mpmtWUuXsJ6Pb+J63Fi2vvTWBuQ8jTIme8KATRVr5Bkt65imkGyocMmUNRSOYO2b4+r2njKIIqtNlxzxXH5uR3Bvupww8ZSUBIR2sCoJ9rdUZ0x57W9h33np1Bv7U1ISZVd9v7Kogp3K0lNS2siXGmdM9uzrdadot0zWsq6qy4gTFZarmsuZrFFB13nkTGjBsLBHVju2UXvXBedhav2CcId4Em/cmsmXEu1vqc6YCvQkXp16438Sb4Ksx+PHmNUX+km8f1KD412FGrLH3hZTTAYEHtXrmNRMzjRcC1eQM6FZ9c9mO2uJbqtKmLqeMu2szcZ0HzHCfg2HSLC/pTpjymV/C/u1Uvl/PEGB3v2Oad5Z2lPPfgp2bhetMVVfev2rgq1rlDFZm6lpC2M9DKVmzsl9FPfdPvo/1FbfSVrWd92WagLqa/jH/z5aqMtqEqZup0z+/8EzFUEHQr7PcAn2t1RnTDnsbxGn3jMV6tnvmOYdrx31nKxgDPynwabmS48zX2qcMVl3uE1SqCH7V0hN5Zs994C8f9ZaaqzLfuiNvPI7ZgBHQw3zJWOO0GLdFXqC7WrKdIQ2aszxiqBtEX3MlmB/S3XGlL/+FnXq9dOQ3vyOaZ41PbQxExWMg/9EtLR86Q1GUdvRKGPynyVpzlOoIfvxNrWV4jeoJeDvu6i1ju/+XQsG3Br1xBYUV/Sp7HdasqvqXJHoZsrkP9qaG0871Xy+lGh/+84qsVteq+5c3vpbdC3MYYoac4IiKWWd9o25O3qwp3njtFJjDlOkt8JOBx390m2UMX2gBkdT+eJyWtgV8lwTu5Dc9+qvF1J7OHsWTd9T+xb1YU1opF6xd0DVUw+7ou4QThdTJr9y4X8UQXuaLGCSXvS3NMhXfwsd21Fb2RjFjTlbkXSyJrw05p8LKhoL/8kuYxTppdAvrYMLTI4GGdN/KO46SLGGltDCrr0Vs63/pBqrXNBwirdt3tRiQR+ctLAWAEqaHCm5VIt3UTBhCpxwu5cyXaotGrOTImjHMHtC3ib0oL+lQp76W3On3tFqMeYPiqTS1tpJz+uDFY3HH7RaY0Yr0kMhf9l0mC81zJjmV9wVMXhWMq8Wdh2sWMDMF6i1yrcN/wZZ9HotVuXN7bUA0HS65IjvyVnNCiZMw4L/k7uWMvkfEKPaHfATgSZ1v7+lQ476W9hFxZBTr//Yi7sVSaPNtY+ez2Oea/NurdeYrRTpmbDr+p3/sm2QMQ1U3PXfijVkT/q9m2JVNq6T/VzbcAKtbe/SYlXOnUULoOiaz5ecv6r0nq4J/Nf1/sjpScr0urZnzOqKoHUtdDTpen9Lifz0t5CEKfQ/7VA1GjNdkRT6qXaxZBNF4zJd6zVmqCK9ksQFJkeDjMl+CvEBijW0qBZ21Z21bch5WiLo7V+oPdz6VVNgyjM/UjuKrJV0yTWP3tclwYSpFOtByjSPtuborxBaFna1IUqX+1tK5Ki/6TB8dU69c6nZMZ9CqbNRYGrEnysaF+vmzbkU6pWa/6lx5EsNM6ZZFHf9WrGGltXCrgapzEK/sZ9nU3Gkmuv4/mkfasGAFAyWosdaPomtqTd2R1jC1IuUaU1tzJhXFUHrmk7Op/i/5brb39IiP/2tenin/qn3FS1hTOTEOT0y7DPtoCf26ejX0oqNeUWRXqkZk4slX2qYMfV9rAbHSQo1tKoWdq2mWLj/sh9pU7ajGuuZdc8HtaRtuFpRVK3/1b+D3tkV4QlTD1KmHbQtY/6qCFpnTbniC0ujxv5VP3S5v6VGfvpb1W+YBv9Z/fNaSv+UX+8j7Z+n8cBOO/za9zsU6ZWqjCm237CNMiY/YTbnKtTQD7Swa6Bi9ax2diDX9UT/KTb8ci3qmx7rvZHInmb/6vfLKo7VO7uhXsJUtd9dSJmO1aaa/N+MULX3yU2ZMiwsaR97rn7obn9Lj/z0t/r/h6v58zQfp0i6rPmuds/TVHVya47Tqo05R5FeCX5pMV1gcjTKmP6pBkdTD5+2Z3mYX7H65jv6HS1b9me1NLLMaV9r6bKiznYCUT+wTZkSkkbdon+NuVrv7IJGv2y7nDJdrS0Zs78iaN3++gxlyjDnd3HoVc5h/pJd7G8pkqP+puNwRJx699NiKXsObdlqM7R3nqamDGqR/yzifRXpGf/Xa4z5UuOM6W9qcLykUEN+fmm+UqihfgdN0+LS1Kjqgr+tKmhqPACIvFM38Dn/QcLOYVfoX2Me0zuT1/iv0+6mTP7VkdoJ+dE060vTb+LAl1zRt6l+6GZ/S5Mc9bfKr5OoU+8mWs6YJxRJk5Vf0855jlE0Vk9o5fHfhNeyyn/LeH+zNsqY7Ie6za5YI5O1rKNmXXX8RsuXNDmJxRz+9W7XxQqjmIKXk7yzWOg57Pf615hPS29MXuOEqcsp06fajjGDFEE79KVV/nANT5im9A3ST13sb6mSp/5WSpmi/4f6M/J8oUiKLBeowTtd0Xh9obVH1+Ukr/SlxXqByWFlTH9TqMJ/LpAx/6lYI1O1rGOcQpG2CFww+q6iUfbQ8p7XFEQx2Wcs/ffQq6BhX+oHY5b2lkpcVMLU1ZRpaW3FmC8VQXuGTZkywfo1rE+1ivNldr2/pUrO+tuwsU2deT/XMachY6jyvRe0Z57xisbLzxg/V6SnmvzSWtIoY7InU99VsQbsCSy3VCzaj/QOzygFI/kl+Y61FUQxla+ZV/6aCBuTM6bPf0jPxlowWdEJUzdTpo21EWOeVARxCF7irHD6Yrf7W7oUs7+laFSqytLPaMc8CZVZ+aOSjyuSO40yJvs5cdcr1oB/N6kxLTzzbVu9xXWeYtEO1TtcByqGgnIfvzvF/3MiPGEyfdfqhy49GbSZhKmLKdP/aBvGXKsIYhD4/qwXTlOX+1vKFLO//VHHbMx+iqTEYn4u52jqTq42+JXvf1QkdxplTH1WYfbX31GsPv8XhHlWoab4T6IxkxVqgrVvJysEOOokTFP6fqefjLlQiyapuYSpeynThdqEMb9TBJ0LdLYp1iunrbv9LW2K2d/8u5+SGfZq14IPa7c8Dygau/HaQFpnV4hBw4zJv1XQmG0Vq2vOb7Sk4xLFmmJdZGrhmzxCb3FcoRBQlamM9c9hY/t21k/GPK9lE9RswtS1lOl5bcGYnRVBx4IJk/XS/R672t9Sp5j9zS8XmapIKsz3gPbK84yi8fNLmXP7MI6GGZM99BV5adUelNtCsaZYU4VPU6gJ2+ktjjsVAoKFuMFzmP+cTDNACycmmLcpWEdXUqYBWr+j14/IzI9AwmTsb9L9GrvZ31KnoP1tFR2zY1mFUmCue7VPnuRulbKek7aKQrnTMGNaWy2eDRSsx5rv8jmFmmM9vvAFhZqwmt7iuFkhIJh+2C+H9fW9rR+N2UVLJ6WVhKk7KdMuWr0xbyuCTgUTJqeD6SeHV1TXvf6WPkXtb/4ckbsr0nuz3aVd8nz0HwrHb3dtwpgZiuRPw4yp73/V5IqYkdsaJTOHKNacRfQux/0KNWF9vcXxB4WAwEnMST70k8Np9CvtLi0tnZTWEqaupEyXau0UfsemJmGyvnZvga71txQqan+bpKNOU7HI7dqjkv6KJsCfJHiSIvnTOGPaTU2ehrfIDvxWSzm+jX5Eis26WnSTQk3YXm9xnKoQCq86YQpmTP7tO03NYd+2VhOmqjl9EkmZ/NnrinjjVhKCCZP7pfmRUuFat/pbGhW1v+2lozbmVUV67krtUMliiibhVW3DmL0UyZ/GGdPM76vNNW0pRcNY832bixRrkv97pZWK8dP1FsfhCqHoalIVP+Cew1bWz47lvOWT0XrCFHxLEinTclq1Y2WF0JGQr8zPmErfYJf6WxoVtr+toKN2rKRQj9mjP8YMVjQJK2kbjhUUyp/GGZOdlxhzr4Ih/qBFPDUzSv5sPf0Qynp8XeDZgNs2fGCc9YiclurMkWPqEB7vz/yqc9jremHML92XyWgjYUo+ZfL/n7+uCDoS9oXphUNfYFf6WyoVt7/5096MUaS35v9EuxPmm68+/+TD9995c/qrL//rxeee/ufjJX/bQ29uzRittaVbuLImImMaoraSKxWtcaYW8PxewYr9jLmtMr1gjRF6m8u+inWaMVcN0c+1DtI7HO8ohKKrqvp2VGVME/XCmIlecxLaSpgST5m6ceRFEvp16ZWj9LrAn3pxj/wyHXdi82q3aKT2pjVtXR/zZyO6TJEcisiY+s5QY8nf11I4YLHAQOkzMylccYcbvrrOFaOFXvHe5bldMY83EH7+MnpVZRtv+ZJzFUPBBQpLSim6n0N5JzX/eYSJ/eXbZsJUfQ6u/xdGe/yrHe39+YigsFp9q/+VAt3obylV3P62q47bmLcU6a3gY+ubdaze3ZK39OamHqqWVVEZk/VwJM+RClt+GXiYrvmJwj4NoF0c9jTfNezHA9r3Y86h2ElhOdPPP1Kra7iCKLZAwlTzV7+XggzWC0f9y5cdaTthSjZlsq4VJ1nIUBihNzdWXdB0JN/fUqrA/W2QjtuRiomortbOtCZw8aJJ1vxjgxTKociMKfCkXMerJ62qFs/3D7FnIHCcogZLJb25fitFylb2p9J3vGBPFOHPOXDpjxUqW99/eI/jDkVRbKG5il46Sq/9O3j2KQXiprV7WkuYqlMmBeOxj1ZaxLu2EhA+G0TVBU1X4v0tpYrc3/xrAKl44OnN2pnWtDMt+IF6b0vzKmZOZMZkPR2p7O/H77PdBt8f+INt9x33kEIVj+ldts/U5njvwtGVvzkWXc+fu8IzQg2eJRV0vfLIdksr/B9L/uxWRWV1taDY1B085aeSWDlIKeDPEtPCRBatsLbYasIUTJnivcZ0k9ZaxJmB4he4muk/AUcBR+XLS7y/pVSR+9tFOvLknnfbEutxry1o6cmwcpve2/Ld8pkSnTHZ97JFuvu7epNtuhrlzcfvvn7i3176P72sCJYI9le0bNqjf73uj3/3J3woO0HLo9gCf/YrZp3adF7zH/VlFi9F4lbJelpPmOyUKd6EaXGt1cFD5TpWJ2GqSc8dyfe3VCp0fxulI3ek4eE452hfWvNXvbsF1nNxRimUR01kTDNfpwWi3TCL3hPwoFobe7l8GUnsqaDqa2GWcORY4CxWSTdqKkus/9VJXTLXNttJmPyzbrwJk3W9vIBPOItboKtZg6d+3M+iutDf0qjQ/W0JHbkjDTMFBqdjataZencLDtdbHUsolEdNZEx9fedriSiXa/kqTb19RnVdeHBq9zoeWVBLo9ACZzE/WanJmPoe0WtjHlQkdt5G20uYyilTzAmT9TfLI4qgXcGEyfqmajubowv9LYWK3d8e0LEb87givbSA9qU1tfdvRXpcbzXmAUVyqamMqe9YLdLY2Vq6mvWHVl3v18xbsKFaGnkqz8ksmlYnYQqpxT1Erx2BOxji5OxNuwlTKWWKO2FatXTArtYe+YgadROm8IypG/0tdQre3/bXsTvWUaiXht/x8qd1fFbHjHqn8gbW0SE79lcol5rLmPp2ticBCHd3/bv8oy8M3veD0pK209RW3w05vokRLVB/8PhDInbGVD61LaXXjhMVit/Y9hMmN2WKO2HqO1FH7Gj0pCNECyZMge/Zr2NSwNWV/pY2Be9v1qPlz1CoAKyZGxdRKJeazJj6+g5+T4uFm9ZwzqqVI0qhDtVyQcPuVnO4t3M8TRZaEVr17fIbFOjr+4sCxrysSP69rCM25i+KoD1WdbejKjFWNBimvxWP/5DVGYoUwAwdsjGTFcmnnXSUjusVqqP/OC0X4v3fzqyl6lm/aiYBy4cX1p3kbLNbtEyt108Luy0PBRT4uz9wgaZygvNPYlaH30ShvNtEx+sYrRDa0jBhqvTDQBekvxWP9WCSLRXKvS11wI6RCuVTv6t0mOb5yHH2BX4xwZ/83vfUyT/SAg0t8D/Xval32P400p63ssaAw/9iz+8tX172M7Wj8AIJU9VZTG1WdLbPSyHHBIXyboKO15jPZ1MIbdHHWFKdMDm9zb2mOSU4qEp/K6APdPzGTFIk9/wrIh8oklsLbLPjnmN22W5FvYywxhFTnnzt09JH8/WMp6Zcs38rs+Cv9MvLH37p49K7jZkx+bBhzfyXWmP/ax57Rds05uVJ+6+tBqBhwuS0Os3Bc5g/qWBBfp8X8JydkMDob23C5Bg2rKYIjf5WPBfo+B3zKpRz8+pwHRcoBMtsCy+3zvfn14uWzbb4kNWXX3L+WfWySXMsuerQwUvMGzrjE4pL/089oWexKoUbMxito3UUZVwoGdEJUxj6W/EM1/E79lQo5/bU4Tp4ziuQXnWrvusqWl1qEWuPkxC4mGnfkRmB/lY8z+sTaKmjZJn/a/h5RQCkT+A0VjMiEsq697kIw7tr61gdxbm/PQHtJkz0twI6Rp+AoxCXXKyLascoBCB1GhcxhVtNizuCjzLMp4k6VsdqCqF1gZ7W3MVMob8Vz/L6BBz5vtde/PkUzPIKAUibdhKmwHMOqx/Nkz//qSN1FOk5HXELJkzNXcwso78Vzz36DBxpmPc7YdZ83/coBCBtAtPjNJ0w9R2kdzjGK5Rf43WkjoMUQss6SZjobwW0tz4DRwEmGLAmW9xbIQBp03rVt2fWd/QWx7KK5dWyOk7HOy3enIqKjhIm+lsRvapPwZH7BwpazxF8VSEAaRM4j7VyGjta73GcpVBenaXjdBytEFrVeKrvaPS34jlYn4Ij97NS+VOWmoMVApAy7RUxueapTIdqzBKK5dMSOkrHp/MohhZ1mjDR3wqo39v6HBzLKZZTy+kwHW/3UwxAurSfMPX1naC3OU5SKJ9O0lE6TlAILeo4YaK/FdFR+hwc5ymUU+fpMB1HKQQgXdqs+i5Z9Fu90Zgv8vxA5+9+oaM05ttFFUOL9AGWtJUw0d8KaO5P9Ek4llEsl5bRQTo+mVsxAOliV323Pq/uGXqnI88zrlkT6Z2hEFrU3rNRqtDfiud4fRKO0xXKpdN1kI7jFQKQLm1XfZcM1Dsd7/dXLH/6v69jdAxUDK2JJWEK9Lf8/h1Of7Mt9LU+CmO+WVyxHFr8Gx2kMV8vpBiAVOmkiMljPV389wrlz+91hA4eKN6eQEfr4Blh9LfiOVWfhSPHt8tZN8qdqhCAVOk4YepbUW92radY3qyn43OtqBhaElfCFOhvP1Asb+hvQUvps3BtqljubKoDdC2lGIA06ajqWy7X2x15fby4NaB0uUJoSSBhaulhcjXob8Vzrj4Nx6MK5c6jOkDHuQoBSBX9D/W0e/pZQ+937aVYvuylo3OtoRhaEUyYWq+Ws9HfimewPg3XYYrlzGE6PNdgxQCkSeBE1vZ57EqtwPFuHu/4/u67OjrHlYqhFXEmTPS3Ijpfn4fjm0GK5cogv+zbnK8YgDQJnMjavnupb6B/K0sup5iz5pX7mhuX2hBMmNrvaEJ/K54F3tMn4rhKsVy5SgfneG8BxQCkSEwJU/CC8nDF8mO4jsyV0xGBZMUw1XcQ/a149tYn4tpasRzZWofmyudQM5BxcVR9i1W0eJ9C+XGfjsyR26rTJMWeMNHfisiqhn9GoRx5RofmyOvtDEC26T+op8P/pfaNsfsplhf76bhcub2zOUn67EpiSZjobwVkz7gQTy9KEftyf16naAEyLTAmp1jbLtV6HB/n6zFYi36s43JcqhhaEM9U31Xob8VjzeqZt0mq7DnGeCgOkEKxFTF5lvhMa3Jcq1g+XKujcny2hGJoXiIJE/2tgOaars/FcZdiOXGXDssxfS7FAKRHvAlTX9+BWpUrT+WqdpHxgYqheYGEKcYKDfpb8eyqz8V1kmK5cJIOyrWLYgDSI8aqb3lAK3NtpFj2baQjcj2gGJoXSMxjLWmlvxXPLfpkXNsrlgPb65BctygGIEX0/9MTz4nM/l0/dR4Fs26eqToiV37Oy12TXMIU7G/zKph189LfGhmqT8b1QW7msRz0gQ7JNVRBAOkRGCtRrFMXanWuSYpl3SQdj+tCxdC0QMLU8VTfVehvxTNOn43rTsUy704dkGucYgDSI+4iJs9Cb2qFroMVzLaDdTSuNxdSEM1KNGGivxXQLM/q03HlJLuws8BnZ1EQQGokkjD19W2pNXp+qGCW/VDH4tlSQTQr2YSpqr/Fv/ruCxQX0t/CbKBPx7Otgpm2rQ7Gs4GCAFIj/qpvOU7rdD03p4LZNedzOhbXcQqiWcGEKc5+Vhbob9m/KXsu+ls0+x7J9wYomGEDrOflcXMkkEL67+mJtxr3Nq3Vdbli2XW5jsR1m2JoVgLPRqlh97crFMuuK3QkLvpbPRP1CbluVyzDbtehuK5UDEB6JFH1Lcu8q9W69lcwq/bXcbjeXUZBNKkbCRP9rYD6P6/PyHWCgpl1gg7E9Xx/BQGkRmCwJO7qj8Cg/GgFs2m0jsKTi4qJrtIHV5JQwkR/K6JALp7xin+71D8XpXhAziRU9V12otbs2UzBLNpMx+A5UUE0K5lno9SivxVPIM3YTcFM2k0H4cnH7Z5AriRW9V32V63b9Xl2n8K97uc6BtdfFUSzupUw0d+K6Cp9Tp6tFcygrXUInqsUBJAe+u/pibfqW5b9UGt3TV9e0axZ3nrop/lwWUXRpMCFzES6WQX9rXjmeVGflOvb4YpmzvBvdQiuF/PymAQgRxKs+i77hdbueWphRbNl4ae0/55fKIomdTFhor8V0Yb6pDzvrqJoxqxi37ZgNlQUQGokWvVddqrW7/lbP0WzpN/ftPeeUxVFkwK9LKG83EJ/K55D9Vl5Xlxa0UxZ2r5QZg5VFEBqJFz1XXa1tuCZrGCWTNa+e65WEE0KJkxduAGI/lY8Z+nT8jw4t6IZMveD2nnPWYoCSI0uJUx9fXdoG55LFMyOS7TnnjsURJO6njDR34rInu4zi/N92pOv5mD2VSB/9N/Tk2h1ybyPaCue0xXNitO1355H5lUUzQkmTIneJldBfyugm/WJeaYpmBnTtOOemxUEkB5dqPouG/iSNuOZoGg2TNBee17KwZOruqorU33XoL8Vzxz36zPz3Japgbm5A1eY7p9DYQCpEfjjP+nBkqH2Pd9m8iwKp98sgZqSD4cqjOb0JmGivxXR4vaDi82DGSr/XjpQw/Tc4goDSI2uFTGV/FhbKrl7QYXTbsG7tcclP1YYzelVwkR/K6KV3tTH5nkxM5MMrBK4S+7NlRQGkBpdTpj6+rbXtkqeyMakfMs+of0t2V5hNKl7U33XoL8Vz/pf6YPzvJuRqSyHB+Zh+mp9hQGkh/5/erpzKttLWyuZtqbCabZmoB7T7KUwmtTDhIn+VkRb6JMr+TYTD0zZ2p7p25gtFAaQHl2s+q44Upsr+WhjhdNr44+0ryVHKowmBTpZ0lN916K/Fc/O+uxkd4VTbHftquysMID06GrVd8VJ2qCkfcwhOK5jTlIYTQp0su4nTPS3IjpAn54conBqHaIdlQMUBpAeXS9ikiO0SRmjcDqN0V7KEQqjST1PmOhvRVR1lekEhVPqBO2mcIUJSJ9eJUzVtSXmkvTe9T1LYOJlakpaFuhk3Rr4rUZ/K54tAuXf5vYUz2g14HbtZMlX1DAB6RO45bvL9biBB8sb88RaiqfNWsGblnh8fKuCCVPXBn6r0d+KZ/3AJAPmvW0VT51t39MulrzJXXJACvWi6rtik0+0Ydlb8XTZW3snn2yiOJqUkoSJ/lZEKwWmsjRmnOIpM067J88xDxOQQoGTWffPZWu/pk3L+PSNlMwyXvsmr62tBjQpmDB1e16BAPpb8SweeGCKMXcOUkOKDLpTOyf3M9M3kEKBk1kvzmWDn9TG5fG0jZSs9bj2TJ4crAY0qXdTfYegvxXPHIHH8hrzQeruk9z+A+2a3Myz5IAU6nnC1Ne38L3afFm6RkqqRkjMvQurAU1KVcJEfyukK/RplqVsroaqiS/MFYoDSJNeVn1XzHqjdqBsfH+19N7cVSMk5sZZ1YJm6ZMr6XnCRH8rpLP0eZbdtaIaUmDFu7RTZWepAUCq2FXfvZkjx3OmdqHsjV3V0Gu7vqE9KjtTDWhaT5+NEo7+VjyH6hOtSEdXdASr/ByHqgFAqvS46tu30xfaibJbhqqll4beor0p+2IntaBpKUyY6G9FtOGL+lTLnknFc+a2fka7U/bihmoBkCopKGIqW+k+7UbFCTOrqVdmrrrd15j7uOG3ZYE+1sPLmFXob8Uzz1X6XCuu6vlNc4Nq92keNQFIlRQlTI7qkRIzdaRaemPkVO1HBSMkrUtpwuSgvxXPwfpkK745TC09ctg32pGKg9UCIF1SUfVt2elL7UvFtcupqfuWu077UPElIyStCyRMvXo2Sh30t+IZ9rw+3YpHN1VTD2z6qHai4vlelkYAaED/ST2p+Ot/paqJ5hy/VlO3/Vrb993PCEnrgglT2s4G9Lfi6X+lPl/fhB7NFbn4BO2Ab2J6btoEEBA4m6XkZFZ9C7AxLx8wk9q6Z6YDXtbWfdzv24Z0J0wO+lvxHKhP2PfN6cuorYuWOb1mQM4cqDYAaRM4m6XmRtuda0ZKzBuHz67G7pj9sOo7vI35cmc1ogWpT5job0W0wbP6lC3ndXk8drnztGHLsxuoEUDapDNh6usbMFH7ZHl/7HxqTd58Y9/XVi0TB6gVLUjZVN/h6G/FM0vNTYmOCauqtQtWrR2PM2Zc+h5wCKAkbVXflq2q5ydxfDZuEbUma5ETPtMWLc9spVa0IhMJk4P+Vjw1E1+5Jq2j1oStM0kbtKViPjAA4fT/1JOqe75dx2jHbN92odZgmdO/1dZsx6gVLclKwuSgvxXPLtP1cdsmD1drgoZP1sZs09My5zyAEIExOcVSZKUbtGsBV2ym5mRsVv2wTs8N3LLUnlRO9V3Hiinqbyl63FmuzXWGPvGAKXvOq/ZEzLtn4L9F2e/nUjuAFEprEZNv1DTtXcBrp6yu9ritfspr2kbAtB3UjhZlKWFypKW/jVI7krdeaPZiJm2p9thtGTYc52Rp66kdQBqlP2Hq65v1ZO1flYcOin/2lMUPekhrr3Iyz41vU8YSJvpbIe31nj74oBlnJFDRtM4ZM7T6oPf21gIAUinFVd+2Ne/QLla7aVScU+bMNOomrbfaHWtqEbQqkJOnrk4uHP2teBY4X599tccPj/V2xQGHP64VVzt/AS0CIJ30f9WT6rPZRn/WXlb76OIdltAynVlih4s/0jqr3bSRlkHLspgwOehvxTP4XH3+NW47MKbb14YeeJtWWePcwVoGQEoFBkwUS6v1r9V+1nry7BGd/Xm2wIizntS6al27vpZC6wIJU9q7WAD9rXiWOvVrfQk13rpmTIc3fqw05pq3tLIaX5+6lJYCkFZZKGKyrFH7HCjfQ6ds1t5dJnP+7OQ6pSSeK9bQcmhDMGHK2KNFG/a3h+lvebTQ8Z/oiwjx6hW7L6vlWrTs7le8qpWE+OT4hbQcgNTKWMLkGDJeexvu3t/tvM78WrQZ86+z8+/u1XvDjR+iRdGOTCdMDvpb8cx91Nv6MkJNHb/fJgO1aFMGbrLf+Kl6c6i3j5pbiwJIr4xUfQcNPkc7XNeMey48+OdRNQGDf37wRfeE37BiOef7WhxtCSZMWeliAfS34ul3cIPrQZ4vnrjmuNFrRTw/Z761Rh93zRNf6C31vHpwPy0PIM30X9aTnZLcvqWPa/gXm3z99PUXnX7sIXuO2nz46oMXm3umuRcbvPrwzUftecixp190/dN1qxUsU49bWltEezI01XcD9LcC2vsefSsNTb/7D2ePO3LfXUb8ZN0hAxaYbbYFBgxZ9ycjdtn3yHFn/+HusInEa9zDfAJANmSp6rvKj8c3KDaIxScXc7tSp/KRMLnob8Wz/DHP67tJzPPHLK+NAUi5wIhJ5ipM+u14s3Y9CTfvyJXyzunDLMlywuSgvxXQ8As+0BeUgA8u6MKD6wDEI3tV39WWOvQR7X68HjmUG33jkLmpviPQ3wpoZNizcmMweaQ2ACADMln1XWPN05oqFmjB9NOYbDkeeUuYXPS34llk/wf0XcXmgf0X0coBZIL+73oyVPVda7UDb/hQx9GpD284cDWtFZ0KXMPMdA8Lor8VzxKjLnpB31nHXrhoVDxTxgPomgxXfYdY94jbvtSxtOvL245YV2tDDPKaMHnob8UzaNfLpum7a9u0y3YdpNUByI5sV32HmWnDY5u6HzjUPcduGOfzVZHvhMlFfyugFfaaFDmlVj0zJu21glYDIFOyX/Udao6N9znr9tb+EJx2+1n7bDyH3o+4BDpYPlLyEPS3Alpl9HF/fPxzfZ1N+fyJPx43ehW9HUDW5DRhkjlXG/mbiQ9/rMOr5+OHJ/5m5Gpz6j2IVTESJqG/FdDATfY9545X9N3W9cqd57T4RBUAqaP/z548jph4ltxo+90POPrk86+88a6Hnnv9I/PR6889dNeNV55/8tEH7L79RktqKSSgUAlTGf2teOYautXoMYcdf+aEa269758vvfPll++89M/7br1mwpnHHzZm9FZD23tQM4BUyVfVN9ImmDDl7homAKAoAie0glwAQPfk59koAIBCy3cRE3qNhAkAkAskTEiUulYJHQwAkFU6lXk4nyFueXw2CgCggKj6RpJImAAAuUDVN5IU6F+5nbgCAJB7FDEhSSRMAIBcIGFCkgL9izFfAEBWBe77JmFCzIIJE2O+AICsouobCSJhAgDkQ+CMxgkN8QomTFzCBABkVeCMxgkN8WKqbwBAPpAwIUEkTACAfKDqGwkiYQIA5IRd9c1EOYgZU30DAPKBqm8kiIQJAJAPFDEhQYGEiSuYAIDMImFCggLdi4QJAJBZVH0jQSRMAICc0MnMwxkN8QokTEwlDwDIrsApjapvxCqYMNG9AACZFTilMSaHWJEwAQBygoQJyQkmTHQvAEBmUfWN5DDVNwAgL3Qy81D1jViRMAEA8iIwaqIYEA/1qxISJgBAdlHEhOTwbBQAQE6QMCE5JEwAgJyg6hvJCaTjlMgBADJMZzMPpzTEioQJAJAXgVETxYBYBBImehcAIMMoYkJiggkTU30DALKLhAmJIWECAOQFVd9IDAkTACA3dDbzUJeLODHVNwAgN6j6RlJImAAAuREYNmHUBDEiYQIA5AZV30gMU30DAPKCqm8khoQJAJAbOp15qPpGnEiYAAC5QdU3khIY7yUbBwBkGVXfSAoJEwAgN6j6RlICfYvLlwCALCNhQlKCCROXLwEAWabTmYdhE8SIhAkAkB9UfSMhwYSJy5cAgCwLnNW4CoD4MNU3ACA/KGJCQkiYAAD5QcKEpKhXldC3AACZpvOZh5MaYsRU3wCA/KDqGwkhYQIA5AdV30hIoGsxZwUAINMoYkJCSJgAAPlBwoSEkDABAPIjcPM3CRPiE0iYGO4FAGQbVd9IBgkTACBHAqc1zmqIDQkTACBHAqc1xuQQG6b6BgDkCAkTkkHCBADIEaq+kQwSJgBAnthV39z8jfioU5WQMAEAso2qbySDZ6MAAHKEIiYkg4QJAJAjJExIRqBnMdoLAMg2qr6RDBImAECe6Izm4bSG2AQSJmaRBwBkXOC8RtU34hJMmOhZAIBsC5zXGJNDXEiYAAB5QsKERAQTJnoWACDbqPpGIpjqGwCQKzqjeaj6RlxImAAAuRIYOlEM6Ji6VAkJEwAg4yhiQiKY6hsAkCckTEgECRMAIE+o+kYiAgkT1XEAgKzTKc3DeQ1xCVy6pGMBALIucCVAMaBTJEwAgFyhiCnn9NWGqf66A8mzrY1+EehXZOIAgKwjYco7fbdhEsyYggkTz0YBAGQcVd+5py83THIZEwkTACBfdErzUGuSS2Pr5kFTqjOZeovWLBglmDCRiQMAsi5whlQMeTM2mMCU1MmCQhZt/QoRz0YBAORL4PTI0El+1eZB9b/tqmXbuPJIwgQAyJfAuZETW55Vp0yNvu3g0JyCrdA7S+hXAICso+q7QKoqlBQN1Wm/CGyKfgUAyDyd0zxUfedcKyNlVspDwgQAKLzAmU0x5FYLiYy1qCItCIz/kYgDADIvcGaj6jv3AheZGmcyfsbU+iUiEiYAQL5Q9V00+q49zWZMCjQvWGGuIAAAmUXCVDj2sFzjjEkLtdExggkTVy4BAJmnc5qHsZNCCAzLKRZOy7R+jYiECQCQM4EyYMWQc/aX3iibqeQ9rV5iCiZMXLkEAGRe4NTGpYCCsC8yNbquWOkdet2sViYwAAAgAwIJE2e2omg2Y9IiLfeMQMZEtwIAZB4JU0E1NyzX7iWmQMpEtwIAZJ9Oah7ObAXS3EWmcl7VTtfo5L0AAKQLVd+FpS/do1CNSlrVVtZT6lwkTACA7KPqu7iaGZZrf1DO426ChAkAkH0UMRVYM8Nyam67b4xlfi8AQA6QMBWafZFJoSodXmJy0KsAANnHDeDFZn//4cNyaqRzAAAKzb7GwOBJ8UQOy3V+iQkAgOwLjMlR9V1AUcNy5R7CJSYAQIFRxFR4UcNyauISEwCgwEiYYE/JFDIsxyUmAACo+kbUlExqoHsAAAqMqm8E8+aavKhyFVKvAQAonsCYHFXfhWUlzjV5c7mNS0wAgMKiiAkeuyNUJc6V6096DQBA4ZAwoaTBlEzlTkL/AAAUFVXfKKs/JZOCXGICABSWToUeqr6Lzc6eA8NyXGICABRdYEyOqu+CUz9wBbJnxbjEBAAoKoqYYKkzLMclJgBAwZEwwVZnWI6MCQBQbFR9Iyh8SiZFGJQDABSUToQeqr5RZ1iOS0wAgGILjMkphkILHZbTa7oIAKCYKGJCjZBhOS4xAQAKjYQJtUIuMpWTqNIrAACKhapvhFGPcJUypnJHoY8AAApJ50EPVd8oqxmWK1+L9F4AAFAw9k1RnAxRUTMsp5+5xAQAKCKKmFCHOoXLvchE3TcAoMBImFBP1bCcfuQ6JACggKj6Rl3BYTkuMQEACkxnQQ9V3wgKXGSi7hsAUFxUfaMB+yITdd8AgOIKFDFZT6gHPOoarnJyrRYAAIqDqm80FrgG6aGbAAAKh6pvRAh0EY8aAAAoDp0DPVR9I4y6RwWJNQCgcKj6RqTqYTkyJgBA0VD1jWhVw3JcigQAFA1V32hG8CITHQUAUDAkTGhK8CKTggAAFIXOgB4SJtTFDZUAgCKj6htNsruKQgAAFARV32iWdZGJS0wAgGKhiAnNUz9xKAAAQDGQMKEFlWE5ugoAoFh0AvRwFkSEyrAcfQUAUChUfaMl6jDMXgkAKBSqvtGScofhEhMAoEgoYkJryj1GLwEAKAISJrSGS0wAgAJiBme0iEtMAIACsqu+qeRFNC4xAQAKKDAmR9U3onGJCQBQPIGEiYsGiMYlJgBA8ZAwoVXqLVyQBAAUB1XfaBWXmAAAxUPVN1ql7kLGBAAojsCYHIMsaAKXmAAAhUMRE1pV6TMk2ACAoiBhQsvUXegvAIDCoOobDQ3z6IVUsmy9BgAg93Tq81D1jRql7CjQNSoJExk2AKAoAmNyFKWghnqI1Tf8PqMAAAB5F0iYuGKAWuoifufw+wwdBgBQECRMiFLuI+XuQcIEACgcqr4RqZIhjR07bNgwe7JTLQAAQN7pzOeh6huhAtchbVS9AQAKInAuVAwIqpcxcU0SAFAQgVMh5z+Eq5Mx0WEAAAVBwoRmhGdMdBgAQEFQ9Y2mhGZMdBgAQFHo1Oeh6ht1hWVMFH0DAIrCvkucqm/UV5sxkWADAAqDIiY0qTpjmsIFJgBAYZAwoWljx44tX5GcQroEACgSqr4BAEBGzD90i1F7jBmz/dBZFKhnwOa/2H2PUVsM1su6Zl93m9F77jZy03n1uj7lSh6KUgAAQHrt+KVSFmNGKxRq4N+0lHl2DYXCHabFjDlZkXqo+gYAABlxrjIWx78VCnWmFnKMVyjUAC3keFehOgJFTNSlAACAFLPzlh8qFuYlLeN4R6FQ/6OFHM8rFI6qbwAAkBk/Vs7iOkGxECtoEc/6Coa5Ucs4LlYoFAkTAADIjlm+UNbieEyxENalI2OOUzDELH5ZlPmFYqG0jIeqbwAAkHLXKW1xDVSslr2UeUjBEJtqEdfcioWh6hsAAGTJrkpbXHsrVut9LVGypKK1fq8lHH9RKAxV3wAAIFMWUt7iulGxGutqAdld4VrPagnHGIVCUMQEAAAy5m5lLo6vZlWs2lFaQK5RuMbyWsC1tGK1SJgAAEDWHKLUxbW5YtXuUrt8qHCN/bSA4wGFQmgJDwkTAADIAnvigHMVqzK7mit+pIZqN6vdcZRCtaj6BgAA2fOkkhdHnWm/f6bmipPUUGW2r9XuWFWxGlR9AwCADBqn7MUVnuecotaKJ9RQ5edqdtSd8JsiJgAAkEXrK31xHa5Y0KNq9YXP3HS2Wh2nKVSNhAkAAGTTdCUwjnsUClhUjZa91BT0gloddSqdhqnZQ8IEAACy4yJlMK4FFLONUptlspoCVlSj422FqgUuMSkGAACQAVsqg3HtoJhtvNosn8+kNtuBanRcqlANK2Wi6hsAAGRIP+vxuVcoZntJbcYavvup2my3qs0xQqFalZSJMTkAAJApf1IS43hHIYs/YdOR+tdxuhotc3yrNmO+mV2xEEqZSJgAAEC27FZKYjw/VMw3Ri3GrO5fRXpGjRZrcO8GhcK5U1iSMAEAgIxZpJTneMYp5rtOLWZG3wH6ybGcWn3nqsWxh0J1jDVT9BMAAEBm3KNMx/G4Qr731WIm2k9U2U+tvn+pxbGYQvWMpeobAABkzqHKdFyDFCtbV3Fjduvre04/GvMXNVcMUYPjXoUAAAByxJpJyYxRrOwoxY0Z0Nf3e/1ozDezqb3sEDU4fqUQAABAnjylXMdxk0JldylunnZebKqfHZuXmivuUNyxkkIAAAB5cqJyHcf/zapYyewKG3OW82rmL/TCmHNK7WX9FXY8pRAAAECubKBkxxW8ePQzRY3Zyn15g14YM9VrrthGYceJCgEAAOTLG8p2HOcqVHKKosbM7b7cWy8cK3vtZRco6lhfIQAAgHy5WNmO498KlTyqqG6AG6RXjoO9QFnlUSpmuiIAAAA5s5XSHdeqirkWVcyYY0qBJ/TSmDtKgZJVFXRcqBAAAEDOzPqV8h3H4Yq5RilmzAalwEl66ehfinh+pZhjC4UAAADy5nrlO457FHKNV8x8pMCP9NoxQiFXZQ4C88XMCgEAAOTN7kp4XAsq5qiUJ01WoO9DBYy5SBHHPAo5rlUIAAAgd/yCJWN2VKzPepDcvor0/VEBY6Yp4thOIccuCgEAAOTP35TxOK5UqK9vjCLGrKhI324KOIYqFLjVzrpABQAAkDNW7fa7CvX1XaeIeVmBvr4lFHEcoVBf3yuKGHOXIgAAADm0klIe1zDF+t5XwFyigONBhawS8dUVcByoEAAAQB49rZzHMU6hdfXamFGKOH6rkGN+hY7Qa8f3FQIAAMgja6alxxU6Sq+NWVQRxw8UcvxCobv12pjHFAEAAMilHyrpcQ0qhSqzLD1Sel3yloLGXFoKzK+XjuNKEQAAgJyaoazHMcYLzK5XxpzsvZbLFTTmjVJgpF461i5FAAAAcqoyv7cxN3mBTfXKmJ96r2UHBR3reIEJehWYogkAACCPtlba4/i/Wd3AKXplvvFeli2oqOM3XuB1vTLmHO81AABAbs32f8p7HJu7gUf1wtzhtVfcq7Ax97sv19ILx6ZeOwAAQH5NVt7jOM956T845fBSe5l/C51ZxHn5a/3sP64XAAAgt/5biY/jJeflKP1szJql9rI1FHbs5Lz0LzldVWoHAADIr8WU+LhWsyrB31Z7xatqMGZioKzJmucSAAAgp/yrRe4z4/6tH80kNVf4D959174UZeZVOwAAQH4dpszH8be+5fWTMXuouWJbNTg26LtMPxlzq5oBAABybGWlPq4Fx+iHygzgvrnV4DjemvhyHzUDAADk2TPKfRw7XqcfzHNqtNypJmMe9p/WawaoFQAAIM9OVu7juPJ9/WDOVaPlEDU5TtO/xjyoRgAAgFwbpuQnYBs1WoaoyeFPe3m0GgEAAPLtTWU/trA74KaqzTZUbQAAAPl2ibIfi/cklGrnqNEyVU0AAAA5t43SH8tv1RSwuRotZ6gJAAAg577ztfIf3zA1BcxWu9xGagIAAMi7G5T/VHyqhio3q7niXTUAAADk3h5KgCpuUkOVfdVccZkaAAAAcm9xJUAV+6uhymA1V2ynBgAAgPz7X2VAZUMUr/a02svmUBwAACD/DlcGJK8qXMOf69tTZ/AOAAAgjxb5VDlQyZEK11hdC8hmCgMAABTBpo8qCXKdqGCIXV/UMq4DFAQAACiIBX86YuQv9/3vHUYM+Y4i4RbbfNRuY/b97x1HrNxPEQAAAAAAAAAAAAAAAAAAAAAAAAAAAAAAAAAAAAAAAAAAAAAAAAAAAAAAAAAAAAAAAAAAAAAAAAAAAAAAAAAAAAAAAAAAAAAAAAAAAAAAAAAAAAAAAAAAAAAAAAAAAAAAAAAAAAAAAAAAAAAAAAAAAAAAAAAAAAAAAAAAAAAAAAAAAAAAAAAAAAAAAAAAAAAAAAAAAAAAAAAAAAAAAAAAAAAAAAAAAAAAAAAAAAAAAAAAAAAAAAAAAAAAAAAAAAAAAAAAAAAAAAAAAAAAAAAAAAAAAAAAAAAAAAAAAAAAAAAAAAAAAAAAAAAAAAAAAAAAAAAAAAAAAAAAAAAAAAAAAAAAAAAAAAAAAAAAAAAAAAAAAAAAAAAAAAAAAAAAAAAAAAAAAAAAAAAAAAAAAAAAAAAAAAAAAAAAAAAAAAAAAAAAAAAAAAAAAAAAAAAAAAAAAAAAAAAAAAAAAAAAAAAAAAAAAAAAAAAAAAAAAAAAAAAAAAAAAAAAAAAAAAAAAAAAAAAAAAAAAAAAAAAAAAAAAAAAAAAAAABAI319/w+/c+idWXMppAAAAABJRU5ErkJggg==)\n",
        "\n",
        "Step1: Compute the loss\n",
        "\n",
        "  loss = $(wx-y)^2$ = $(1\\times1-2)^2$ = 1\n",
        "\n",
        "Step2: Compute local gradients\n",
        "  \n",
        ">   $\\frac{\\partial loss}{\\partial s}$ = 2s\n",
        "\n",
        ">   $\\frac{\\partial s}{\\partial \\hat y}$ = 1\n",
        "\n",
        ">   $\\frac{\\partial \\hat y}{\\partial w}$ = x\n",
        "\n",
        "\n",
        "Step3: Backward pass: Use Chain Rule $\\frac{dLoss}{dWeights} $ = $2s\\times1\\times x$\n",
        "\n",
        "Step4: Update weights\n",
        "weight_new = weight - learning_rate $\\times$ $\\frac{dLoss}{dWeights} $\n"
      ]
    },
    {
      "cell_type": "markdown",
      "source": [
        "![PS2-2.png](data:image/png;base64,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)"
      ],
      "metadata": {
        "id": "PKDUMv5xEqqZ"
      }
    },
    {
      "cell_type": "code",
      "execution_count": null,
      "metadata": {
        "colab": {
          "background_save": true
        },
        "id": "AH-UZrovRjes",
        "outputId": "f5c2b86f-970d-4ef6-de27-85d2e82e5539"
      },
      "outputs": [
        {
          "name": "stdout",
          "output_type": "stream",
          "text": [
            "tensor(1., grad_fn=<PowBackward0>)\n",
            "tensor(-2.)\n"
          ]
        },
        {
          "data": {
            "text/plain": [
              "tensor(0.)"
            ]
          },
          "execution_count": null,
          "metadata": {},
          "output_type": "execute_result"
        }
      ],
      "source": [
        "import torch\n",
        "\n",
        "x = torch.tensor(1.0)\n",
        "y = torch.tensor(2.0)\n",
        "\n",
        "# This is the parameter we want to optimize -> requires_grad=True\n",
        "w = torch.tensor(1.0, requires_grad=True)\n",
        "# Initialize w\n",
        "\n",
        "#Step1: forward pass to compute loss\n",
        "y_predicted = w * x\n",
        "#define y_predicted\n",
        "loss = (y_predicted - y)**2\n",
        "#define loss function\n",
        "print(loss)\n",
        "\n",
        "#Step2 & Step3: backward pass to compute gradient dLoss/dw\n",
        "loss.backward()\n",
        "print(w.grad)\n",
        "\n",
        "# update weights\n",
        "# next forward and backward pass...\n",
        "\n",
        "# continue optimizing:\n",
        "# Step4: update weights, this operation should not be part of the computational graph\n",
        "with torch.no_grad():\n",
        "    w -= 0.01 * w.grad\n",
        "# don't forget to zero the gradients\n",
        "w.grad.zero_()\n",
        "\n",
        "# next forward and backward pass..."
      ]
    },
    {
      "cell_type": "markdown",
      "metadata": {
        "id": "WZ3GKwg4XKoX"
      },
      "source": [
        "Repeat four steps until find weights that meet the conditions"
      ]
    },
    {
      "cell_type": "markdown",
      "metadata": {
        "id": "iSiFiCiiJ7-a"
      },
      "source": [
        "**Example** (home study)\n",
        "--------------------\n",
        "Assume we have $x$ = {1, 2, 3, 4} and $y$ = {2, 4, 6, 8} and we also know $y = wx$. Please find the weights by using **BP** and predict the value of $y$ when $x$ = 5.\n",
        "\n",
        "Do it by yourself\n",
        "![PS2.png](data:image/png;base64,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)"
      ]
    },
    {
      "cell_type": "code",
      "execution_count": null,
      "metadata": {
        "id": "787nMYdsKJBl",
        "colab": {
          "base_uri": "https://localhost:8080/"
        },
        "outputId": "e08f13d0-7c2f-4e47-e5ef-d90fcdc8cf56"
      },
      "outputs": [
        {
          "output_type": "stream",
          "name": "stdout",
          "text": [
            "Prediction before training: f(5) = 0.000\n",
            "epoch 1: w = 0.300, loss = 30.00000000\n",
            "epoch 11: w = 1.665, loss = 1.16278565\n",
            "epoch 21: w = 1.934, loss = 0.04506890\n",
            "epoch 31: w = 1.987, loss = 0.00174685\n",
            "epoch 41: w = 1.997, loss = 0.00006770\n",
            "epoch 51: w = 1.999, loss = 0.00000262\n",
            "epoch 61: w = 2.000, loss = 0.00000010\n",
            "epoch 71: w = 2.000, loss = 0.00000000\n",
            "epoch 81: w = 2.000, loss = 0.00000000\n",
            "epoch 91: w = 2.000, loss = 0.00000000\n",
            "Prediction after training: f(5) = 10.000\n"
          ]
        }
      ],
      "source": [
        "# here : f = 2 * x\n",
        "X = torch.tensor([1, 2, 3, 4], dtype=torch.float32)\n",
        "Y = torch.tensor([2, 4, 6, 8], dtype=torch.float32)\n",
        "\n",
        "w = torch.tensor(0.0, dtype=torch.float32, requires_grad=True)\n",
        "\n",
        "# model output\n",
        "def forward(x):\n",
        "    return w * x\n",
        "\n",
        "# loss = MSE\n",
        "def loss(y, y_pred):\n",
        "    return ((y_pred - y)**2).mean()\n",
        "\n",
        "print(f'Prediction before training: f(5) = {forward(5).item():.3f}')\n",
        "\n",
        "# Training\n",
        "learning_rate = 0.01\n",
        "n_iters = 100\n",
        "\n",
        "for epoch in range(n_iters):\n",
        "    # predict = forward pass\n",
        "    y_pred = forward(X)\n",
        "\n",
        "    # loss\n",
        "    l = loss(Y, y_pred)\n",
        "\n",
        "    # calculate gradients = backward pass\n",
        "    l.backward()\n",
        "\n",
        "    # update weights\n",
        "    #w.data = w.data - learning_rate * w.grad\n",
        "    with torch.no_grad():\n",
        "        w -= learning_rate * w.grad\n",
        "    \n",
        "    # zero the gradients after updating\n",
        "    w.grad.zero_()\n",
        "\n",
        "    if epoch % 10 == 0:\n",
        "        print(f'epoch {epoch+1}: w = {w.item():.3f}, loss = {l.item():.8f}')\n",
        "\n",
        "print(f'Prediction after training: f(5) = {forward(5).item():.3f}')"
      ]
    },
    {
      "cell_type": "markdown",
      "metadata": {
        "id": "ms3hjWn3o8C1"
      },
      "source": [
        "**Summary**\n",
        "---------------------\n",
        "Prediction: Manually\n",
        "\n",
        "Gradients Computation: Autograd\n",
        "\n",
        "Loss Computation: Manually\n",
        "\n",
        "Parameter updates: Manually\n",
        "\n",
        "Gradient descent: Manually\n",
        "\n",
        "**Next Session:**\n",
        "\n",
        "Prediction: Pytorch Model\n",
        "\n",
        "Gradients Computation: Autograd\n",
        "\n",
        "Loss Computation: Pytorch Loss\n",
        "\n",
        "Parameter updates: Pytorch Optimize"
      ]
    },
    {
      "cell_type": "markdown",
      "metadata": {
        "id": "ExZrARuDOFSR"
      },
      "source": [
        "\n",
        "**Datasets**\n",
        "------------------\n",
        "\n",
        "\n"
      ]
    },
    {
      "cell_type": "markdown",
      "metadata": {
        "id": "zXGVL0i1OFST"
      },
      "source": [
        "PyTorch provides two data primitives: ``torch.utils.data.DataLoader`` and ``torch.utils.data.Dataset``\n",
        "that allow to use **pre-loaded datasets** as well as **your own data**.\n",
        "\n",
        "``Dataset`` stores the samples and their corresponding labels, and ``DataLoader`` wraps an iterable around\n",
        "the ``Dataset`` to enable easy access to the samples.\n",
        "\n",
        "PyTorch domain libraries provide a number of pre-loaded datasets.\n",
        "\n",
        "[Image Datasets](https://pytorch.org/vision/stable/datasets.html), [Text Datasets](https://pytorch.org/text/stable/datasets.html), [Audio Datasets](https://pytorch.org/audio/stable/datasets.html)\n",
        "\n",
        "\n"
      ]
    },
    {
      "cell_type": "markdown",
      "metadata": {
        "id": "5A3nGjQOOFSU"
      },
      "source": [
        "Loading a Dataset\n",
        "-------------------\n",
        "\n",
        "Here is an example of how to load the [Fashion-MNIST ](https://research.zalando.com/project/fashion_mnist/fashion_mnist/) dataset from TorchVision.\n",
        "\n",
        "Fashion-MNIST is a dataset of Zalando’s article images consisting of 60,000 training examples and 10,000 test examples.\n",
        "Each example comprises a 28×28 grayscale image and an associated label from one of 10 classes.\n",
        "\n",
        "We load the [Fashion-MNIST ](https://research.zalando.com/project/fashion_mnist/fashion_mnist/) with the following parameters:\n",
        " - ``root`` is the path where the train/test data is stored,\n",
        " - ``train`` specifies training or test dataset,\n",
        " - ``download=True`` downloads the data from the internet if it's not available at ``root``.\n",
        " - ``transform`` and ``target_transform`` specify the feature and label transformations\n",
        "\n"
      ]
    },
    {
      "cell_type": "code",
      "execution_count": null,
      "metadata": {
        "colab": {
          "base_uri": "https://localhost:8080/",
          "height": 435,
          "referenced_widgets": [
            "92c4bba5337e422b90f8d2c09e4617bf",
            "ade550602d404d77a870a100d575030e",
            "aaeb39269cb247df9c00570e0c19a672",
            "82c49fa5d1bc41169da2ad9abc209a8c",
            "e823b80a488146d3bc166ed75c8a9fbb",
            "8fa839721e2d470e88a68391456a443d",
            "b3f747a9704d4ad6b747d1d6e6db5046",
            "b9aeb2fa9d164daaa80655f7847f0289",
            "59917fb3a0c6425d85ff87c57f367f19",
            "daa906d4f27645838380e677ac233345",
            "d635498450d94d8f89cfa25d21f73fd6",
            "2aed51ba27d6425290be6d7758e6c40a",
            "465c4cf2697848e38b422717d4e64b1b",
            "af894db7fec142068ce5f0e1b8b5dfcd",
            "dba537f735e742b39b5d352df22a47b4",
            "51353f338f03479ebe2b6ccbe5a9a635",
            "2561b6579563442b801f0e9b75cd4f74",
            "06028b7516594ff3959dcc77593e0ce7",
            "cbc9ff7b17284c11aa05070861edc0c1",
            "a126c3f2ada24729b1d2a4d45846d8e4",
            "e17ed36976964725907e011d31106e60",
            "4a40ffe49c0b43bea3165b9c850fb80b",
            "1ca49c4cbc8a4118b8af146a35e572a7",
            "ebb84ad1627444f0b45442ba1f80ca5c",
            "3c75d9a9670649ae8e8c9d2bae2dfeb7",
            "19caad7ae9b14bb299dd8ec8ac44f06f",
            "8aaa4445b13447b395de1319ff3ea15c",
            "22efd54beaab41c5879b0897e918c5bd",
            "79c60ffe706e412f97f3b6982614163b",
            "8be9911db0f64c019a790f73d6f980a7",
            "d58effb3a5084002912de6c7070110f5",
            "89872315e53448a78680a9e109074c0e",
            "56517d379fcc4063ac922d58f0469d31",
            "c728eb4dedf8473c952cfaeee50b9ae2",
            "2a5b8f2f62164d8c9b174cfb3105f408",
            "2abad6f4e9b843e591529fd2c19bda0f",
            "89f91060735045cabf32711b116b6de4",
            "59a9ffcce867419e95839756d3138ac0",
            "15609b8073294dd9ae53ae63e5936ec1",
            "e9da62a8b825407d913cd03a3c60db16",
            "c3c4bf24a68d4ab0bed1329962e0967a",
            "96abf67ea51d4659bfde501944e9a26b",
            "7aa8c5045472484b9baee5fcbacee0d0",
            "0af40885ed32446982c45c3627af98bc"
          ]
        },
        "id": "WpUdFJV9OFSV",
        "outputId": "5d2b54fe-8467-49b7-d506-97bda1b0b1b1"
      },
      "outputs": [
        {
          "output_type": "stream",
          "name": "stdout",
          "text": [
            "Downloading http://fashion-mnist.s3-website.eu-central-1.amazonaws.com/train-images-idx3-ubyte.gz\n",
            "Downloading http://fashion-mnist.s3-website.eu-central-1.amazonaws.com/train-images-idx3-ubyte.gz to data/FashionMNIST/raw/train-images-idx3-ubyte.gz\n"
          ]
        },
        {
          "output_type": "display_data",
          "data": {
            "application/vnd.jupyter.widget-view+json": {
              "model_id": "92c4bba5337e422b90f8d2c09e4617bf",
              "version_minor": 0,
              "version_major": 2
            },
            "text/plain": [
              "  0%|          | 0/26421880 [00:00<?, ?it/s]"
            ]
          },
          "metadata": {}
        },
        {
          "output_type": "stream",
          "name": "stdout",
          "text": [
            "Extracting data/FashionMNIST/raw/train-images-idx3-ubyte.gz to data/FashionMNIST/raw\n",
            "\n",
            "Downloading http://fashion-mnist.s3-website.eu-central-1.amazonaws.com/train-labels-idx1-ubyte.gz\n",
            "Downloading http://fashion-mnist.s3-website.eu-central-1.amazonaws.com/train-labels-idx1-ubyte.gz to data/FashionMNIST/raw/train-labels-idx1-ubyte.gz\n"
          ]
        },
        {
          "output_type": "display_data",
          "data": {
            "application/vnd.jupyter.widget-view+json": {
              "model_id": "2aed51ba27d6425290be6d7758e6c40a",
              "version_minor": 0,
              "version_major": 2
            },
            "text/plain": [
              "  0%|          | 0/29515 [00:00<?, ?it/s]"
            ]
          },
          "metadata": {}
        },
        {
          "output_type": "stream",
          "name": "stdout",
          "text": [
            "Extracting data/FashionMNIST/raw/train-labels-idx1-ubyte.gz to data/FashionMNIST/raw\n",
            "\n",
            "Downloading http://fashion-mnist.s3-website.eu-central-1.amazonaws.com/t10k-images-idx3-ubyte.gz\n",
            "Downloading http://fashion-mnist.s3-website.eu-central-1.amazonaws.com/t10k-images-idx3-ubyte.gz to data/FashionMNIST/raw/t10k-images-idx3-ubyte.gz\n"
          ]
        },
        {
          "output_type": "display_data",
          "data": {
            "application/vnd.jupyter.widget-view+json": {
              "model_id": "1ca49c4cbc8a4118b8af146a35e572a7",
              "version_minor": 0,
              "version_major": 2
            },
            "text/plain": [
              "  0%|          | 0/4422102 [00:00<?, ?it/s]"
            ]
          },
          "metadata": {}
        },
        {
          "output_type": "stream",
          "name": "stdout",
          "text": [
            "Extracting data/FashionMNIST/raw/t10k-images-idx3-ubyte.gz to data/FashionMNIST/raw\n",
            "\n",
            "Downloading http://fashion-mnist.s3-website.eu-central-1.amazonaws.com/t10k-labels-idx1-ubyte.gz\n",
            "Downloading http://fashion-mnist.s3-website.eu-central-1.amazonaws.com/t10k-labels-idx1-ubyte.gz to data/FashionMNIST/raw/t10k-labels-idx1-ubyte.gz\n"
          ]
        },
        {
          "output_type": "display_data",
          "data": {
            "application/vnd.jupyter.widget-view+json": {
              "model_id": "c728eb4dedf8473c952cfaeee50b9ae2",
              "version_minor": 0,
              "version_major": 2
            },
            "text/plain": [
              "  0%|          | 0/5148 [00:00<?, ?it/s]"
            ]
          },
          "metadata": {}
        },
        {
          "output_type": "stream",
          "name": "stdout",
          "text": [
            "Extracting data/FashionMNIST/raw/t10k-labels-idx1-ubyte.gz to data/FashionMNIST/raw\n",
            "\n"
          ]
        }
      ],
      "source": [
        "import torch\n",
        "from torch.utils.data import Dataset\n",
        "from torchvision import datasets\n",
        "from torchvision.transforms import ToTensor\n",
        "import matplotlib.pyplot as plt\n",
        "\n",
        "\n",
        "training_data = datasets.FashionMNIST(\n",
        "    root=\"data\",\n",
        "    train=True,\n",
        "    download=True,\n",
        "    transform=ToTensor()\n",
        ")\n",
        "\n",
        "test_data = datasets.FashionMNIST(\n",
        "    root=\"data\",\n",
        "    train=False,\n",
        "    download=True,\n",
        "    transform=ToTensor()\n",
        ")"
      ]
    },
    {
      "cell_type": "markdown",
      "metadata": {
        "id": "A5PDU0O7OFSW"
      },
      "source": [
        "Iterating and Visualizing the Dataset\n",
        "-----------------\n",
        "\n",
        "We can index ``Datasets`` manually like a list: ``training_data[index]``.\n",
        "We use ``matplotlib`` to visualize some samples in our training data.\n",
        "\n"
      ]
    },
    {
      "cell_type": "code",
      "execution_count": null,
      "metadata": {
        "colab": {
          "base_uri": "https://localhost:8080/",
          "height": 482
        },
        "id": "Lq_msPELOFSW",
        "outputId": "e163231a-31b6-4ea5-b2c2-b9a66cbfb3f7"
      },
      "outputs": [
        {
          "output_type": "display_data",
          "data": {
            "image/png": "[encoded data removed]",
            "text/plain": [
              "<Figure size 576x576 with 9 Axes>"
            ]
          },
          "metadata": {
            "needs_background": "light"
          }
        }
      ],
      "source": [
        "labels_map = {\n",
        "    0: \"T-Shirt\",\n",
        "    1: \"Trouser\",\n",
        "    2: \"Pullover\",\n",
        "    3: \"Dress\",\n",
        "    4: \"Coat\",\n",
        "    5: \"Sandal\",\n",
        "    6: \"Shirt\",\n",
        "    7: \"Sneaker\",\n",
        "    8: \"Bag\",\n",
        "    9: \"Ankle Boot\",\n",
        "}\n",
        "figure = plt.figure(figsize=(8, 8))\n",
        "cols, rows = 3, 3\n",
        "for i in range(1, cols * rows + 1):\n",
        "    sample_idx = torch.randint(len(training_data), size=(1,)).item() #Returns a tensor filled with random integers generated uniformly between 0 and len(training_data).\n",
        "    img, label = training_data[sample_idx]\n",
        "    figure.add_subplot(rows, cols, i)\n",
        "    plt.title(labels_map[label])\n",
        "    plt.axis(\"off\")\n",
        "    plt.imshow(img.squeeze(), cmap=\"gray\")\n",
        "plt.show()"
      ]
    },
    {
      "cell_type": "markdown",
      "metadata": {
        "id": "9dXR-rDqOFSY"
      },
      "source": [
        "--------------\n",
        "\n",
        "\n"
      ]
    },
    {
      "cell_type": "markdown",
      "metadata": {
        "id": "iJwHRNGtOFSY"
      },
      "source": [
        "Creating a Custom Dataset for your files\n",
        "---------------------------------------------------\n",
        "\n",
        "A custom Dataset class must implement three functions: `__init__`, `__len__`, and `__getitem__`.\n",
        "Take a look at this implementation; the FashionMNIST images are stored\n",
        "in a directory ``img_dir``, and their labels are stored separately in a CSV file ``annotations_file``.\n",
        "\n",
        "In the next sections, we'll break down what's happening in each of these functions.\n",
        "\n"
      ]
    },
    {
      "cell_type": "code",
      "execution_count": null,
      "metadata": {
        "id": "5340fnylOFSZ"
      },
      "outputs": [],
      "source": [
        "import os\n",
        "import pandas as pd\n",
        "from torchvision.io import read_image\n",
        "\n",
        "class CustomImageDataset(Dataset):\n",
        "    def __init__(self, annotations_file, img_dir, transform=None, target_transform=None):\n",
        "        self.img_labels = pd.read_csv(annotations_file)\n",
        "        self.img_dir = img_dir\n",
        "        self.transform = transform\n",
        "        self.target_transform = target_transform\n",
        "\n",
        "    def __len__(self):\n",
        "        return len(self.img_labels)\n",
        "\n",
        "    def __getitem__(self, idx):\n",
        "        img_path = os.path.join(self.img_dir, self.img_labels.iloc[idx, 0])\n",
        "        image = read_image(img_path)\n",
        "        label = self.img_labels.iloc[idx, 1]\n",
        "        if self.transform:\n",
        "            image = self.transform(image)\n",
        "        if self.target_transform:\n",
        "            label = self.target_transform(label)\n",
        "        return image, label"
      ]
    },
    {
      "cell_type": "markdown",
      "metadata": {
        "id": "nJoeKyzAOFSZ"
      },
      "source": [
        "$__init__$\n",
        "----------------------\n",
        "\n",
        "The __init__ function is run once when instantiating the Dataset object. We initialize\n",
        "the directory containing the images, the annotations file, and both transforms (covered\n",
        "in more detail in the next section).\n",
        "\n",
        "The labels.csv file looks like:\n",
        "\n",
        "    tshirt1.jpg, 0\n",
        "    tshirt2.jpg, 0\n",
        "    ......\n",
        "    ankleboot999.jpg, 9\n",
        "\n"
      ]
    },
    {
      "cell_type": "code",
      "execution_count": null,
      "metadata": {
        "id": "aUWGEoXcOFSa"
      },
      "outputs": [],
      "source": [
        "def __init__(self, annotations_file, img_dir, transform=None, target_transform=None):\n",
        "    self.img_labels = pd.read_csv(annotations_file, names=['file_name', 'label'])\n",
        "    self.img_dir = img_dir\n",
        "    self.transform = transform\n",
        "    self.target_transform = target_transform"
      ]
    },
    {
      "cell_type": "markdown",
      "metadata": {
        "id": "Dx9LYEEzOFSa"
      },
      "source": [
        "$__len__$\n",
        "-----------------------------\n",
        "\n",
        "The __len__ function returns the number of samples in our dataset.\n",
        "\n",
        "Example:\n",
        "\n"
      ]
    },
    {
      "cell_type": "code",
      "execution_count": null,
      "metadata": {
        "id": "oPAo1e26OFSa"
      },
      "outputs": [],
      "source": [
        "def __len__(self):\n",
        "    return len(self.img_labels)"
      ]
    },
    {
      "cell_type": "markdown",
      "metadata": {
        "id": "SJi_bOvgOFSa"
      },
      "source": [
        "$__getitem__$\n",
        "------------------------------------\n",
        "\n",
        "The __getitem__ function loads and returns a sample from the dataset at the given index ``idx``.Based on the index, it identifies the image's location on disk.\n",
        "\n",
        " ``read_image``: convert the image to a tensor, \n",
        " \n",
        " ``self.img_labels``: find the corresponding label from the csv data.\n",
        "\n",
        " ``self.transform`` and ``self.target_transform``: calls the transform functions on them (if applicable), \n",
        " "
      ]
    },
    {
      "cell_type": "code",
      "execution_count": null,
      "metadata": {
        "id": "1JNgEPH7OFSb"
      },
      "outputs": [],
      "source": [
        "def __getitem__(self, idx):\n",
        "    img_path = os.path.join(self.img_dir, self.img_labels.iloc[idx, 0])\n",
        "    image = read_image(img_path)\n",
        "    label = self.img_labels.iloc[idx, 1]\n",
        "    if self.transform:\n",
        "        image = self.transform(image)\n",
        "    if self.target_transform:\n",
        "        label = self.target_transform(label)\n",
        "    return image, label"
      ]
    },
    {
      "cell_type": "markdown",
      "metadata": {
        "id": "C9dkD8pLOFSb"
      },
      "source": [
        "--------------\n",
        "\n",
        "\n"
      ]
    },
    {
      "cell_type": "markdown",
      "metadata": {
        "id": "AyRfGQ4ZOFSb"
      },
      "source": [
        "**DataLoaders**\n",
        "-------------------------------------------------"
      ]
    },
    {
      "cell_type": "code",
      "execution_count": null,
      "metadata": {
        "id": "HBz9A9M19gxL"
      },
      "outputs": [],
      "source": [
        "'''\n",
        "# training loop\n",
        "for epoch in range(num_epochs):\n",
        "    # loop over all batches\n",
        "    for i in range(total_batches):\n",
        "        batch_x, batch_y = ...\n",
        "'''\n",
        "# Basic concepts during training loop\n",
        "# epoch = one forward and backward pass of ALL training samples\n",
        "# batch_size = number of training samples used in one forward/backward pass\n",
        "# number of iterations = number of passes, each pass (forward+backward) using [batch_size] number of sampes\n",
        "\n",
        "\n",
        "# e.g : 100 samples, batch_size=20,\n",
        "# The algorithm takes the first 20 samples from the training dataset and trains the network. \n",
        "# Next, it takes the second 20 samples and trains the network again. \n",
        "# We can keep doing this procedure until we have propagated all samples through of the network, which means we complete one EPOCH. \n",
        "# During each epoch, it has 100/20=5 iterations.\n"
      ]
    },
    {
      "cell_type": "markdown",
      "metadata": {
        "id": "LM7zfFLp9pjk"
      },
      "source": [
        "DataLoader can do the batch computation for us.\n",
        "\n",
        " ``shuffle ``: shuffle data, good for training. [link text](https://pytorch.org/docs/stable/data.html#data-loading-order-and-sample)"
      ]
    },
    {
      "cell_type": "code",
      "execution_count": null,
      "metadata": {
        "id": "qkwsxQ5dOFSb"
      },
      "outputs": [],
      "source": [
        "from torch.utils.data import DataLoader\n",
        "\n",
        "train_dataloader = DataLoader(training_data, batch_size=64, shuffle=True)\n",
        "test_dataloader = DataLoader(test_data, batch_size=64, shuffle=True)"
      ]
    },
    {
      "cell_type": "markdown",
      "metadata": {
        "id": "M2En1pVHOFSc"
      },
      "source": [
        "Iterate through the DataLoader\n",
        "--------------------------\n",
        "\n",
        "We have loaded that dataset into the ``DataLoader`` and can iterate through the dataset as needed.\n",
        "Each iteration below returns a batch of ``train_features`` and ``train_labels`` (containing ``batch_size=64`` features and labels respectively).\n"
      ]
    },
    {
      "cell_type": "code",
      "execution_count": null,
      "metadata": {
        "colab": {
          "base_uri": "https://localhost:8080/",
          "height": 319
        },
        "id": "LloSs4UVOFSc",
        "outputId": "7b9d5d15-8194-49b0-b2e8-2ff2182e1b1c"
      },
      "outputs": [
        {
          "name": "stdout",
          "output_type": "stream",
          "text": [
            "Feature batch shape: torch.Size([64, 1, 28, 28])\n",
            "Labels batch shape: torch.Size([64])\n"
          ]
        },
        {
          "data": {
            "image/png": "[encoded data removed]",
            "text/plain": [
              "<Figure size 432x288 with 1 Axes>"
            ]
          },
          "metadata": {},
          "output_type": "display_data"
        },
        {
          "name": "stdout",
          "output_type": "stream",
          "text": [
            "Label: 4\n"
          ]
        }
      ],
      "source": [
        "# Display image and label.\n",
        "train_features, train_labels = next(iter(train_dataloader))\n",
        "# iter: change train_dataloader to an iterator; next: get the first iteration\n",
        "\n",
        "print(f\"Feature batch shape: {train_features.size()}\")\n",
        "print(f\"Labels batch shape: {train_labels.size()}\")\n",
        "\n",
        "img = train_features[0].squeeze()\n",
        "label = train_labels[0]\n",
        "plt.imshow(img, cmap=\"gray\")\n",
        "plt.show()\n",
        "# Visualize the first iteration sample\n",
        "\n",
        "print(f\"Label: {label}\")\n",
        "#labels_map = {0: \"T-Shirt\", 1: \"Trouser\", 2: \"Pullover\", 3: \"Dress\", 4: \"Coat\", 5: \"Sandal\", 6: \"Shirt\", 7: \"Sneaker\", 8: \"Bag\", 9: \"Ankle Boot\",}"
      ]
    },
    {
      "cell_type": "markdown",
      "metadata": {
        "id": "hrBQ3vWZOFSc"
      },
      "source": [
        "--------------\n",
        "\n",
        "\n"
      ]
    },
    {
      "cell_type": "markdown",
      "metadata": {
        "id": "wVb7azW9OFSc"
      },
      "source": [
        "[torch.utils.data API](https://pytorch.org/docs/stable/data.html)\n",
        "\n"
      ]
    },
    {
      "cell_type": "markdown",
      "metadata": {
        "id": "FgMhGJoVPp4F"
      },
      "source": [
        "\n",
        "Transforms\n",
        "===================\n",
        "\n",
        "Data does not always come in its final processed form that is required for\n",
        "training machine learning algorithms. We use **transforms** to perform some\n",
        "manipulation of the data and make it suitable for training.\n",
        "\n",
        "All TorchVision datasets have two parameters -``transform`` to modify the features and\n",
        "``target_transform`` to modify the labels - that accept callables containing the transformation logic.\n",
        "The[`torchvision.transforms`](https://pytorch.org/vision/stable/transforms.html) module offers\n",
        "several commonly-used transforms out of the box.\n",
        "\n",
        "The FashionMNIST features are in PIL Image format, and the labels are integers.\n",
        "For training, we need the features as normalized tensors, and the labels as one-hot encoded tensors.\n",
        "To make these transformations, we use ``ToTensor`` and ``Lambda``.\n",
        "\n"
      ]
    },
    {
      "cell_type": "code",
      "execution_count": null,
      "metadata": {
        "id": "-YMdepxjPp4H"
      },
      "outputs": [],
      "source": [
        "import torch\n",
        "from torchvision import datasets\n",
        "from torchvision.transforms import ToTensor, Lambda\n",
        "\n",
        "ds = datasets.FashionMNIST(\n",
        "    root=\"data\",\n",
        "    train=True,\n",
        "    download=True,\n",
        "    # ToTensor converts a PIL image or NumPy ndarray into a FloatTensor. and scales the image's pixel intensity values in the range [0., 1.]\n",
        "    transform=ToTensor(),\n",
        "    target_transform=Lambda(lambda y: torch.zeros(10, dtype=torch.float).scatter_(0, torch.tensor(y), value=1))\n",
        "    # turn the integer into a one-hot encoded tensor\n",
        "    # first create a zero tensor of size 10 (the number of labels in our dataset) \n",
        "    # use scatter_ to assign a value=1 on the index as given by the label y.\n",
        ")"
      ]
    },
    {
      "cell_type": "markdown",
      "metadata": {
        "id": "j4BFzs2aPp4K"
      },
      "source": [
        "--------------\n",
        "\n",
        "\n"
      ]
    },
    {
      "cell_type": "markdown",
      "metadata": {
        "id": "NUGD9B35CYhP"
      },
      "source": [
        "[torchvision.transforms API ](https://pytorch.org/vision/stable/transforms.html)"
      ]
    }
  ],
  "metadata": {
    "colab": {
      "collapsed_sections": [],
      "name": "Practice Session 1.ipynb",
      "provenance": []
    },
    "kernelspec": {
      "display_name": "Python 3",
      "language": "python",
      "name": "python3"
    },
    "language_info": {
      "codemirror_mode": {
        "name": "ipython",
        "version": 3
      },
      "file_extension": ".py",
      "mimetype": "text/x-python",
      "name": "python",
      "nbconvert_exporter": "python",
      "pygments_lexer": "ipython3",
      "version": "3.6.13"
    },
    "widgets": {
      "application/vnd.jupyter.widget-state+json": {
        "92c4bba5337e422b90f8d2c09e4617bf": {
          "model_module": "@jupyter-widgets/controls",
          "model_name": "HBoxModel",
          "model_module_version": "1.5.0",
          "state": {
            "_view_name": "HBoxView",
            "_dom_classes": [],
            "_model_name": "HBoxModel",
            "_view_module": "@jupyter-widgets/controls",
            "_model_module_version": "1.5.0",
            "_view_count": null,
            "_view_module_version": "1.5.0",
            "box_style": "",
            "layout": "IPY_MODEL_ade550602d404d77a870a100d575030e",
            "_model_module": "@jupyter-widgets/controls",
            "children": [
              "IPY_MODEL_aaeb39269cb247df9c00570e0c19a672",
              "IPY_MODEL_82c49fa5d1bc41169da2ad9abc209a8c",
              "IPY_MODEL_e823b80a488146d3bc166ed75c8a9fbb"
            ]
          }
        },
        "ade550602d404d77a870a100d575030e": {
          "model_module": "@jupyter-widgets/base",
          "model_name": "LayoutModel",
          "model_module_version": "1.2.0",
          "state": {
            "_view_name": "LayoutView",
            "grid_template_rows": null,
            "right": null,
            "justify_content": null,
            "_view_module": "@jupyter-widgets/base",
            "overflow": null,
            "_model_module_version": "1.2.0",
            "_view_count": null,
            "flex_flow": null,
            "width": null,
            "min_width": null,
            "border": null,
            "align_items": null,
            "bottom": null,
            "_model_module": "@jupyter-widgets/base",
            "top": null,
            "grid_column": null,
            "overflow_y": null,
            "overflow_x": null,
            "grid_auto_flow": null,
            "grid_area": null,
            "grid_template_columns": null,
            "flex": null,
            "_model_name": "LayoutModel",
            "justify_items": null,
            "grid_row": null,
            "max_height": null,
            "align_content": null,
            "visibility": null,
            "align_self": null,
            "height": null,
            "min_height": null,
            "padding": null,
            "grid_auto_rows": null,
            "grid_gap": null,
            "max_width": null,
            "order": null,
            "_view_module_version": "1.2.0",
            "grid_template_areas": null,
            "object_position": null,
            "object_fit": null,
            "grid_auto_columns": null,
            "margin": null,
            "display": null,
            "left": null
          }
        },
        "aaeb39269cb247df9c00570e0c19a672": {
          "model_module": "@jupyter-widgets/controls",
          "model_name": "HTMLModel",
          "model_module_version": "1.5.0",
          "state": {
            "_view_name": "HTMLView",
            "style": "IPY_MODEL_8fa839721e2d470e88a68391456a443d",
            "_dom_classes": [],
            "description": "",
            "_model_name": "HTMLModel",
            "placeholder": "​",
            "_view_module": "@jupyter-widgets/controls",
            "_model_module_version": "1.5.0",
            "value": "",
            "_view_count": null,
            "_view_module_version": "1.5.0",
            "description_tooltip": null,
            "_model_module": "@jupyter-widgets/controls",
            "layout": "IPY_MODEL_b3f747a9704d4ad6b747d1d6e6db5046"
          }
        },
        "82c49fa5d1bc41169da2ad9abc209a8c": {
          "model_module": "@jupyter-widgets/controls",
          "model_name": "FloatProgressModel",
          "model_module_version": "1.5.0",
          "state": {
            "_view_name": "ProgressView",
            "style": "IPY_MODEL_b9aeb2fa9d164daaa80655f7847f0289",
            "_dom_classes": [],
            "description": "",
            "_model_name": "FloatProgressModel",
            "bar_style": "success",
            "max": 26421880,
            "_view_module": "@jupyter-widgets/controls",
            "_model_module_version": "1.5.0",
            "value": 26421880,
            "_view_count": null,
            "_view_module_version": "1.5.0",
            "orientation": "horizontal",
            "min": 0,
            "description_tooltip": null,
            "_model_module": "@jupyter-widgets/controls",
            "layout": "IPY_MODEL_59917fb3a0c6425d85ff87c57f367f19"
          }
        },
        "e823b80a488146d3bc166ed75c8a9fbb": {
          "model_module": "@jupyter-widgets/controls",
          "model_name": "HTMLModel",
          "model_module_version": "1.5.0",
          "state": {
            "_view_name": "HTMLView",
            "style": "IPY_MODEL_daa906d4f27645838380e677ac233345",
            "_dom_classes": [],
            "description": "",
            "_model_name": "HTMLModel",
            "placeholder": "​",
            "_view_module": "@jupyter-widgets/controls",
            "_model_module_version": "1.5.0",
            "value": " 26422272/? [00:02&lt;00:00, 18606687.97it/s]",
            "_view_count": null,
            "_view_module_version": "1.5.0",
            "description_tooltip": null,
            "_model_module": "@jupyter-widgets/controls",
            "layout": "IPY_MODEL_d635498450d94d8f89cfa25d21f73fd6"
          }
        },
        "8fa839721e2d470e88a68391456a443d": {
          "model_module": "@jupyter-widgets/controls",
          "model_name": "DescriptionStyleModel",
          "model_module_version": "1.5.0",
          "state": {
            "_view_name": "StyleView",
            "_model_name": "DescriptionStyleModel",
            "description_width": "",
            "_view_module": "@jupyter-widgets/base",
            "_model_module_version": "1.5.0",
            "_view_count": null,
            "_view_module_version": "1.2.0",
            "_model_module": "@jupyter-widgets/controls"
          }
        },
        "b3f747a9704d4ad6b747d1d6e6db5046": {
          "model_module": "@jupyter-widgets/base",
          "model_name": "LayoutModel",
          "model_module_version": "1.2.0",
          "state": {
            "_view_name": "LayoutView",
            "grid_template_rows": null,
            "right": null,
            "justify_content": null,
            "_view_module": "@jupyter-widgets/base",
            "overflow": null,
            "_model_module_version": "1.2.0",
            "_view_count": null,
            "flex_flow": null,
            "width": null,
            "min_width": null,
            "border": null,
            "align_items": null,
            "bottom": null,
            "_model_module": "@jupyter-widgets/base",
            "top": null,
            "grid_column": null,
            "overflow_y": null,
            "overflow_x": null,
            "grid_auto_flow": null,
            "grid_area": null,
            "grid_template_columns": null,
            "flex": null,
            "_model_name": "LayoutModel",
            "justify_items": null,
            "grid_row": null,
            "max_height": null,
            "align_content": null,
            "visibility": null,
            "align_self": null,
            "height": null,
            "min_height": null,
            "padding": null,
            "grid_auto_rows": null,
            "grid_gap": null,
            "max_width": null,
            "order": null,
            "_view_module_version": "1.2.0",
            "grid_template_areas": null,
            "object_position": null,
            "object_fit": null,
            "grid_auto_columns": null,
            "margin": null,
            "display": null,
            "left": null
          }
        },
        "b9aeb2fa9d164daaa80655f7847f0289": {
          "model_module": "@jupyter-widgets/controls",
          "model_name": "ProgressStyleModel",
          "model_module_version": "1.5.0",
          "state": {
            "_view_name": "StyleView",
            "_model_name": "ProgressStyleModel",
            "description_width": "",
            "_view_module": "@jupyter-widgets/base",
            "_model_module_version": "1.5.0",
            "_view_count": null,
            "_view_module_version": "1.2.0",
            "bar_color": null,
            "_model_module": "@jupyter-widgets/controls"
          }
        },
        "59917fb3a0c6425d85ff87c57f367f19": {
          "model_module": "@jupyter-widgets/base",
          "model_name": "LayoutModel",
          "model_module_version": "1.2.0",
          "state": {
            "_view_name": "LayoutView",
            "grid_template_rows": null,
            "right": null,
            "justify_content": null,
            "_view_module": "@jupyter-widgets/base",
            "overflow": null,
            "_model_module_version": "1.2.0",
            "_view_count": null,
            "flex_flow": null,
            "width": null,
            "min_width": null,
            "border": null,
            "align_items": null,
            "bottom": null,
            "_model_module": "@jupyter-widgets/base",
            "top": null,
            "grid_column": null,
            "overflow_y": null,
            "overflow_x": null,
            "grid_auto_flow": null,
            "grid_area": null,
            "grid_template_columns": null,
            "flex": null,
            "_model_name": "LayoutModel",
            "justify_items": null,
            "grid_row": null,
            "max_height": null,
            "align_content": null,
            "visibility": null,
            "align_self": null,
            "height": null,
            "min_height": null,
            "padding": null,
            "grid_auto_rows": null,
            "grid_gap": null,
            "max_width": null,
            "order": null,
            "_view_module_version": "1.2.0",
            "grid_template_areas": null,
            "object_position": null,
            "object_fit": null,
            "grid_auto_columns": null,
            "margin": null,
            "display": null,
            "left": null
          }
        },
        "daa906d4f27645838380e677ac233345": {
          "model_module": "@jupyter-widgets/controls",
          "model_name": "DescriptionStyleModel",
          "model_module_version": "1.5.0",
          "state": {
            "_view_name": "StyleView",
            "_model_name": "DescriptionStyleModel",
            "description_width": "",
            "_view_module": "@jupyter-widgets/base",
            "_model_module_version": "1.5.0",
            "_view_count": null,
            "_view_module_version": "1.2.0",
            "_model_module": "@jupyter-widgets/controls"
          }
        },
        "d635498450d94d8f89cfa25d21f73fd6": {
          "model_module": "@jupyter-widgets/base",
          "model_name": "LayoutModel",
          "model_module_version": "1.2.0",
          "state": {
            "_view_name": "LayoutView",
            "grid_template_rows": null,
            "right": null,
            "justify_content": null,
            "_view_module": "@jupyter-widgets/base",
            "overflow": null,
            "_model_module_version": "1.2.0",
            "_view_count": null,
            "flex_flow": null,
            "width": null,
            "min_width": null,
            "border": null,
            "align_items": null,
            "bottom": null,
            "_model_module": "@jupyter-widgets/base",
            "top": null,
            "grid_column": null,
            "overflow_y": null,
            "overflow_x": null,
            "grid_auto_flow": null,
            "grid_area": null,
            "grid_template_columns": null,
            "flex": null,
            "_model_name": "LayoutModel",
            "justify_items": null,
            "grid_row": null,
            "max_height": null,
            "align_content": null,
            "visibility": null,
            "align_self": null,
            "height": null,
            "min_height": null,
            "padding": null,
            "grid_auto_rows": null,
            "grid_gap": null,
            "max_width": null,
            "order": null,
            "_view_module_version": "1.2.0",
            "grid_template_areas": null,
            "object_position": null,
            "object_fit": null,
            "grid_auto_columns": null,
            "margin": null,
            "display": null,
            "left": null
          }
        },
        "2aed51ba27d6425290be6d7758e6c40a": {
          "model_module": "@jupyter-widgets/controls",
          "model_name": "HBoxModel",
          "model_module_version": "1.5.0",
          "state": {
            "_view_name": "HBoxView",
            "_dom_classes": [],
            "_model_name": "HBoxModel",
            "_view_module": "@jupyter-widgets/controls",
            "_model_module_version": "1.5.0",
            "_view_count": null,
            "_view_module_version": "1.5.0",
            "box_style": "",
            "layout": "IPY_MODEL_465c4cf2697848e38b422717d4e64b1b",
            "_model_module": "@jupyter-widgets/controls",
            "children": [
              "IPY_MODEL_af894db7fec142068ce5f0e1b8b5dfcd",
              "IPY_MODEL_dba537f735e742b39b5d352df22a47b4",
              "IPY_MODEL_51353f338f03479ebe2b6ccbe5a9a635"
            ]
          }
        },
        "465c4cf2697848e38b422717d4e64b1b": {
          "model_module": "@jupyter-widgets/base",
          "model_name": "LayoutModel",
          "model_module_version": "1.2.0",
          "state": {
            "_view_name": "LayoutView",
            "grid_template_rows": null,
            "right": null,
            "justify_content": null,
            "_view_module": "@jupyter-widgets/base",
            "overflow": null,
            "_model_module_version": "1.2.0",
            "_view_count": null,
            "flex_flow": null,
            "width": null,
            "min_width": null,
            "border": null,
            "align_items": null,
            "bottom": null,
            "_model_module": "@jupyter-widgets/base",
            "top": null,
            "grid_column": null,
            "overflow_y": null,
            "overflow_x": null,
            "grid_auto_flow": null,
            "grid_area": null,
            "grid_template_columns": null,
            "flex": null,
            "_model_name": "LayoutModel",
            "justify_items": null,
            "grid_row": null,
            "max_height": null,
            "align_content": null,
            "visibility": null,
            "align_self": null,
            "height": null,
            "min_height": null,
            "padding": null,
            "grid_auto_rows": null,
            "grid_gap": null,
            "max_width": null,
            "order": null,
            "_view_module_version": "1.2.0",
            "grid_template_areas": null,
            "object_position": null,
            "object_fit": null,
            "grid_auto_columns": null,
            "margin": null,
            "display": null,
            "left": null
          }
        },
        "af894db7fec142068ce5f0e1b8b5dfcd": {
          "model_module": "@jupyter-widgets/controls",
          "model_name": "HTMLModel",
          "model_module_version": "1.5.0",
          "state": {
            "_view_name": "HTMLView",
            "style": "IPY_MODEL_2561b6579563442b801f0e9b75cd4f74",
            "_dom_classes": [],
            "description": "",
            "_model_name": "HTMLModel",
            "placeholder": "​",
            "_view_module": "@jupyter-widgets/controls",
            "_model_module_version": "1.5.0",
            "value": "",
            "_view_count": null,
            "_view_module_version": "1.5.0",
            "description_tooltip": null,
            "_model_module": "@jupyter-widgets/controls",
            "layout": "IPY_MODEL_06028b7516594ff3959dcc77593e0ce7"
          }
        },
        "dba537f735e742b39b5d352df22a47b4": {
          "model_module": "@jupyter-widgets/controls",
          "model_name": "FloatProgressModel",
          "model_module_version": "1.5.0",
          "state": {
            "_view_name": "ProgressView",
            "style": "IPY_MODEL_cbc9ff7b17284c11aa05070861edc0c1",
            "_dom_classes": [],
            "description": "",
            "_model_name": "FloatProgressModel",
            "bar_style": "success",
            "max": 29515,
            "_view_module": "@jupyter-widgets/controls",
            "_model_module_version": "1.5.0",
            "value": 29515,
            "_view_count": null,
            "_view_module_version": "1.5.0",
            "orientation": "horizontal",
            "min": 0,
            "description_tooltip": null,
            "_model_module": "@jupyter-widgets/controls",
            "layout": "IPY_MODEL_a126c3f2ada24729b1d2a4d45846d8e4"
          }
        },
        "51353f338f03479ebe2b6ccbe5a9a635": {
          "model_module": "@jupyter-widgets/controls",
          "model_name": "HTMLModel",
          "model_module_version": "1.5.0",
          "state": {
            "_view_name": "HTMLView",
            "style": "IPY_MODEL_e17ed36976964725907e011d31106e60",
            "_dom_classes": [],
            "description": "",
            "_model_name": "HTMLModel",
            "placeholder": "​",
            "_view_module": "@jupyter-widgets/controls",
            "_model_module_version": "1.5.0",
            "value": " 29696/? [00:00&lt;00:00, 96145.33it/s]",
            "_view_count": null,
            "_view_module_version": "1.5.0",
            "description_tooltip": null,
            "_model_module": "@jupyter-widgets/controls",
            "layout": "IPY_MODEL_4a40ffe49c0b43bea3165b9c850fb80b"
          }
        },
        "2561b6579563442b801f0e9b75cd4f74": {
          "model_module": "@jupyter-widgets/controls",
          "model_name": "DescriptionStyleModel",
          "model_module_version": "1.5.0",
          "state": {
            "_view_name": "StyleView",
            "_model_name": "DescriptionStyleModel",
            "description_width": "",
            "_view_module": "@jupyter-widgets/base",
            "_model_module_version": "1.5.0",
            "_view_count": null,
            "_view_module_version": "1.2.0",
            "_model_module": "@jupyter-widgets/controls"
          }
        },
        "06028b7516594ff3959dcc77593e0ce7": {
          "model_module": "@jupyter-widgets/base",
          "model_name": "LayoutModel",
          "model_module_version": "1.2.0",
          "state": {
            "_view_name": "LayoutView",
            "grid_template_rows": null,
            "right": null,
            "justify_content": null,
            "_view_module": "@jupyter-widgets/base",
            "overflow": null,
            "_model_module_version": "1.2.0",
            "_view_count": null,
            "flex_flow": null,
            "width": null,
            "min_width": null,
            "border": null,
            "align_items": null,
            "bottom": null,
            "_model_module": "@jupyter-widgets/base",
            "top": null,
            "grid_column": null,
            "overflow_y": null,
            "overflow_x": null,
            "grid_auto_flow": null,
            "grid_area": null,
            "grid_template_columns": null,
            "flex": null,
            "_model_name": "LayoutModel",
            "justify_items": null,
            "grid_row": null,
            "max_height": null,
            "align_content": null,
            "visibility": null,
            "align_self": null,
            "height": null,
            "min_height": null,
            "padding": null,
            "grid_auto_rows": null,
            "grid_gap": null,
            "max_width": null,
            "order": null,
            "_view_module_version": "1.2.0",
            "grid_template_areas": null,
            "object_position": null,
            "object_fit": null,
            "grid_auto_columns": null,
            "margin": null,
            "display": null,
            "left": null
          }
        },
        "cbc9ff7b17284c11aa05070861edc0c1": {
          "model_module": "@jupyter-widgets/controls",
          "model_name": "ProgressStyleModel",
          "model_module_version": "1.5.0",
          "state": {
            "_view_name": "StyleView",
            "_model_name": "ProgressStyleModel",
            "description_width": "",
            "_view_module": "@jupyter-widgets/base",
            "_model_module_version": "1.5.0",
            "_view_count": null,
            "_view_module_version": "1.2.0",
            "bar_color": null,
            "_model_module": "@jupyter-widgets/controls"
          }
        },
        "a126c3f2ada24729b1d2a4d45846d8e4": {
          "model_module": "@jupyter-widgets/base",
          "model_name": "LayoutModel",
          "model_module_version": "1.2.0",
          "state": {
            "_view_name": "LayoutView",
            "grid_template_rows": null,
            "right": null,
            "justify_content": null,
            "_view_module": "@jupyter-widgets/base",
            "overflow": null,
            "_model_module_version": "1.2.0",
            "_view_count": null,
            "flex_flow": null,
            "width": null,
            "min_width": null,
            "border": null,
            "align_items": null,
            "bottom": null,
            "_model_module": "@jupyter-widgets/base",
            "top": null,
            "grid_column": null,
            "overflow_y": null,
            "overflow_x": null,
            "grid_auto_flow": null,
            "grid_area": null,
            "grid_template_columns": null,
            "flex": null,
            "_model_name": "LayoutModel",
            "justify_items": null,
            "grid_row": null,
            "max_height": null,
            "align_content": null,
            "visibility": null,
            "align_self": null,
            "height": null,
            "min_height": null,
            "padding": null,
            "grid_auto_rows": null,
            "grid_gap": null,
            "max_width": null,
            "order": null,
            "_view_module_version": "1.2.0",
            "grid_template_areas": null,
            "object_position": null,
            "object_fit": null,
            "grid_auto_columns": null,
            "margin": null,
            "display": null,
            "left": null
          }
        },
        "e17ed36976964725907e011d31106e60": {
          "model_module": "@jupyter-widgets/controls",
          "model_name": "DescriptionStyleModel",
          "model_module_version": "1.5.0",
          "state": {
            "_view_name": "StyleView",
            "_model_name": "DescriptionStyleModel",
            "description_width": "",
            "_view_module": "@jupyter-widgets/base",
            "_model_module_version": "1.5.0",
            "_view_count": null,
            "_view_module_version": "1.2.0",
            "_model_module": "@jupyter-widgets/controls"
          }
        },
        "4a40ffe49c0b43bea3165b9c850fb80b": {
          "model_module": "@jupyter-widgets/base",
          "model_name": "LayoutModel",
          "model_module_version": "1.2.0",
          "state": {
            "_view_name": "LayoutView",
            "grid_template_rows": null,
            "right": null,
            "justify_content": null,
            "_view_module": "@jupyter-widgets/base",
            "overflow": null,
            "_model_module_version": "1.2.0",
            "_view_count": null,
            "flex_flow": null,
            "width": null,
            "min_width": null,
            "border": null,
            "align_items": null,
            "bottom": null,
            "_model_module": "@jupyter-widgets/base",
            "top": null,
            "grid_column": null,
            "overflow_y": null,
            "overflow_x": null,
            "grid_auto_flow": null,
            "grid_area": null,
            "grid_template_columns": null,
            "flex": null,
            "_model_name": "LayoutModel",
            "justify_items": null,
            "grid_row": null,
            "max_height": null,
            "align_content": null,
            "visibility": null,
            "align_self": null,
            "height": null,
            "min_height": null,
            "padding": null,
            "grid_auto_rows": null,
            "grid_gap": null,
            "max_width": null,
            "order": null,
            "_view_module_version": "1.2.0",
            "grid_template_areas": null,
            "object_position": null,
            "object_fit": null,
            "grid_auto_columns": null,
            "margin": null,
            "display": null,
            "left": null
          }
        },
        "1ca49c4cbc8a4118b8af146a35e572a7": {
          "model_module": "@jupyter-widgets/controls",
          "model_name": "HBoxModel",
          "model_module_version": "1.5.0",
          "state": {
            "_view_name": "HBoxView",
            "_dom_classes": [],
            "_model_name": "HBoxModel",
            "_view_module": "@jupyter-widgets/controls",
            "_model_module_version": "1.5.0",
            "_view_count": null,
            "_view_module_version": "1.5.0",
            "box_style": "",
            "layout": "IPY_MODEL_ebb84ad1627444f0b45442ba1f80ca5c",
            "_model_module": "@jupyter-widgets/controls",
            "children": [
              "IPY_MODEL_3c75d9a9670649ae8e8c9d2bae2dfeb7",
              "IPY_MODEL_19caad7ae9b14bb299dd8ec8ac44f06f",
              "IPY_MODEL_8aaa4445b13447b395de1319ff3ea15c"
            ]
          }
        },
        "ebb84ad1627444f0b45442ba1f80ca5c": {
          "model_module": "@jupyter-widgets/base",
          "model_name": "LayoutModel",
          "model_module_version": "1.2.0",
          "state": {
            "_view_name": "LayoutView",
            "grid_template_rows": null,
            "right": null,
            "justify_content": null,
            "_view_module": "@jupyter-widgets/base",
            "overflow": null,
            "_model_module_version": "1.2.0",
            "_view_count": null,
            "flex_flow": null,
            "width": null,
            "min_width": null,
            "border": null,
            "align_items": null,
            "bottom": null,
            "_model_module": "@jupyter-widgets/base",
            "top": null,
            "grid_column": null,
            "overflow_y": null,
            "overflow_x": null,
            "grid_auto_flow": null,
            "grid_area": null,
            "grid_template_columns": null,
            "flex": null,
            "_model_name": "LayoutModel",
            "justify_items": null,
            "grid_row": null,
            "max_height": null,
            "align_content": null,
            "visibility": null,
            "align_self": null,
            "height": null,
            "min_height": null,
            "padding": null,
            "grid_auto_rows": null,
            "grid_gap": null,
            "max_width": null,
            "order": null,
            "_view_module_version": "1.2.0",
            "grid_template_areas": null,
            "object_position": null,
            "object_fit": null,
            "grid_auto_columns": null,
            "margin": null,
            "display": null,
            "left": null
          }
        },
        "3c75d9a9670649ae8e8c9d2bae2dfeb7": {
          "model_module": "@jupyter-widgets/controls",
          "model_name": "HTMLModel",
          "model_module_version": "1.5.0",
          "state": {
            "_view_name": "HTMLView",
            "style": "IPY_MODEL_22efd54beaab41c5879b0897e918c5bd",
            "_dom_classes": [],
            "description": "",
            "_model_name": "HTMLModel",
            "placeholder": "​",
            "_view_module": "@jupyter-widgets/controls",
            "_model_module_version": "1.5.0",
            "value": "",
            "_view_count": null,
            "_view_module_version": "1.5.0",
            "description_tooltip": null,
            "_model_module": "@jupyter-widgets/controls",
            "layout": "IPY_MODEL_79c60ffe706e412f97f3b6982614163b"
          }
        },
        "19caad7ae9b14bb299dd8ec8ac44f06f": {
          "model_module": "@jupyter-widgets/controls",
          "model_name": "FloatProgressModel",
          "model_module_version": "1.5.0",
          "state": {
            "_view_name": "ProgressView",
            "style": "IPY_MODEL_8be9911db0f64c019a790f73d6f980a7",
            "_dom_classes": [],
            "description": "",
            "_model_name": "FloatProgressModel",
            "bar_style": "success",
            "max": 4422102,
            "_view_module": "@jupyter-widgets/controls",
            "_model_module_version": "1.5.0",
            "value": 4422102,
            "_view_count": null,
            "_view_module_version": "1.5.0",
            "orientation": "horizontal",
            "min": 0,
            "description_tooltip": null,
            "_model_module": "@jupyter-widgets/controls",
            "layout": "IPY_MODEL_d58effb3a5084002912de6c7070110f5"
          }
        },
        "8aaa4445b13447b395de1319ff3ea15c": {
          "model_module": "@jupyter-widgets/controls",
          "model_name": "HTMLModel",
          "model_module_version": "1.5.0",
          "state": {
            "_view_name": "HTMLView",
            "style": "IPY_MODEL_89872315e53448a78680a9e109074c0e",
            "_dom_classes": [],
            "description": "",
            "_model_name": "HTMLModel",
            "placeholder": "​",
            "_view_module": "@jupyter-widgets/controls",
            "_model_module_version": "1.5.0",
            "value": " 4422656/? [00:01&lt;00:00, 5218678.68it/s]",
            "_view_count": null,
            "_view_module_version": "1.5.0",
            "description_tooltip": null,
            "_model_module": "@jupyter-widgets/controls",
            "layout": "IPY_MODEL_56517d379fcc4063ac922d58f0469d31"
          }
        },
        "22efd54beaab41c5879b0897e918c5bd": {
          "model_module": "@jupyter-widgets/controls",
          "model_name": "DescriptionStyleModel",
          "model_module_version": "1.5.0",
          "state": {
            "_view_name": "StyleView",
            "_model_name": "DescriptionStyleModel",
            "description_width": "",
            "_view_module": "@jupyter-widgets/base",
            "_model_module_version": "1.5.0",
            "_view_count": null,
            "_view_module_version": "1.2.0",
            "_model_module": "@jupyter-widgets/controls"
          }
        },
        "79c60ffe706e412f97f3b6982614163b": {
          "model_module": "@jupyter-widgets/base",
          "model_name": "LayoutModel",
          "model_module_version": "1.2.0",
          "state": {
            "_view_name": "LayoutView",
            "grid_template_rows": null,
            "right": null,
            "justify_content": null,
            "_view_module": "@jupyter-widgets/base",
            "overflow": null,
            "_model_module_version": "1.2.0",
            "_view_count": null,
            "flex_flow": null,
            "width": null,
            "min_width": null,
            "border": null,
            "align_items": null,
            "bottom": null,
            "_model_module": "@jupyter-widgets/base",
            "top": null,
            "grid_column": null,
            "overflow_y": null,
            "overflow_x": null,
            "grid_auto_flow": null,
            "grid_area": null,
            "grid_template_columns": null,
            "flex": null,
            "_model_name": "LayoutModel",
            "justify_items": null,
            "grid_row": null,
            "max_height": null,
            "align_content": null,
            "visibility": null,
            "align_self": null,
            "height": null,
            "min_height": null,
            "padding": null,
            "grid_auto_rows": null,
            "grid_gap": null,
            "max_width": null,
            "order": null,
            "_view_module_version": "1.2.0",
            "grid_template_areas": null,
            "object_position": null,
            "object_fit": null,
            "grid_auto_columns": null,
            "margin": null,
            "display": null,
            "left": null
          }
        },
        "8be9911db0f64c019a790f73d6f980a7": {
          "model_module": "@jupyter-widgets/controls",
          "model_name": "ProgressStyleModel",
          "model_module_version": "1.5.0",
          "state": {
            "_view_name": "StyleView",
            "_model_name": "ProgressStyleModel",
            "description_width": "",
            "_view_module": "@jupyter-widgets/base",
            "_model_module_version": "1.5.0",
            "_view_count": null,
            "_view_module_version": "1.2.0",
            "bar_color": null,
            "_model_module": "@jupyter-widgets/controls"
          }
        },
        "d58effb3a5084002912de6c7070110f5": {
          "model_module": "@jupyter-widgets/base",
          "model_name": "LayoutModel",
          "model_module_version": "1.2.0",
          "state": {
            "_view_name": "LayoutView",
            "grid_template_rows": null,
            "right": null,
            "justify_content": null,
            "_view_module": "@jupyter-widgets/base",
            "overflow": null,
            "_model_module_version": "1.2.0",
            "_view_count": null,
            "flex_flow": null,
            "width": null,
            "min_width": null,
            "border": null,
            "align_items": null,
            "bottom": null,
            "_model_module": "@jupyter-widgets/base",
            "top": null,
            "grid_column": null,
            "overflow_y": null,
            "overflow_x": null,
            "grid_auto_flow": null,
            "grid_area": null,
            "grid_template_columns": null,
            "flex": null,
            "_model_name": "LayoutModel",
            "justify_items": null,
            "grid_row": null,
            "max_height": null,
            "align_content": null,
            "visibility": null,
            "align_self": null,
            "height": null,
            "min_height": null,
            "padding": null,
            "grid_auto_rows": null,
            "grid_gap": null,
            "max_width": null,
            "order": null,
            "_view_module_version": "1.2.0",
            "grid_template_areas": null,
            "object_position": null,
            "object_fit": null,
            "grid_auto_columns": null,
            "margin": null,
            "display": null,
            "left": null
          }
        },
        "89872315e53448a78680a9e109074c0e": {
          "model_module": "@jupyter-widgets/controls",
          "model_name": "DescriptionStyleModel",
          "model_module_version": "1.5.0",
          "state": {
            "_view_name": "StyleView",
            "_model_name": "DescriptionStyleModel",
            "description_width": "",
            "_view_module": "@jupyter-widgets/base",
            "_model_module_version": "1.5.0",
            "_view_count": null,
            "_view_module_version": "1.2.0",
            "_model_module": "@jupyter-widgets/controls"
          }
        },
        "56517d379fcc4063ac922d58f0469d31": {
          "model_module": "@jupyter-widgets/base",
          "model_name": "LayoutModel",
          "model_module_version": "1.2.0",
          "state": {
            "_view_name": "LayoutView",
            "grid_template_rows": null,
            "right": null,
            "justify_content": null,
            "_view_module": "@jupyter-widgets/base",
            "overflow": null,
            "_model_module_version": "1.2.0",
            "_view_count": null,
            "flex_flow": null,
            "width": null,
            "min_width": null,
            "border": null,
            "align_items": null,
            "bottom": null,
            "_model_module": "@jupyter-widgets/base",
            "top": null,
            "grid_column": null,
            "overflow_y": null,
            "overflow_x": null,
            "grid_auto_flow": null,
            "grid_area": null,
            "grid_template_columns": null,
            "flex": null,
            "_model_name": "LayoutModel",
            "justify_items": null,
            "grid_row": null,
            "max_height": null,
            "align_content": null,
            "visibility": null,
            "align_self": null,
            "height": null,
            "min_height": null,
            "padding": null,
            "grid_auto_rows": null,
            "grid_gap": null,
            "max_width": null,
            "order": null,
            "_view_module_version": "1.2.0",
            "grid_template_areas": null,
            "object_position": null,
            "object_fit": null,
            "grid_auto_columns": null,
            "margin": null,
            "display": null,
            "left": null
          }
        },
        "c728eb4dedf8473c952cfaeee50b9ae2": {
          "model_module": "@jupyter-widgets/controls",
          "model_name": "HBoxModel",
          "model_module_version": "1.5.0",
          "state": {
            "_view_name": "HBoxView",
            "_dom_classes": [],
            "_model_name": "HBoxModel",
            "_view_module": "@jupyter-widgets/controls",
            "_model_module_version": "1.5.0",
            "_view_count": null,
            "_view_module_version": "1.5.0",
            "box_style": "",
            "layout": "IPY_MODEL_2a5b8f2f62164d8c9b174cfb3105f408",
            "_model_module": "@jupyter-widgets/controls",
            "children": [
              "IPY_MODEL_2abad6f4e9b843e591529fd2c19bda0f",
              "IPY_MODEL_89f91060735045cabf32711b116b6de4",
              "IPY_MODEL_59a9ffcce867419e95839756d3138ac0"
            ]
          }
        },
        "2a5b8f2f62164d8c9b174cfb3105f408": {
          "model_module": "@jupyter-widgets/base",
          "model_name": "LayoutModel",
          "model_module_version": "1.2.0",
          "state": {
            "_view_name": "LayoutView",
            "grid_template_rows": null,
            "right": null,
            "justify_content": null,
            "_view_module": "@jupyter-widgets/base",
            "overflow": null,
            "_model_module_version": "1.2.0",
            "_view_count": null,
            "flex_flow": null,
            "width": null,
            "min_width": null,
            "border": null,
            "align_items": null,
            "bottom": null,
            "_model_module": "@jupyter-widgets/base",
            "top": null,
            "grid_column": null,
            "overflow_y": null,
            "overflow_x": null,
            "grid_auto_flow": null,
            "grid_area": null,
            "grid_template_columns": null,
            "flex": null,
            "_model_name": "LayoutModel",
            "justify_items": null,
            "grid_row": null,
            "max_height": null,
            "align_content": null,
            "visibility": null,
            "align_self": null,
            "height": null,
            "min_height": null,
            "padding": null,
            "grid_auto_rows": null,
            "grid_gap": null,
            "max_width": null,
            "order": null,
            "_view_module_version": "1.2.0",
            "grid_template_areas": null,
            "object_position": null,
            "object_fit": null,
            "grid_auto_columns": null,
            "margin": null,
            "display": null,
            "left": null
          }
        },
        "2abad6f4e9b843e591529fd2c19bda0f": {
          "model_module": "@jupyter-widgets/controls",
          "model_name": "HTMLModel",
          "model_module_version": "1.5.0",
          "state": {
            "_view_name": "HTMLView",
            "style": "IPY_MODEL_15609b8073294dd9ae53ae63e5936ec1",
            "_dom_classes": [],
            "description": "",
            "_model_name": "HTMLModel",
            "placeholder": "​",
            "_view_module": "@jupyter-widgets/controls",
            "_model_module_version": "1.5.0",
            "value": "",
            "_view_count": null,
            "_view_module_version": "1.5.0",
            "description_tooltip": null,
            "_model_module": "@jupyter-widgets/controls",
            "layout": "IPY_MODEL_e9da62a8b825407d913cd03a3c60db16"
          }
        },
        "89f91060735045cabf32711b116b6de4": {
          "model_module": "@jupyter-widgets/controls",
          "model_name": "FloatProgressModel",
          "model_module_version": "1.5.0",
          "state": {
            "_view_name": "ProgressView",
            "style": "IPY_MODEL_c3c4bf24a68d4ab0bed1329962e0967a",
            "_dom_classes": [],
            "description": "",
            "_model_name": "FloatProgressModel",
            "bar_style": "success",
            "max": 5148,
            "_view_module": "@jupyter-widgets/controls",
            "_model_module_version": "1.5.0",
            "value": 5148,
            "_view_count": null,
            "_view_module_version": "1.5.0",
            "orientation": "horizontal",
            "min": 0,
            "description_tooltip": null,
            "_model_module": "@jupyter-widgets/controls",
            "layout": "IPY_MODEL_96abf67ea51d4659bfde501944e9a26b"
          }
        },
        "59a9ffcce867419e95839756d3138ac0": {
          "model_module": "@jupyter-widgets/controls",
          "model_name": "HTMLModel",
          "model_module_version": "1.5.0",
          "state": {
            "_view_name": "HTMLView",
            "style": "IPY_MODEL_7aa8c5045472484b9baee5fcbacee0d0",
            "_dom_classes": [],
            "description": "",
            "_model_name": "HTMLModel",
            "placeholder": "​",
            "_view_module": "@jupyter-widgets/controls",
            "_model_module_version": "1.5.0",
            "value": " 6144/? [00:00&lt;00:00, 137832.97it/s]",
            "_view_count": null,
            "_view_module_version": "1.5.0",
            "description_tooltip": null,
            "_model_module": "@jupyter-widgets/controls",
            "layout": "IPY_MODEL_0af40885ed32446982c45c3627af98bc"
          }
        },
        "15609b8073294dd9ae53ae63e5936ec1": {
          "model_module": "@jupyter-widgets/controls",
          "model_name": "DescriptionStyleModel",
          "model_module_version": "1.5.0",
          "state": {
            "_view_name": "StyleView",
            "_model_name": "DescriptionStyleModel",
            "description_width": "",
            "_view_module": "@jupyter-widgets/base",
            "_model_module_version": "1.5.0",
            "_view_count": null,
            "_view_module_version": "1.2.0",
            "_model_module": "@jupyter-widgets/controls"
          }
        },
        "e9da62a8b825407d913cd03a3c60db16": {
          "model_module": "@jupyter-widgets/base",
          "model_name": "LayoutModel",
          "model_module_version": "1.2.0",
          "state": {
            "_view_name": "LayoutView",
            "grid_template_rows": null,
            "right": null,
            "justify_content": null,
            "_view_module": "@jupyter-widgets/base",
            "overflow": null,
            "_model_module_version": "1.2.0",
            "_view_count": null,
            "flex_flow": null,
            "width": null,
            "min_width": null,
            "border": null,
            "align_items": null,
            "bottom": null,
            "_model_module": "@jupyter-widgets/base",
            "top": null,
            "grid_column": null,
            "overflow_y": null,
            "overflow_x": null,
            "grid_auto_flow": null,
            "grid_area": null,
            "grid_template_columns": null,
            "flex": null,
            "_model_name": "LayoutModel",
            "justify_items": null,
            "grid_row": null,
            "max_height": null,
            "align_content": null,
            "visibility": null,
            "align_self": null,
            "height": null,
            "min_height": null,
            "padding": null,
            "grid_auto_rows": null,
            "grid_gap": null,
            "max_width": null,
            "order": null,
            "_view_module_version": "1.2.0",
            "grid_template_areas": null,
            "object_position": null,
            "object_fit": null,
            "grid_auto_columns": null,
            "margin": null,
            "display": null,
            "left": null
          }
        },
        "c3c4bf24a68d4ab0bed1329962e0967a": {
          "model_module": "@jupyter-widgets/controls",
          "model_name": "ProgressStyleModel",
          "model_module_version": "1.5.0",
          "state": {
            "_view_name": "StyleView",
            "_model_name": "ProgressStyleModel",
            "description_width": "",
            "_view_module": "@jupyter-widgets/base",
            "_model_module_version": "1.5.0",
            "_view_count": null,
            "_view_module_version": "1.2.0",
            "bar_color": null,
            "_model_module": "@jupyter-widgets/controls"
          }
        },
        "96abf67ea51d4659bfde501944e9a26b": {
          "model_module": "@jupyter-widgets/base",
          "model_name": "LayoutModel",
          "model_module_version": "1.2.0",
          "state": {
            "_view_name": "LayoutView",
            "grid_template_rows": null,
            "right": null,
            "justify_content": null,
            "_view_module": "@jupyter-widgets/base",
            "overflow": null,
            "_model_module_version": "1.2.0",
            "_view_count": null,
            "flex_flow": null,
            "width": null,
            "min_width": null,
            "border": null,
            "align_items": null,
            "bottom": null,
            "_model_module": "@jupyter-widgets/base",
            "top": null,
            "grid_column": null,
            "overflow_y": null,
            "overflow_x": null,
            "grid_auto_flow": null,
            "grid_area": null,
            "grid_template_columns": null,
            "flex": null,
            "_model_name": "LayoutModel",
            "justify_items": null,
            "grid_row": null,
            "max_height": null,
            "align_content": null,
            "visibility": null,
            "align_self": null,
            "height": null,
            "min_height": null,
            "padding": null,
            "grid_auto_rows": null,
            "grid_gap": null,
            "max_width": null,
            "order": null,
            "_view_module_version": "1.2.0",
            "grid_template_areas": null,
            "object_position": null,
            "object_fit": null,
            "grid_auto_columns": null,
            "margin": null,
            "display": null,
            "left": null
          }
        },
        "7aa8c5045472484b9baee5fcbacee0d0": {
          "model_module": "@jupyter-widgets/controls",
          "model_name": "DescriptionStyleModel",
          "model_module_version": "1.5.0",
          "state": {
            "_view_name": "StyleView",
            "_model_name": "DescriptionStyleModel",
            "description_width": "",
            "_view_module": "@jupyter-widgets/base",
            "_model_module_version": "1.5.0",
            "_view_count": null,
            "_view_module_version": "1.2.0",
            "_model_module": "@jupyter-widgets/controls"
          }
        },
        "0af40885ed32446982c45c3627af98bc": {
          "model_module": "@jupyter-widgets/base",
          "model_name": "LayoutModel",
          "model_module_version": "1.2.0",
          "state": {
            "_view_name": "LayoutView",
            "grid_template_rows": null,
            "right": null,
            "justify_content": null,
            "_view_module": "@jupyter-widgets/base",
            "overflow": null,
            "_model_module_version": "1.2.0",
            "_view_count": null,
            "flex_flow": null,
            "width": null,
            "min_width": null,
            "border": null,
            "align_items": null,
            "bottom": null,
            "_model_module": "@jupyter-widgets/base",
            "top": null,
            "grid_column": null,
            "overflow_y": null,
            "overflow_x": null,
            "grid_auto_flow": null,
            "grid_area": null,
            "grid_template_columns": null,
            "flex": null,
            "_model_name": "LayoutModel",
            "justify_items": null,
            "grid_row": null,
            "max_height": null,
            "align_content": null,
            "visibility": null,
            "align_self": null,
            "height": null,
            "min_height": null,
            "padding": null,
            "grid_auto_rows": null,
            "grid_gap": null,
            "max_width": null,
            "order": null,
            "_view_module_version": "1.2.0",
            "grid_template_areas": null,
            "object_position": null,
            "object_fit": null,
            "grid_auto_columns": null,
            "margin": null,
            "display": null,
            "left": null
          }
        }
      }
    },
    "accelerator": "GPU"
  },
  "nbformat": 4,
  "nbformat_minor": 0
}