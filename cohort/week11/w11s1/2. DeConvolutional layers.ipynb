{
 "cells": [
  {
   "cell_type": "markdown",
   "id": "273d70ab",
   "metadata": {},
   "source": [
    "# 2. DeConvolutional layers\n",
    "\n",
    "### Imports"
   ]
  },
  {
   "cell_type": "code",
   "execution_count": 1,
   "id": "5279fcf7",
   "metadata": {},
   "outputs": [],
   "source": [
    "# Imports\n",
    "import torch\n",
    "import torch.nn as nn\n",
    "import torch.nn.functional as F\n",
    "import torch.optim as optim\n",
    "import matplotlib.pyplot as plt\n",
    "from torchvision import datasets, transforms"
   ]
  },
  {
   "cell_type": "markdown",
   "id": "99771cfc",
   "metadata": {},
   "source": [
    "### Standard 2D convolution"
   ]
  },
  {
   "cell_type": "code",
   "execution_count": 2,
   "id": "4a6d6480",
   "metadata": {},
   "outputs": [],
   "source": [
    "# A standard 2D Convolution\n",
    "conv = nn.Conv2d(in_channels = 8, \\\n",
    "                 out_channels = 8, \\\n",
    "                 kernel_size = 5)"
   ]
  },
  {
   "cell_type": "code",
   "execution_count": 3,
   "id": "51d93485",
   "metadata": {},
   "outputs": [
    {
     "name": "stdout",
     "output_type": "stream",
     "text": [
      "torch.Size([2, 8, 64, 64])\n"
     ]
    }
   ],
   "source": [
    "x = torch.randn(2, 8, 64, 64)\n",
    "print(x.shape)"
   ]
  },
  {
   "cell_type": "code",
   "execution_count": 4,
   "id": "84bef76b",
   "metadata": {},
   "outputs": [
    {
     "name": "stdout",
     "output_type": "stream",
     "text": [
      "torch.Size([2, 8, 60, 60])\n"
     ]
    }
   ],
   "source": [
    "y = conv(x)\n",
    "print(y.shape)"
   ]
  },
  {
   "cell_type": "code",
   "execution_count": 5,
   "id": "5fee3b67",
   "metadata": {},
   "outputs": [
    {
     "name": "stdout",
     "output_type": "stream",
     "text": [
      "torch.Size([2, 8, 64, 64])\n"
     ]
    }
   ],
   "source": [
    "# A deconvolution layer\n",
    "convt = nn.ConvTranspose2d(in_channels = 8, \\\n",
    "                           out_channels = 8, \\\n",
    "                           kernel_size = 5)\n",
    "z = convt(y)\n",
    "print(z.shape)"
   ]
  },
  {
   "cell_type": "code",
   "execution_count": 6,
   "id": "69784947",
   "metadata": {},
   "outputs": [
    {
     "name": "stdout",
     "output_type": "stream",
     "text": [
      "tensor([ 3.2701e-01, -1.1409e+00, -2.6744e-01,  9.5400e-01,  1.6467e-01,\n",
      "         1.7081e+00,  3.4932e-01, -7.6465e-02,  3.0330e-01,  2.2764e-01,\n",
      "         1.8534e+00,  3.7881e-02,  8.6795e-01,  1.2376e+00, -2.1483e-02,\n",
      "        -1.0953e+00,  1.2857e+00,  5.7004e-01,  1.0504e-03, -1.3477e+00,\n",
      "        -5.1179e-01,  1.0046e+00,  2.0096e+00,  1.0222e+00,  8.3636e-01,\n",
      "        -9.7982e-01,  2.9441e-01,  6.3495e-01,  2.8067e+00,  3.4034e-01,\n",
      "        -1.6452e+00, -7.3671e-01,  5.6836e-02,  1.0469e+00, -8.0739e-01,\n",
      "         9.8109e-01, -1.5520e+00,  3.6133e-01, -2.8597e-01,  1.8081e-03,\n",
      "         6.2595e-01, -6.7382e-01, -8.1220e-02, -5.1628e-01,  5.2801e-01,\n",
      "        -7.5166e-01,  1.7441e+00, -3.2444e-01,  1.7965e+00, -1.0889e+00,\n",
      "        -7.0280e-01,  1.3746e+00,  4.7648e-01, -1.6976e+00,  1.6281e+00,\n",
      "        -2.0097e-01, -4.4380e-01,  9.7004e-01, -6.9426e-02, -1.9581e+00,\n",
      "        -1.4376e-01, -3.5654e-01,  1.9255e+00, -8.9224e-01])\n",
      "tensor([ 0.0154,  0.0514,  0.1112, -0.0337,  0.1008, -0.0296,  0.1002, -0.0454,\n",
      "        -0.1231, -0.0239, -0.3192,  0.1155,  0.0842,  0.2349,  0.0396,  0.0931,\n",
      "         0.0076,  0.2255, -0.1290,  0.0698, -0.0128,  0.0861,  0.0129, -0.1228,\n",
      "         0.0206, -0.1141,  0.1326, -0.2594,  0.2738, -0.0127,  0.0030, -0.0260,\n",
      "         0.0353, -0.1435, -0.4033, -0.2818,  0.0528, -0.2649, -0.1924, -0.1136,\n",
      "         0.0890,  0.0344,  0.1978,  0.0920, -0.0777,  0.1891, -0.2787,  0.1748,\n",
      "        -0.0103,  0.1555,  0.0296,  0.2437,  0.0449, -0.0710,  0.0399,  0.0359,\n",
      "        -0.1672,  0.2854, -0.1000,  0.1941, -0.1169,  0.0237, -0.0809,  0.0191],\n",
      "       grad_fn=<SelectBackward>)\n"
     ]
    }
   ],
   "source": [
    "# Comparing the first line of x and z\n",
    "print(x[0, 0, 0])\n",
    "print(z[0, 0, 0])"
   ]
  },
  {
   "cell_type": "markdown",
   "id": "2aae96d9",
   "metadata": {},
   "source": [
    "### Deconvolution with padding, stride and output padding"
   ]
  },
  {
   "cell_type": "code",
   "execution_count": 7,
   "id": "d51c7e34",
   "metadata": {},
   "outputs": [
    {
     "name": "stdout",
     "output_type": "stream",
     "text": [
      "torch.Size([32, 8, 127, 127])\n"
     ]
    }
   ],
   "source": [
    "# A deconvolution layer with padding\n",
    "convt = nn.ConvTranspose2d(in_channels = 16, \\\n",
    "                           out_channels = 8, \\\n",
    "                           kernel_size = 5, \\\n",
    "                           padding = 2)\n",
    "x = torch.randn(32, 16, 64, 64)\n",
    "y = convt(x)\n",
    "print(y.shape)"
   ]
  },
  {
   "cell_type": "code",
   "execution_count": 8,
   "id": "6d4ba597",
   "metadata": {},
   "outputs": [
    {
     "name": "stdout",
     "output_type": "stream",
     "text": [
      "torch.Size([32, 8, 128, 128])\n"
     ]
    }
   ],
   "source": [
    "# A deconvolution layer with stride and padding\n",
    "convt = nn.ConvTranspose2d(in_channels = 16, \\\n",
    "                           out_channels = 8, \\\n",
    "                           kernel_size = 5, \\\n",
    "                           stride = 2, \\\n",
    "                           output_padding = 1, \\\n",
    "                           padding = 2)\n",
    "x = torch.randn(32, 16, 64, 64)\n",
    "y = convt(x)\n",
    "print(y.shape)"
   ]
  },
  {
   "cell_type": "code",
   "execution_count": null,
   "id": "a87e0cc2",
   "metadata": {},
   "outputs": [],
   "source": []
  }
 ],
 "metadata": {
  "kernelspec": {
   "display_name": "Python 3",
   "language": "python",
   "name": "python3"
  },
  "language_info": {
   "codemirror_mode": {
    "name": "ipython",
    "version": 3
   },
   "file_extension": ".py",
   "mimetype": "text/x-python",
   "name": "python",
   "nbconvert_exporter": "python",
   "pygments_lexer": "ipython3",
   "version": "3.9.3"
  }
 },
 "nbformat": 4,
 "nbformat_minor": 5
}
