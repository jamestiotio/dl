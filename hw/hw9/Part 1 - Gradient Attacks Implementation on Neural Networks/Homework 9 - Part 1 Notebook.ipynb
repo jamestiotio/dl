{
 "cells": [
  {
   "cell_type": "markdown",
   "id": "reverse-cathedral",
   "metadata": {},
   "source": [
    "# Homework 9 - Part 1 Notebook\n",
    "\n",
    "In this homework notebook, we will create an iterative and targeted gradient attack, to be used on a model trained on the CIFAR10 dataset.\n",
    "\n",
    "Get familiar with the code and write a small report (2 or 3 pages, idk), with answers to the questions listed at the end of the notebook.\n",
    "\n",
    "**The report must be submitted in PDF format, before April 8th, 11.59pm!**\n",
    "\n",
    "Do not forget to write your name and student ID on the report."
   ]
  },
  {
   "cell_type": "markdown",
   "id": "great-failure",
   "metadata": {},
   "source": [
    "### Imports needed"
   ]
  },
  {
   "cell_type": "code",
   "execution_count": null,
   "id": "boxed-theme",
   "metadata": {},
   "outputs": [],
   "source": [
    "# Future\n",
    "from __future__ import print_function\n",
    "# Matplotlib\n",
    "import matplotlib.pyplot as plt\n",
    "# Numpy\n",
    "import numpy as np\n",
    "# Pillow\n",
    "from PIL import Image\n",
    "# Torch\n",
    "import torch\n",
    "import torch.nn as nn\n",
    "import torch.nn.functional as F\n",
    "import torch.optim as optim\n",
    "from torch.autograd import Variable\n",
    "# Torchvision\n",
    "from torchvision import datasets, transforms\n",
    "# Our custom ResNet\n",
    "from resnet import *"
   ]
  },
  {
   "cell_type": "markdown",
   "id": "induced-hundred",
   "metadata": {},
   "source": [
    "### Testing for CUDA\n",
    "\n",
    "We advise running on GPU and setting up CUDA on your machine as it might drastically speed up the running time for this notebook!"
   ]
  },
  {
   "cell_type": "code",
   "execution_count": null,
   "id": "independent-macintosh",
   "metadata": {},
   "outputs": [],
   "source": [
    "# Define device for torch\n",
    "use_cuda = True\n",
    "print(\"CUDA is available:\", torch.cuda.is_available())\n",
    "device = torch.device(\"cuda\" if (use_cuda and torch.cuda.is_available()) else \"cpu\")"
   ]
  },
  {
   "cell_type": "markdown",
   "id": "static-craft",
   "metadata": {},
   "source": [
    "### Dataset and Dataloader\n",
    "\n",
    "The CIFAR-10 dataset contains 60,000 32x32 color images in 10 different classes. The 10 different classes represent airplanes, cars, birds, cats, deer, dogs, frogs, horses, ships, and trucks. There are 6,000 images of each class.\n",
    "The test set has 1000 images in each class, but for simplicity and reduced execution time, we will only use 20 images in each class to evaluate our attack functions."
   ]
  },
  {
   "cell_type": "code",
   "execution_count": null,
   "id": "genuine-humor",
   "metadata": {},
   "outputs": [],
   "source": [
    "# NOTE: This is a fix to work around the \"User-agent\" issue \n",
    "# when downloading the CIFAR10 dataset\n",
    "from six.moves import urllib\n",
    "opener_req = urllib.request.build_opener()\n",
    "opener_req.addheaders = [('User-agent', 'Mozilla/5.0')]\n",
    "urllib.request.install_opener(opener_req)"
   ]
  },
  {
   "cell_type": "code",
   "execution_count": null,
   "id": "exclusive-toner",
   "metadata": {},
   "outputs": [],
   "source": [
    "# Transform definition\n",
    "# (Basic: only convert image to torch tensor)\n",
    "tf = transforms.Compose([transforms.ToTensor()])"
   ]
  },
  {
   "cell_type": "code",
   "execution_count": null,
   "id": "level-canon",
   "metadata": {},
   "outputs": [],
   "source": [
    "# CIFAR10 dataset and dataloader\n",
    "# (For testing only, we will use a pre-trained model)\n",
    "test_dataset = torchvision.datasets.CIFAR10(root = './data/', train = False, transform = tf)\n",
    "test_dataset_reduced = torch.utils.data.Subset(test_dataset, [i for i in range(0, 200)])\n",
    "test_loader = torch.utils.data.DataLoader(dataset = test_dataset_reduced, batch_size = 1, shuffle = False)\n",
    "print(len(test_loader))"
   ]
  },
  {
   "cell_type": "markdown",
   "id": "coastal-capitol",
   "metadata": {},
   "source": [
    "### Model\n",
    "\n",
    "We will use a simple pre-trained resnet model, with architecture and trainer stored in resnet.py and weights stored in file resnet.data.\n",
    "This is a pre-trained model with a simple architecture. Its baseline accuracy is 88.16%, and a rather easy target for an attack."
   ]
  },
  {
   "cell_type": "code",
   "execution_count": null,
   "id": "french-medication",
   "metadata": {},
   "outputs": [],
   "source": [
    "# Load the pretrained model\n",
    "model = ResNet(ResidualBlock, [2, 2, 2]).to(device)\n",
    "pretrained_model = \"./resnet.data\"\n",
    "model.load_state_dict(torch.load(pretrained_model, map_location = 'cpu'))\n",
    "model.eval()"
   ]
  },
  {
   "cell_type": "markdown",
   "id": "stupid-winner",
   "metadata": {},
   "source": [
    "### Your task\n",
    "\n",
    "Write a function iugm_attack(), which performs an **untargeted iterated gradient attack**.\n",
    "- It should use the Option #2, described in class, which - on each iteration - is aiming towards the least probable class, according to the logits.\n",
    "- It should have a maximal number of iterations, set to 10 by default.\n",
    "- It has 4 inputs: our original image, the epsilon value to be used, the model under attack, the original label for the image and a maximal number of iterations for the attack.\n",
    "- Our attack function simply returns the attack sample to be evaluated by our test function."
   ]
  },
  {
   "cell_type": "code",
   "execution_count": null,
   "id": "starting-cleanup",
   "metadata": {},
   "outputs": [],
   "source": [
    "def iugm_attack(image, epsilon, model, original_label, iter_num = 10):\n",
    "    \"\"\"\n",
    "    Your code below.\n",
    "    \"\"\"\n",
    "    eps_image = None\n",
    "    return eps_image"
   ]
  },
  {
   "cell_type": "markdown",
   "id": "accomplished-toner",
   "metadata": {},
   "source": [
    "### Testing your attack on your model\n",
    "\n",
    "Below is our testing function, same as usual."
   ]
  },
  {
   "cell_type": "code",
   "execution_count": null,
   "id": "orange-glossary",
   "metadata": {},
   "outputs": [],
   "source": [
    "def test(model, device, test_loader, epsilon, max_iter = 10):\n",
    "\n",
    "    # Counter for correct values (used for accuracy)\n",
    "    correct_counter = 0\n",
    "    \n",
    "    # List of successful adversarial samples\n",
    "    adv_examples_list = []\n",
    "\n",
    "    # Loop over all examples in test set\n",
    "    for image, label in test_loader:\n",
    "        \n",
    "        # Send the data and label to the device\n",
    "        image, label = image.to(device), label.to(device)\n",
    "\n",
    "        # Set requires_grad attribute of tensor to force torch to\n",
    "        # keep track of the gradients of the image\n",
    "        # (Needed for the ugm_attack() function!)\n",
    "        image.requires_grad = True\n",
    "\n",
    "        # Pass the image through the model\n",
    "        output = model(image)\n",
    "        # Get the index of the max log-probability\n",
    "        _, init_pred = torch.max(output.data, 1)\n",
    "\n",
    "        # If the initial prediction is wrong, do not bother attacking, skip current image\n",
    "        if init_pred.item() != label.item():\n",
    "            continue\n",
    "            \n",
    "        # Call IUGM Attack\n",
    "        eps_image = iugm_attack(image, epsilon, model, label, max_iter)\n",
    "\n",
    "        # Re-classify the epsilon image\n",
    "        output2 = model(eps_image)\n",
    "        # Get the index of the max log-probability\n",
    "        _, eps_pred = torch.max(output2.data, 1)\n",
    "\n",
    "        # Check for successful attack\n",
    "        # (Successful meaning eps_pred label different from init_pred)\n",
    "        if eps_pred.item() == label.item():\n",
    "            correct_counter += 1\n",
    "            # Special case for saving 0 epsilon examples\n",
    "            # (Maximal number of saved samples is set to 5)\n",
    "            if (epsilon == 0) and (len(adv_examples_list) < 5):\n",
    "                adv_ex = eps_image.squeeze().detach().cpu().numpy()\n",
    "                adv_examples_list.append((init_pred.item(), eps_pred.item(), adv_ex))\n",
    "        else:\n",
    "            # Save some adv examples for visualization later\n",
    "            # (Maximal number of saved samples is set to 5)\n",
    "            if len(adv_examples_list) < 5:\n",
    "                adv_ex = eps_image.squeeze().detach().cpu().numpy()\n",
    "                adv_examples_list.append((init_pred.item(), eps_pred.item(), adv_ex))\n",
    "\n",
    "    # Calculate final accuracy for this epsilon value\n",
    "    final_acc = correct_counter/float(len(test_loader))\n",
    "    \n",
    "    # Display for progress\n",
    "    print(\"Epsilon: {} - Model Accuracy (under attack) = {}/{} = {}\".format(epsilon, \\\n",
    "                                                                            correct_counter, \\\n",
    "                                                                            len(test_loader), \\\n",
    "                                                                            final_acc))\n",
    "\n",
    "    # Return the accuracy and an adversarial example\n",
    "    return final_acc, adv_examples_list"
   ]
  },
  {
   "cell_type": "markdown",
   "id": "completed-providence",
   "metadata": {},
   "source": [
    "### Visualization \n",
    "\n",
    "As usual, we will display the accuracy vs. epsilon values graph for our given attack, as well as some samples for the given epsilon values.\n",
    "We will consider two different attack strategies (alpha and beta), with different epsilon values and numbers of maximal iterations \n",
    "\n",
    "#### Alpha attack: one-shot untargeted gradient attack\n",
    "\n",
    "We fix max_iter = 1, which make our iterated attack a one-shot attack.\n",
    "\n",
    "#### Beta attack: iterated untargeted gradient attack\n",
    "\n",
    "We fix max_iter = 20."
   ]
  },
  {
   "cell_type": "code",
   "execution_count": null,
   "id": "stuffed-hello",
   "metadata": {},
   "outputs": [],
   "source": [
    "# Part 1.A\n",
    "epsilons = [0, .005, .01, .02, .05,  .1, .2, .5, 1]\n",
    "accuracies = []\n",
    "examples = []\n",
    "for eps in epsilons:\n",
    "    acc, ex = test(model, device, test_loader, eps, max_iter = 1)\n",
    "    accuracies.append(acc)\n",
    "    examples.append(ex)"
   ]
  },
  {
   "cell_type": "code",
   "execution_count": null,
   "id": "following-combining",
   "metadata": {},
   "outputs": [],
   "source": [
    "# Part 1.B\n",
    "epsilons2 = [0, .001, .002, .005, .01,  .02, .05, .1, .2, .5]\n",
    "accuracies2 = []\n",
    "examples2 = []\n",
    "for eps in epsilons2:\n",
    "    acc, ex = test(model, device, test_loader, eps, max_iter = 20)\n",
    "    accuracies2.append(acc)\n",
    "    examples2.append(ex)"
   ]
  },
  {
   "cell_type": "markdown",
   "id": "native-reasoning",
   "metadata": {},
   "source": [
    "The graph below will display the accuracy vs. epsilon value for both attacks (1.A and 1.B)."
   ]
  },
  {
   "cell_type": "code",
   "execution_count": null,
   "id": "conceptual-politics",
   "metadata": {},
   "outputs": [],
   "source": [
    "# Initialize figure\n",
    "plt.figure(figsize = (10, 7))\n",
    "\n",
    "# Display accuracy vs. Epsilon values plot\n",
    "plt.plot(epsilons, accuracies, \"o-\", color = \"red\")\n",
    "plt.plot(epsilons2, accuracies2, \"o-\")\n",
    "\n",
    "# Adjust x-axis and y-axis labels and ticks\n",
    "plt.yticks(np.arange(0, 1.1, step = 0.1))\n",
    "plt.title(\"Accuracy vs. Epsilon value (one-shot as red, iterated as blue)\")\n",
    "plt.xlabel(\"Epsilon value\")\n",
    "plt.ylabel(\"Accuracy\")\n",
    "\n",
    "# Display\n",
    "plt.show()"
   ]
  },
  {
   "cell_type": "markdown",
   "id": "cb38bab0",
   "metadata": {},
   "source": [
    "We will also show some adversarial examples, to compute the plausibility threshold value for \\epsilon, using the two cells below."
   ]
  },
  {
   "cell_type": "code",
   "execution_count": null,
   "id": "athletic-visiting",
   "metadata": {},
   "outputs": [],
   "source": [
    "# Plot several examples of adversarial samples at each epsilon\n",
    "cnt = 0\n",
    "\n",
    "# Initialize figure\n",
    "plt.figure(figsize = (20, 20))\n",
    "\n",
    "# Browse through epsilon values and adversarial examples\n",
    "for i in range(len(epsilons)):\n",
    "    # If example list does not contain 5 samples for this epsilon,\n",
    "    # do not display this epsilon value\n",
    "    if len(examples[i]) != 5:\n",
    "        continue\n",
    "    for j in range(len(examples[i])):\n",
    "        cnt += 1\n",
    "        plt.subplot(len(epsilons), len(examples[0]), cnt)\n",
    "        \n",
    "        # Remove x-axis and y-axis ticks from plot\n",
    "        plt.xticks([], [])\n",
    "        plt.yticks([], [])\n",
    "        \n",
    "        # Labels for y axis\n",
    "        if j == 0:\n",
    "            plt.ylabel(\"Eps: {}\".format(epsilons[i]), fontsize = 14)\n",
    "            \n",
    "        # Labels for each image subplot\n",
    "        orig, adv, ex = examples[i][j]\n",
    "        plt.title(\"{} -> {}\".format(orig, adv))\n",
    "        \n",
    "        # Reshape ex for imshow\n",
    "        ex = np.transpose(ex, (1, 2, 0))\n",
    "        \n",
    "        # Display image\n",
    "        plt.imshow(ex)\n",
    "        \n",
    "# Display full plot\n",
    "plt.tight_layout()\n",
    "plt.show()"
   ]
  },
  {
   "cell_type": "code",
   "execution_count": null,
   "id": "dietary-buffalo",
   "metadata": {},
   "outputs": [],
   "source": [
    "# Plot several examples of adversarial samples at each epsilon\n",
    "cnt = 0\n",
    "\n",
    "# Initialize figure\n",
    "plt.figure(figsize = (20, 20))\n",
    "\n",
    "# Browse through epsilon values and adversarial examples\n",
    "for i in range(len(epsilons2)):\n",
    "    # If example list does not contain 5 samples for this epsilon,\n",
    "    # do not display this epsilon value\n",
    "    if len(examples2[i]) != 5:\n",
    "        continue\n",
    "    for j in range(len(examples2[i])):\n",
    "        cnt += 1\n",
    "        plt.subplot(len(epsilons2), len(examples2[0]), cnt)\n",
    "        \n",
    "        # Remove x-axis and y-axis ticks from plot\n",
    "        plt.xticks([], [])\n",
    "        plt.yticks([], [])\n",
    "        \n",
    "        # Labels for y axis\n",
    "        if j == 0:\n",
    "            plt.ylabel(\"Eps: {}\".format(epsilons2[i]), fontsize = 14)\n",
    "            \n",
    "        # Labels for each image subplot\n",
    "        orig, adv, ex = examples2[i][j]\n",
    "        plt.title(\"{} -> {}\".format(orig, adv))\n",
    "        \n",
    "        # Reshape ex for imshow\n",
    "        ex = np.transpose(ex, (1, 2, 0))\n",
    "        \n",
    "        # Display image\n",
    "        plt.imshow(ex)\n",
    "        \n",
    "# Display full plot\n",
    "plt.tight_layout()\n",
    "plt.show()"
   ]
  },
  {
   "cell_type": "markdown",
   "id": "numerical-observer",
   "metadata": {},
   "source": [
    "### Questions and expected answers for the report\n",
    "\n",
    "The questions listed below are related to Part 1.\n",
    "\n",
    "P1-QA. Copy and paste the code for your iugm_attack() function from this notebook.\n",
    "\n",
    "P1-QB. Take screenshots of the accuracy vs. epsilon graph and display them in your report.\n",
    "Why are the two curves different?\n",
    "Is that something we expected and how can we explain this difference of behavior?\n",
    "\n",
    "P1-QC. Take screenshots of the attack samples display for different values of epsilon and display them in your report.\n",
    "What seems to be the threshold for plausibility for both attacks (alpha and beta)?\n",
    "Is attack beta a better one?\n",
    "Why do you think that might be the case (or not)?\n",
    "\n",
    "P1-QD. Plausibility seems problematic, even with the iterated version of the gradient attack.\n",
    "Can you suggest two possible ways to improve our attack strategy on this dataset and model?"
   ]
  },
  {
   "cell_type": "code",
   "execution_count": null,
   "id": "hairy-appliance",
   "metadata": {},
   "outputs": [],
   "source": []
  }
 ],
 "metadata": {
  "kernelspec": {
   "display_name": "Python 3",
   "language": "python",
   "name": "python3"
  },
  "language_info": {
   "codemirror_mode": {
    "name": "ipython",
    "version": 3
   },
   "file_extension": ".py",
   "mimetype": "text/x-python",
   "name": "python",
   "nbconvert_exporter": "python",
   "pygments_lexer": "ipython3",
   "version": "3.9.6"
  }
 },
 "nbformat": 4,
 "nbformat_minor": 5
}
